{
 "cells": [
  {
   "cell_type": "markdown",
   "metadata": {},
   "source": [
    "<h1>Table of Contents<span class=\"tocSkip\"></span></h1>\n",
    "<div class=\"toc\"><ul class=\"toc-item\"><li><span><a href=\"#Introduction\" data-toc-modified-id=\"Introduction-1\"><span class=\"toc-item-num\">1&nbsp;&nbsp;</span>Introduction</a></span></li><li><span><a href=\"#Inisiasi\" data-toc-modified-id=\"Inisiasi-2\"><span class=\"toc-item-num\">2&nbsp;&nbsp;</span>Inisiasi</a></span></li><li><span><a href=\"#Pengujian-Model\" data-toc-modified-id=\"Pengujian-Model-3\"><span class=\"toc-item-num\">3&nbsp;&nbsp;</span>Pengujian Model</a></span></li><li><span><a href=\"#Kesimpulan\" data-toc-modified-id=\"Kesimpulan-4\"><span class=\"toc-item-num\">4&nbsp;&nbsp;</span>Kesimpulan</a></span></li></ul></div>"
   ]
  },
  {
   "cell_type": "markdown",
   "metadata": {},
   "source": [
    "## Introduction "
   ]
  },
  {
   "cell_type": "markdown",
   "metadata": {},
   "source": [
    "Pada penelitian ini, kita diminta oleh salah satu perusahaan telekomunikasi yang bergerak di bidang operator seluler bernama Megaline untuk mengembangkan sebuah model untuk merekomendasikan salah 1 dari 2 paket yang tersedia. Kita juga mendapat dataset yang berisi perilaku bulanan pada setiap pengguna. Model yang perlu kita kembangkan perlu setidaknya memiliki tingkat akurasi diatas 75%. Kita perlu menentukan jenis pendekatan yang akan digunakan, setelah itu, barulah kita bisa mencoba beberapa model untuk memilih kualitas model dengan akurasi tertinggi. "
   ]
  },
  {
   "cell_type": "markdown",
   "metadata": {},
   "source": [
    "## Inisiasi "
   ]
  },
  {
   "cell_type": "markdown",
   "metadata": {},
   "source": [
    "Seperti proses pada umumnya, kita perlu melakukan inisiasi terlebih dahulu sebelum memulai projek ini. Yaitu dengan mengimport semua library yang mungkin dibutuhkan dalam penelitian ini, dan membaca dataset yang sudah disediakan."
   ]
  },
  {
   "cell_type": "code",
   "execution_count": 1,
   "metadata": {},
   "outputs": [],
   "source": [
    "import pandas as pd\n",
    "from sklearn.model_selection import train_test_split\n",
    "from sklearn.tree import DecisionTreeClassifier\n",
    "from sklearn.ensemble import RandomForestClassifier\n",
    "from sklearn.linear_model import LogisticRegression\n",
    "from sklearn.metrics import accuracy_score"
   ]
  },
  {
   "cell_type": "code",
   "execution_count": 2,
   "metadata": {},
   "outputs": [],
   "source": [
    "df = pd.read_csv('datasets/users_behavior.csv')"
   ]
  },
  {
   "cell_type": "code",
   "execution_count": 3,
   "metadata": {},
   "outputs": [
    {
     "name": "stdout",
     "output_type": "stream",
     "text": [
      "<class 'pandas.core.frame.DataFrame'>\n",
      "RangeIndex: 3214 entries, 0 to 3213\n",
      "Data columns (total 5 columns):\n",
      " #   Column    Non-Null Count  Dtype  \n",
      "---  ------    --------------  -----  \n",
      " 0   calls     3214 non-null   float64\n",
      " 1   minutes   3214 non-null   float64\n",
      " 2   messages  3214 non-null   float64\n",
      " 3   mb_used   3214 non-null   float64\n",
      " 4   is_ultra  3214 non-null   int64  \n",
      "dtypes: float64(4), int64(1)\n",
      "memory usage: 125.7 KB\n"
     ]
    }
   ],
   "source": [
    "#df.loc[(df['minutes'] > 500) | (df['messages'] > 50) | (df['mb_used'] > 15360), 'recommend_is_ultra'] = 1\n",
    "#df.loc[(df['minutes'] <= 500) & (df['messages'] <= 50) & (df['mb_used'] <= 15360), 'recommend_is_ultra'] = 0\n",
    "df.info()"
   ]
  },
  {
   "cell_type": "markdown",
   "metadata": {},
   "source": [
    "Setelah itu, kita akan membagi dataset kita ke 3 dataset, yang terdiri dari data untuk training, data untuk melakukan validasi, dan data untuk testing. Pembagian ini dilakukan agar hasil penilaian kualitas model bisa diandalkan. Pembagiannya sediri dengan menggunakan rasio 3:1:1, yaitu 60% data training, 20% data validation dan 20% data test."
   ]
  },
  {
   "cell_type": "code",
   "execution_count": 4,
   "metadata": {},
   "outputs": [],
   "source": [
    "df_train, df_validation = train_test_split(df, test_size=0.40, random_state=12345)\n",
    "df_validation, df_test = train_test_split(df_validation, test_size=0.50, random_state=12345)"
   ]
  },
  {
   "cell_type": "code",
   "execution_count": 5,
   "metadata": {},
   "outputs": [
    {
     "name": "stdout",
     "output_type": "stream",
     "text": [
      "<class 'pandas.core.frame.DataFrame'>\n",
      "Index: 1928 entries, 3027 to 482\n",
      "Data columns (total 5 columns):\n",
      " #   Column    Non-Null Count  Dtype  \n",
      "---  ------    --------------  -----  \n",
      " 0   calls     1928 non-null   float64\n",
      " 1   minutes   1928 non-null   float64\n",
      " 2   messages  1928 non-null   float64\n",
      " 3   mb_used   1928 non-null   float64\n",
      " 4   is_ultra  1928 non-null   int64  \n",
      "dtypes: float64(4), int64(1)\n",
      "memory usage: 90.4 KB\n"
     ]
    }
   ],
   "source": [
    "df_train.info()"
   ]
  },
  {
   "cell_type": "code",
   "execution_count": 6,
   "metadata": {},
   "outputs": [
    {
     "name": "stdout",
     "output_type": "stream",
     "text": [
      "<class 'pandas.core.frame.DataFrame'>\n",
      "Index: 643 entries, 1386 to 3197\n",
      "Data columns (total 5 columns):\n",
      " #   Column    Non-Null Count  Dtype  \n",
      "---  ------    --------------  -----  \n",
      " 0   calls     643 non-null    float64\n",
      " 1   minutes   643 non-null    float64\n",
      " 2   messages  643 non-null    float64\n",
      " 3   mb_used   643 non-null    float64\n",
      " 4   is_ultra  643 non-null    int64  \n",
      "dtypes: float64(4), int64(1)\n",
      "memory usage: 30.1 KB\n"
     ]
    }
   ],
   "source": [
    "df_validation.info()"
   ]
  },
  {
   "cell_type": "code",
   "execution_count": 7,
   "metadata": {},
   "outputs": [
    {
     "name": "stdout",
     "output_type": "stream",
     "text": [
      "<class 'pandas.core.frame.DataFrame'>\n",
      "Index: 643 entries, 160 to 2313\n",
      "Data columns (total 5 columns):\n",
      " #   Column    Non-Null Count  Dtype  \n",
      "---  ------    --------------  -----  \n",
      " 0   calls     643 non-null    float64\n",
      " 1   minutes   643 non-null    float64\n",
      " 2   messages  643 non-null    float64\n",
      " 3   mb_used   643 non-null    float64\n",
      " 4   is_ultra  643 non-null    int64  \n",
      "dtypes: float64(4), int64(1)\n",
      "memory usage: 30.1 KB\n"
     ]
    }
   ],
   "source": [
    "df_test.info()"
   ]
  },
  {
   "cell_type": "code",
   "execution_count": 8,
   "metadata": {},
   "outputs": [
    {
     "data": {
      "text/html": [
       "<div>\n",
       "<style scoped>\n",
       "    .dataframe tbody tr th:only-of-type {\n",
       "        vertical-align: middle;\n",
       "    }\n",
       "\n",
       "    .dataframe tbody tr th {\n",
       "        vertical-align: top;\n",
       "    }\n",
       "\n",
       "    .dataframe thead th {\n",
       "        text-align: right;\n",
       "    }\n",
       "</style>\n",
       "<table border=\"1\" class=\"dataframe\">\n",
       "  <thead>\n",
       "    <tr style=\"text-align: right;\">\n",
       "      <th></th>\n",
       "      <th>calls</th>\n",
       "      <th>minutes</th>\n",
       "      <th>messages</th>\n",
       "      <th>mb_used</th>\n",
       "      <th>is_ultra</th>\n",
       "    </tr>\n",
       "  </thead>\n",
       "  <tbody>\n",
       "    <tr>\n",
       "      <th>1129</th>\n",
       "      <td>71.0</td>\n",
       "      <td>453.98</td>\n",
       "      <td>43.0</td>\n",
       "      <td>13603.54</td>\n",
       "      <td>0</td>\n",
       "    </tr>\n",
       "    <tr>\n",
       "      <th>516</th>\n",
       "      <td>53.0</td>\n",
       "      <td>385.59</td>\n",
       "      <td>63.0</td>\n",
       "      <td>16987.84</td>\n",
       "      <td>0</td>\n",
       "    </tr>\n",
       "    <tr>\n",
       "      <th>1695</th>\n",
       "      <td>62.0</td>\n",
       "      <td>473.14</td>\n",
       "      <td>4.0</td>\n",
       "      <td>14623.29</td>\n",
       "      <td>1</td>\n",
       "    </tr>\n",
       "    <tr>\n",
       "      <th>2878</th>\n",
       "      <td>90.0</td>\n",
       "      <td>738.58</td>\n",
       "      <td>8.0</td>\n",
       "      <td>22070.76</td>\n",
       "      <td>0</td>\n",
       "    </tr>\n",
       "    <tr>\n",
       "      <th>173</th>\n",
       "      <td>64.0</td>\n",
       "      <td>403.51</td>\n",
       "      <td>54.0</td>\n",
       "      <td>19127.25</td>\n",
       "      <td>0</td>\n",
       "    </tr>\n",
       "    <tr>\n",
       "      <th>1697</th>\n",
       "      <td>33.0</td>\n",
       "      <td>214.38</td>\n",
       "      <td>14.0</td>\n",
       "      <td>11608.63</td>\n",
       "      <td>0</td>\n",
       "    </tr>\n",
       "    <tr>\n",
       "      <th>917</th>\n",
       "      <td>90.0</td>\n",
       "      <td>547.42</td>\n",
       "      <td>7.0</td>\n",
       "      <td>13741.10</td>\n",
       "      <td>0</td>\n",
       "    </tr>\n",
       "    <tr>\n",
       "      <th>2857</th>\n",
       "      <td>37.0</td>\n",
       "      <td>292.84</td>\n",
       "      <td>18.0</td>\n",
       "      <td>4080.59</td>\n",
       "      <td>0</td>\n",
       "    </tr>\n",
       "    <tr>\n",
       "      <th>292</th>\n",
       "      <td>86.0</td>\n",
       "      <td>567.58</td>\n",
       "      <td>47.0</td>\n",
       "      <td>16861.08</td>\n",
       "      <td>1</td>\n",
       "    </tr>\n",
       "    <tr>\n",
       "      <th>1376</th>\n",
       "      <td>122.0</td>\n",
       "      <td>848.33</td>\n",
       "      <td>0.0</td>\n",
       "      <td>17129.71</td>\n",
       "      <td>1</td>\n",
       "    </tr>\n",
       "    <tr>\n",
       "      <th>514</th>\n",
       "      <td>76.0</td>\n",
       "      <td>510.55</td>\n",
       "      <td>43.0</td>\n",
       "      <td>17208.46</td>\n",
       "      <td>0</td>\n",
       "    </tr>\n",
       "    <tr>\n",
       "      <th>1828</th>\n",
       "      <td>77.0</td>\n",
       "      <td>503.29</td>\n",
       "      <td>28.0</td>\n",
       "      <td>15346.17</td>\n",
       "      <td>0</td>\n",
       "    </tr>\n",
       "    <tr>\n",
       "      <th>2452</th>\n",
       "      <td>61.0</td>\n",
       "      <td>448.84</td>\n",
       "      <td>148.0</td>\n",
       "      <td>19449.18</td>\n",
       "      <td>1</td>\n",
       "    </tr>\n",
       "    <tr>\n",
       "      <th>1426</th>\n",
       "      <td>184.0</td>\n",
       "      <td>1225.70</td>\n",
       "      <td>135.0</td>\n",
       "      <td>24756.40</td>\n",
       "      <td>1</td>\n",
       "    </tr>\n",
       "    <tr>\n",
       "      <th>629</th>\n",
       "      <td>123.0</td>\n",
       "      <td>947.71</td>\n",
       "      <td>57.0</td>\n",
       "      <td>24046.86</td>\n",
       "      <td>1</td>\n",
       "    </tr>\n",
       "    <tr>\n",
       "      <th>2424</th>\n",
       "      <td>56.0</td>\n",
       "      <td>364.36</td>\n",
       "      <td>0.0</td>\n",
       "      <td>14129.94</td>\n",
       "      <td>0</td>\n",
       "    </tr>\n",
       "    <tr>\n",
       "      <th>1694</th>\n",
       "      <td>70.0</td>\n",
       "      <td>450.96</td>\n",
       "      <td>34.0</td>\n",
       "      <td>16848.98</td>\n",
       "      <td>0</td>\n",
       "    </tr>\n",
       "    <tr>\n",
       "      <th>2874</th>\n",
       "      <td>56.0</td>\n",
       "      <td>356.97</td>\n",
       "      <td>37.0</td>\n",
       "      <td>15261.10</td>\n",
       "      <td>0</td>\n",
       "    </tr>\n",
       "    <tr>\n",
       "      <th>3091</th>\n",
       "      <td>17.0</td>\n",
       "      <td>91.03</td>\n",
       "      <td>13.0</td>\n",
       "      <td>2614.07</td>\n",
       "      <td>1</td>\n",
       "    </tr>\n",
       "    <tr>\n",
       "      <th>2474</th>\n",
       "      <td>78.0</td>\n",
       "      <td>491.15</td>\n",
       "      <td>26.0</td>\n",
       "      <td>7497.19</td>\n",
       "      <td>1</td>\n",
       "    </tr>\n",
       "  </tbody>\n",
       "</table>\n",
       "</div>"
      ],
      "text/plain": [
       "      calls  minutes  messages   mb_used  is_ultra\n",
       "1129   71.0   453.98      43.0  13603.54         0\n",
       "516    53.0   385.59      63.0  16987.84         0\n",
       "1695   62.0   473.14       4.0  14623.29         1\n",
       "2878   90.0   738.58       8.0  22070.76         0\n",
       "173    64.0   403.51      54.0  19127.25         0\n",
       "1697   33.0   214.38      14.0  11608.63         0\n",
       "917    90.0   547.42       7.0  13741.10         0\n",
       "2857   37.0   292.84      18.0   4080.59         0\n",
       "292    86.0   567.58      47.0  16861.08         1\n",
       "1376  122.0   848.33       0.0  17129.71         1\n",
       "514    76.0   510.55      43.0  17208.46         0\n",
       "1828   77.0   503.29      28.0  15346.17         0\n",
       "2452   61.0   448.84     148.0  19449.18         1\n",
       "1426  184.0  1225.70     135.0  24756.40         1\n",
       "629   123.0   947.71      57.0  24046.86         1\n",
       "2424   56.0   364.36       0.0  14129.94         0\n",
       "1694   70.0   450.96      34.0  16848.98         0\n",
       "2874   56.0   356.97      37.0  15261.10         0\n",
       "3091   17.0    91.03      13.0   2614.07         1\n",
       "2474   78.0   491.15      26.0   7497.19         1"
      ]
     },
     "execution_count": 8,
     "metadata": {},
     "output_type": "execute_result"
    }
   ],
   "source": [
    "df.sample(20)"
   ]
  },
  {
   "cell_type": "markdown",
   "metadata": {},
   "source": [
    "## Pengujian Model"
   ]
  },
  {
   "cell_type": "markdown",
   "metadata": {},
   "source": [
    "Terakhir, setelah kita membagi dataset ke 3 bagian, kita bisa mulai melakukan pengujian model. Sebelumnya, kita perlu menganalisa terlebih dahulu terkait pendekatan yang akan digunakan untuk pengujian model ini. Karena dalam dataset kita terdapat kolom is_ultra dengan value 1 atau 0, maka bisa menggunakan pendekatan klasifikasi, karena target datanya berupa kategorikal. \n",
    "\n",
    "Dalam pendekatan kategorikal, ada 3 jenis model, yaitu Decision Tree, Random Forest, dan Regresi Logistik. Pada 2 model pertama ada hyperparameter yang perlu kita sesuaikan agar menentukan hasil terbaik. Untuk itu kita akan melakukan looping pada saat melakukan pengujian dengan model Decision Tree dan Random Forest."
   ]
  },
  {
   "cell_type": "code",
   "execution_count": 9,
   "metadata": {},
   "outputs": [],
   "source": [
    "features_train = df_train.drop(['is_ultra'], axis=1)\n",
    "target_train = df_train['is_ultra']\n",
    "\n",
    "features_validation = df_validation.drop(['is_ultra'], axis=1)\n",
    "target_validation = df_validation['is_ultra']\n",
    "\n",
    "features_test = df_test.drop(['is_ultra'], axis=1)\n",
    "target_test = df_test['is_ultra']"
   ]
  },
  {
   "cell_type": "code",
   "execution_count": 10,
   "metadata": {},
   "outputs": [
    {
     "name": "stdout",
     "output_type": "stream",
     "text": [
      "depth: 1, accuracy: 0.7542768273716952\n",
      "depth: 2, accuracy: 0.7822706065318819\n",
      "depth: 3, accuracy: 0.7853810264385692\n",
      "depth: 4, accuracy: 0.7791601866251944\n",
      "depth: 5, accuracy: 0.7791601866251944\n"
     ]
    }
   ],
   "source": [
    "#decision tree\n",
    "for depth in range(1,6):\n",
    "    model = DecisionTreeClassifier(random_state=12345, max_depth=depth)\n",
    "    model.fit(features_train, target_train)\n",
    "    predictions_validation = model.predict(features_validation)\n",
    "    print(f'depth: {depth}, accuracy: {accuracy_score(target_validation, predictions_validation)}')"
   ]
  },
  {
   "cell_type": "code",
   "execution_count": 11,
   "metadata": {},
   "outputs": [
    {
     "name": "stdout",
     "output_type": "stream",
     "text": [
      "n_estimator: 1, accuracy: 0.7107309486780715\n",
      "n_estimator: 2, accuracy: 0.7636080870917574\n",
      "n_estimator: 3, accuracy: 0.7387247278382582\n",
      "n_estimator: 4, accuracy: 0.7713841368584758\n",
      "n_estimator: 5, accuracy: 0.749611197511664\n",
      "n_estimator: 6, accuracy: 0.7807153965785381\n",
      "n_estimator: 7, accuracy: 0.7682737169517885\n",
      "n_estimator: 8, accuracy: 0.7822706065318819\n",
      "n_estimator: 9, accuracy: 0.7729393468118196\n",
      "n_estimator: 10, accuracy: 0.7853810264385692\n"
     ]
    }
   ],
   "source": [
    "#random forest\n",
    "for est in range(1,11):\n",
    "    model = RandomForestClassifier(random_state=12345, n_estimators=est)\n",
    "    model.fit(features_train, target_train)\n",
    "    print(f'n_estimator: {est}, accuracy: {model.score(features_validation, target_validation)}')"
   ]
  },
  {
   "cell_type": "code",
   "execution_count": 12,
   "metadata": {},
   "outputs": [
    {
     "name": "stdout",
     "output_type": "stream",
     "text": [
      "accuracy: 0.7573872472783826\n"
     ]
    }
   ],
   "source": [
    "#Logistic Regression\n",
    "model = LogisticRegression(random_state=12345, solver='liblinear')\n",
    "model.fit(features_train, target_train)\n",
    "print(f'accuracy: {model.score(features_validation, target_validation)}')"
   ]
  },
  {
   "cell_type": "markdown",
   "metadata": {},
   "source": [
    "Dari hasil 3 pengujian model diatas, model Decision Tree dengan depth atau kedalaman pohon sebesar 3 merupakan akurasi tertinggi ketimbang semua model lain. Oleh karena itu, kita akan menggunakan model Decision tree dengan hyperparameter depth sebesar 3 untuk melakukan pengujian pada data test."
   ]
  },
  {
   "cell_type": "markdown",
   "metadata": {},
   "source": [
    "## Kesimpulan"
   ]
  },
  {
   "cell_type": "code",
   "execution_count": 13,
   "metadata": {},
   "outputs": [
    {
     "name": "stdout",
     "output_type": "stream",
     "text": [
      "accuracy: 0.7791601866251944\n"
     ]
    }
   ],
   "source": [
    "model = DecisionTreeClassifier(random_state=12345, max_depth=3)\n",
    "model.fit(features_train, target_train)\n",
    "predictions_test = model.predict(features_test)\n",
    "print(f'accuracy: {accuracy_score(predictions_test, target_test)}')"
   ]
  },
  {
   "cell_type": "markdown",
   "metadata": {},
   "source": [
    "Dengan menggunakan model Decision tree dan max_depth 3, kita mendapatkan hasil akurasi sebesar 77%-78% saat melakukan pengujian dengan menggunakan test dataset. Nilai ini bisa dibilang acceptable karena ambang batas untuk tingkat akurasi pada penelitian ini adalah 75%. "
   ]
  },
  {
   "cell_type": "code",
   "execution_count": null,
   "metadata": {},
   "outputs": [],
   "source": []
  }
 ],
 "metadata": {
  "kernelspec": {
   "display_name": "Python 3 (ipykernel)",
   "language": "python",
   "name": "python3"
  },
  "language_info": {
   "codemirror_mode": {
    "name": "ipython",
    "version": 3
   },
   "file_extension": ".py",
   "mimetype": "text/x-python",
   "name": "python",
   "nbconvert_exporter": "python",
   "pygments_lexer": "ipython3",
   "version": "3.11.5"
  },
  "toc": {
   "base_numbering": 1,
   "nav_menu": {},
   "number_sections": true,
   "sideBar": true,
   "skip_h1_title": true,
   "title_cell": "Table of Contents",
   "title_sidebar": "Contents",
   "toc_cell": false,
   "toc_position": {},
   "toc_section_display": true,
   "toc_window_display": false
  }
 },
 "nbformat": 4,
 "nbformat_minor": 2
}
