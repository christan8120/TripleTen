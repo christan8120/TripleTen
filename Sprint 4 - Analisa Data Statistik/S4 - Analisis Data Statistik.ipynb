{
 "cells": [
  {
   "cell_type": "markdown",
   "metadata": {},
   "source": [
    "<h1>Table of Contents<span class=\"tocSkip\"></span></h1>\n",
    "<div class=\"toc\"><ul class=\"toc-item\"><li><span><a href=\"#Introduction\" data-toc-modified-id=\"Introduction-1\"><span class=\"toc-item-num\">1&nbsp;&nbsp;</span>Introduction</a></span></li><li><span><a href=\"#Paket-Prabayar-Manakah-yang-Lebih-Baik?\" data-toc-modified-id=\"Paket-Prabayar-Manakah-yang-Lebih-Baik?-2\"><span class=\"toc-item-num\">2&nbsp;&nbsp;</span>Paket Prabayar Manakah yang Lebih Baik?</a></span><ul class=\"toc-item\"><li><span><a href=\"#Inisialisasi\" data-toc-modified-id=\"Inisialisasi-2.1\"><span class=\"toc-item-num\">2.1&nbsp;&nbsp;</span>Inisialisasi</a></span></li><li><span><a href=\"#Memuat-Data\" data-toc-modified-id=\"Memuat-Data-2.2\"><span class=\"toc-item-num\">2.2&nbsp;&nbsp;</span>Memuat Data</a></span></li><li><span><a href=\"#Mempersiapkan-Data\" data-toc-modified-id=\"Mempersiapkan-Data-2.3\"><span class=\"toc-item-num\">2.3&nbsp;&nbsp;</span>Mempersiapkan Data</a></span></li><li><span><a href=\"#Paket-Prabayar\" data-toc-modified-id=\"Paket-Prabayar-2.4\"><span class=\"toc-item-num\">2.4&nbsp;&nbsp;</span>Paket Prabayar</a></span></li><li><span><a href=\"#Memperbaiki-Data\" data-toc-modified-id=\"Memperbaiki-Data-2.5\"><span class=\"toc-item-num\">2.5&nbsp;&nbsp;</span>Memperbaiki Data</a></span></li><li><span><a href=\"#Memperkaya-Kualitas-Data\" data-toc-modified-id=\"Memperkaya-Kualitas-Data-2.6\"><span class=\"toc-item-num\">2.6&nbsp;&nbsp;</span>Memperkaya Kualitas Data</a></span></li><li><span><a href=\"#Pengguna\" data-toc-modified-id=\"Pengguna-2.7\"><span class=\"toc-item-num\">2.7&nbsp;&nbsp;</span>Pengguna</a></span><ul class=\"toc-item\"><li><span><a href=\"#Memperbaiki-Data\" data-toc-modified-id=\"Memperbaiki-Data-2.7.1\"><span class=\"toc-item-num\">2.7.1&nbsp;&nbsp;</span>Memperbaiki Data</a></span></li><li><span><a href=\"#Memperkaya-Kualitas-Data\" data-toc-modified-id=\"Memperkaya-Kualitas-Data-2.7.2\"><span class=\"toc-item-num\">2.7.2&nbsp;&nbsp;</span>Memperkaya Kualitas Data</a></span></li></ul></li><li><span><a href=\"#Panggilan\" data-toc-modified-id=\"Panggilan-2.8\"><span class=\"toc-item-num\">2.8&nbsp;&nbsp;</span>Panggilan</a></span><ul class=\"toc-item\"><li><span><a href=\"#Memperbaiki-Data\" data-toc-modified-id=\"Memperbaiki-Data-2.8.1\"><span class=\"toc-item-num\">2.8.1&nbsp;&nbsp;</span>Memperbaiki Data</a></span></li><li><span><a href=\"#Memperkaya-Kualitas-Data\" data-toc-modified-id=\"Memperkaya-Kualitas-Data-2.8.2\"><span class=\"toc-item-num\">2.8.2&nbsp;&nbsp;</span>Memperkaya Kualitas Data</a></span></li></ul></li><li><span><a href=\"#Pesan/SMS\" data-toc-modified-id=\"Pesan/SMS-2.9\"><span class=\"toc-item-num\">2.9&nbsp;&nbsp;</span>Pesan/SMS</a></span><ul class=\"toc-item\"><li><span><a href=\"#Memperbaiki-Data\" data-toc-modified-id=\"Memperbaiki-Data-2.9.1\"><span class=\"toc-item-num\">2.9.1&nbsp;&nbsp;</span>Memperbaiki Data</a></span></li><li><span><a href=\"#Memperkaya-Kualitas-Data\" data-toc-modified-id=\"Memperkaya-Kualitas-Data-2.9.2\"><span class=\"toc-item-num\">2.9.2&nbsp;&nbsp;</span>Memperkaya Kualitas Data</a></span></li></ul></li><li><span><a href=\"#Internet\" data-toc-modified-id=\"Internet-2.10\"><span class=\"toc-item-num\">2.10&nbsp;&nbsp;</span>Internet</a></span><ul class=\"toc-item\"><li><span><a href=\"#Memperbaiki-Data\" data-toc-modified-id=\"Memperbaiki-Data-2.10.1\"><span class=\"toc-item-num\">2.10.1&nbsp;&nbsp;</span>Memperbaiki Data</a></span></li><li><span><a href=\"#Memperkaya-Kualitas-Data\" data-toc-modified-id=\"Memperkaya-Kualitas-Data-2.10.2\"><span class=\"toc-item-num\">2.10.2&nbsp;&nbsp;</span>Memperkaya Kualitas Data</a></span></li></ul></li><li><span><a href=\"#Mempelajari-Syarat-dan-Kondisi-Terkait-Paket-Prabayar\" data-toc-modified-id=\"Mempelajari-Syarat-dan-Kondisi-Terkait-Paket-Prabayar-2.11\"><span class=\"toc-item-num\">2.11&nbsp;&nbsp;</span>Mempelajari Syarat dan Kondisi Terkait Paket Prabayar</a></span></li><li><span><a href=\"#Mengagregasi-Data-per-Pengguna\" data-toc-modified-id=\"Mengagregasi-Data-per-Pengguna-2.12\"><span class=\"toc-item-num\">2.12&nbsp;&nbsp;</span>Mengagregasi Data per Pengguna</a></span></li><li><span><a href=\"#Mempelajari-Perilaku-Pengguna\" data-toc-modified-id=\"Mempelajari-Perilaku-Pengguna-2.13\"><span class=\"toc-item-num\">2.13&nbsp;&nbsp;</span>Mempelajari Perilaku Pengguna</a></span><ul class=\"toc-item\"><li><span><a href=\"#Panggilan\" data-toc-modified-id=\"Panggilan-2.13.1\"><span class=\"toc-item-num\">2.13.1&nbsp;&nbsp;</span>Panggilan</a></span></li><li><span><a href=\"#Pesan/SMS\" data-toc-modified-id=\"Pesan/SMS-2.13.2\"><span class=\"toc-item-num\">2.13.2&nbsp;&nbsp;</span>Pesan/SMS</a></span></li><li><span><a href=\"#Internet\" data-toc-modified-id=\"Internet-2.13.3\"><span class=\"toc-item-num\">2.13.3&nbsp;&nbsp;</span>Internet</a></span></li></ul></li><li><span><a href=\"#Pendapatan\" data-toc-modified-id=\"Pendapatan-2.14\"><span class=\"toc-item-num\">2.14&nbsp;&nbsp;</span>Pendapatan</a></span></li><li><span><a href=\"#Menguji-Hipotesis-Statistik\" data-toc-modified-id=\"Menguji-Hipotesis-Statistik-2.15\"><span class=\"toc-item-num\">2.15&nbsp;&nbsp;</span>Menguji Hipotesis Statistik</a></span></li><li><span><a href=\"#Kesimpulan-Umum\" data-toc-modified-id=\"Kesimpulan-Umum-2.16\"><span class=\"toc-item-num\">2.16&nbsp;&nbsp;</span>Kesimpulan Umum</a></span></li></ul></li></ul></div>"
   ]
  },
  {
   "cell_type": "markdown",
   "metadata": {},
   "source": [
    "# Introduction"
   ]
  },
  {
   "cell_type": "markdown",
   "metadata": {},
   "source": [
    "Sebgai seorang analisis di perusahaan operator telekomunikasi yang bernama Megaline, kita diminta untuk menguji hipotesis yang sudah diberikan, apakah kita dapat menerima atau menolak hipotesis tersebut. Dalam penelitian kali ini, ada 2 hipotesis yang perlu kita uji. Pertama, rata-rata pendapatan dari pengguna paket Ultimate dan Surf. Kedua, rata-rata pendapatan dari wilayah NY-NJ dan wilayah lain. Sebelum memmulai analisa, kita perlu memahami terlebih dahulu hal apa saja yang perlu diperhatikan. Seperti deskripsi pada paket Ultimate dan Surf, atau pola pemakaian yang dikenakan biaya seperti apa. \n",
    "\n",
    "Untuk memulai proses analisa, pertama, kita perlu mempersiapakn data-data yang dibutuhkan. Yaitu data paket, pengguna, panggilan, pesan dan internet. Proses kedua, data yang sudah kita peroleh, mungkin saja perlu diperbaiki seperti tipe data, nilai yang hilang dan beberapa penyesuaian seperti penambahan kolom yang nantinya dapat mempermudah dan membantu proses analisa dan pengujian di tahap berikutnya. Setelah memperbaiki kualitas data, proses dilakukan dengan menganalisa pola dan perilaku dari data yang sudah kita perbaiki dalam bentuk visual. Terakhir, barulah kita menguji apakah menerima atau menolak hipotesis."
   ]
  },
  {
   "cell_type": "markdown",
   "metadata": {},
   "source": [
    "# Paket Prabayar Manakah yang Lebih Baik?\n",
    "\n",
    "Anda bekerja sebagai seorang analis di perusahaan operator telekomunikasi bernama Megaline. Perusahaan tersebut menawarkan kliennya dua jenis paket prabayar, yaitu paket Surf dan paket Ultimate. Departemen periklanan ingin mengetahui paket prabayar mana yang menghasilkan lebih banyak pendapatan, sehingga mereka bisa membuat anggaran iklan yang sesuai.\n",
    "\n",
    "Anda akan melakukan analisis awal untuk paket-paket prabayar tersebut berdasarkan sampel klien yang berukuran relatif kecil. Anda memiliki 500 data klien Megaline, yang berisi informasi seperti: siapa mereka, dari mana asalnya, jenis paket apa yang mereka gunakan, serta jumlah panggilan dan pesan yang mereka kirim di tahun 2018. Tugas Anda adalah untuk menganalisis perilaku para pengguna, lalu menentukan paket prabayar manakah yang lebih menguntungkan."
   ]
  },
  {
   "cell_type": "markdown",
   "metadata": {},
   "source": [
    " "
   ]
  },
  {
   "cell_type": "markdown",
   "metadata": {},
   "source": [
    "## Inisialisasi"
   ]
  },
  {
   "cell_type": "markdown",
   "metadata": {},
   "source": [
    "Mendaftarkan semua library yang mungkin diperlukan dalam penelitian ini. Library pandas untuk membaca file csv, matplotlib dan seaborn untuk membuat visualisasi atau grafik. Library numpy untuk mengolah bilangan numeric, dan scipy untuk mempermudah pengujian hipotesis."
   ]
  },
  {
   "cell_type": "code",
   "execution_count": 1,
   "metadata": {},
   "outputs": [],
   "source": [
    "# Muat semua library\n",
    "import pandas as pd\n",
    "import matplotlib.pyplot as plt \n",
    "import seaborn as sns\n",
    "import numpy as np\n",
    "from scipy import stats as st"
   ]
  },
  {
   "cell_type": "markdown",
   "metadata": {},
   "source": [
    "## Memuat Data"
   ]
  },
  {
   "cell_type": "markdown",
   "metadata": {},
   "source": [
    "Memuat semua data yang disediakan ke beberapa variable. Variable ini akan digunakan selama proses penelitian, sehingga tidak perlu membaca ulang data csv di setiap proses."
   ]
  },
  {
   "cell_type": "code",
   "execution_count": 2,
   "metadata": {},
   "outputs": [],
   "source": [
    "# Muat file data ke dalam DataFrame yang berbeda\n",
    "df_megaline_calls = pd.read_csv('datasets/megaline_calls.csv')\n",
    "df_megaline_internet = pd.read_csv('datasets/megaline_internet.csv')\n",
    "df_megaline_messages = pd.read_csv('datasets/megaline_messages.csv')\n",
    "df_megaline_plans = pd.read_csv('datasets/megaline_plans.csv')\n",
    "df_megaline_users = pd.read_csv('datasets/megaline_users.csv')"
   ]
  },
  {
   "cell_type": "markdown",
   "metadata": {},
   "source": [
    "## Mempersiapkan Data"
   ]
  },
  {
   "cell_type": "markdown",
   "metadata": {},
   "source": [
    " "
   ]
  },
  {
   "cell_type": "markdown",
   "metadata": {},
   "source": [
    "## Paket Prabayar"
   ]
  },
  {
   "cell_type": "code",
   "execution_count": 3,
   "metadata": {},
   "outputs": [
    {
     "name": "stdout",
     "output_type": "stream",
     "text": [
      "<class 'pandas.core.frame.DataFrame'>\n",
      "RangeIndex: 2 entries, 0 to 1\n",
      "Data columns (total 8 columns):\n",
      " #   Column                 Non-Null Count  Dtype  \n",
      "---  ------                 --------------  -----  \n",
      " 0   messages_included      2 non-null      int64  \n",
      " 1   mb_per_month_included  2 non-null      int64  \n",
      " 2   minutes_included       2 non-null      int64  \n",
      " 3   usd_monthly_pay        2 non-null      int64  \n",
      " 4   usd_per_gb             2 non-null      int64  \n",
      " 5   usd_per_message        2 non-null      float64\n",
      " 6   usd_per_minute         2 non-null      float64\n",
      " 7   plan_name              2 non-null      object \n",
      "dtypes: float64(2), int64(5), object(1)\n",
      "memory usage: 260.0+ bytes\n"
     ]
    }
   ],
   "source": [
    "df_megaline_plans.info()\n"
   ]
  },
  {
   "cell_type": "code",
   "execution_count": 4,
   "metadata": {},
   "outputs": [
    {
     "data": {
      "text/html": [
       "<div>\n",
       "<style scoped>\n",
       "    .dataframe tbody tr th:only-of-type {\n",
       "        vertical-align: middle;\n",
       "    }\n",
       "\n",
       "    .dataframe tbody tr th {\n",
       "        vertical-align: top;\n",
       "    }\n",
       "\n",
       "    .dataframe thead th {\n",
       "        text-align: right;\n",
       "    }\n",
       "</style>\n",
       "<table border=\"1\" class=\"dataframe\">\n",
       "  <thead>\n",
       "    <tr style=\"text-align: right;\">\n",
       "      <th></th>\n",
       "      <th>messages_included</th>\n",
       "      <th>mb_per_month_included</th>\n",
       "      <th>minutes_included</th>\n",
       "      <th>usd_monthly_pay</th>\n",
       "      <th>usd_per_gb</th>\n",
       "      <th>usd_per_message</th>\n",
       "      <th>usd_per_minute</th>\n",
       "      <th>plan_name</th>\n",
       "    </tr>\n",
       "  </thead>\n",
       "  <tbody>\n",
       "    <tr>\n",
       "      <th>0</th>\n",
       "      <td>50</td>\n",
       "      <td>15360</td>\n",
       "      <td>500</td>\n",
       "      <td>20</td>\n",
       "      <td>10</td>\n",
       "      <td>0.03</td>\n",
       "      <td>0.03</td>\n",
       "      <td>surf</td>\n",
       "    </tr>\n",
       "    <tr>\n",
       "      <th>1</th>\n",
       "      <td>1000</td>\n",
       "      <td>30720</td>\n",
       "      <td>3000</td>\n",
       "      <td>70</td>\n",
       "      <td>7</td>\n",
       "      <td>0.01</td>\n",
       "      <td>0.01</td>\n",
       "      <td>ultimate</td>\n",
       "    </tr>\n",
       "  </tbody>\n",
       "</table>\n",
       "</div>"
      ],
      "text/plain": [
       "   messages_included  mb_per_month_included  minutes_included  \\\n",
       "0                 50                  15360               500   \n",
       "1               1000                  30720              3000   \n",
       "\n",
       "   usd_monthly_pay  usd_per_gb  usd_per_message  usd_per_minute plan_name  \n",
       "0               20          10             0.03            0.03      surf  \n",
       "1               70           7             0.01            0.01  ultimate  "
      ]
     },
     "execution_count": 4,
     "metadata": {},
     "output_type": "execute_result"
    }
   ],
   "source": [
    "df_megaline_plans.head()\n"
   ]
  },
  {
   "cell_type": "markdown",
   "metadata": {},
   "source": [
    "Tidak ada masalah yang cukup berpengaruh pada data paket. Hanya saja untuk kolom yang berisi harga paket perlu diubah ke bilangan desimal. Karena harga bisa saja tidak hanya bilangan bulat, tapi ada beberapa hal seperti sen. Berikutnya, mengenai kolom traffic per bulan, meskipun sudah ada dalam bentuk MB, tetapi karena deskripsi paket menyebutkan 15GB dan 30GB, maka dirasa akan lebih mudah bila ada 1 kolom tambahan yang berisi jumlah traffic yang dapat dilalui dalam bentuk GB."
   ]
  },
  {
   "cell_type": "markdown",
   "metadata": {},
   "source": [
    " "
   ]
  },
  {
   "cell_type": "markdown",
   "metadata": {},
   "source": [
    "## Memperbaiki Data"
   ]
  },
  {
   "cell_type": "markdown",
   "metadata": {},
   "source": [
    " "
   ]
  },
  {
   "cell_type": "code",
   "execution_count": 5,
   "metadata": {},
   "outputs": [],
   "source": [
    "df_megaline_plans['usd_monthly_pay'] = df_megaline_plans['usd_monthly_pay'].astype('float')\n",
    "df_megaline_plans['usd_per_gb'] = df_megaline_plans['usd_per_gb'].astype('float')"
   ]
  },
  {
   "cell_type": "markdown",
   "metadata": {},
   "source": [
    "\n",
    "## Memperkaya Kualitas Data"
   ]
  },
  {
   "cell_type": "code",
   "execution_count": 6,
   "metadata": {},
   "outputs": [],
   "source": [
    "df_megaline_plans['gb_per_month_included'] = (df_megaline_plans['mb_per_month_included']/1024).astype('int')"
   ]
  },
  {
   "cell_type": "markdown",
   "metadata": {},
   "source": [
    "Mengecek kembali data paket yang sudah diperbaiki"
   ]
  },
  {
   "cell_type": "code",
   "execution_count": 7,
   "metadata": {
    "scrolled": true
   },
   "outputs": [
    {
     "data": {
      "text/html": [
       "<div>\n",
       "<style scoped>\n",
       "    .dataframe tbody tr th:only-of-type {\n",
       "        vertical-align: middle;\n",
       "    }\n",
       "\n",
       "    .dataframe tbody tr th {\n",
       "        vertical-align: top;\n",
       "    }\n",
       "\n",
       "    .dataframe thead th {\n",
       "        text-align: right;\n",
       "    }\n",
       "</style>\n",
       "<table border=\"1\" class=\"dataframe\">\n",
       "  <thead>\n",
       "    <tr style=\"text-align: right;\">\n",
       "      <th></th>\n",
       "      <th>messages_included</th>\n",
       "      <th>mb_per_month_included</th>\n",
       "      <th>minutes_included</th>\n",
       "      <th>usd_monthly_pay</th>\n",
       "      <th>usd_per_gb</th>\n",
       "      <th>usd_per_message</th>\n",
       "      <th>usd_per_minute</th>\n",
       "      <th>plan_name</th>\n",
       "      <th>gb_per_month_included</th>\n",
       "    </tr>\n",
       "  </thead>\n",
       "  <tbody>\n",
       "    <tr>\n",
       "      <th>0</th>\n",
       "      <td>50</td>\n",
       "      <td>15360</td>\n",
       "      <td>500</td>\n",
       "      <td>20.0</td>\n",
       "      <td>10.0</td>\n",
       "      <td>0.03</td>\n",
       "      <td>0.03</td>\n",
       "      <td>surf</td>\n",
       "      <td>15</td>\n",
       "    </tr>\n",
       "    <tr>\n",
       "      <th>1</th>\n",
       "      <td>1000</td>\n",
       "      <td>30720</td>\n",
       "      <td>3000</td>\n",
       "      <td>70.0</td>\n",
       "      <td>7.0</td>\n",
       "      <td>0.01</td>\n",
       "      <td>0.01</td>\n",
       "      <td>ultimate</td>\n",
       "      <td>30</td>\n",
       "    </tr>\n",
       "  </tbody>\n",
       "</table>\n",
       "</div>"
      ],
      "text/plain": [
       "   messages_included  mb_per_month_included  minutes_included  \\\n",
       "0                 50                  15360               500   \n",
       "1               1000                  30720              3000   \n",
       "\n",
       "   usd_monthly_pay  usd_per_gb  usd_per_message  usd_per_minute plan_name  \\\n",
       "0             20.0        10.0             0.03            0.03      surf   \n",
       "1             70.0         7.0             0.01            0.01  ultimate   \n",
       "\n",
       "   gb_per_month_included  \n",
       "0                     15  \n",
       "1                     30  "
      ]
     },
     "execution_count": 7,
     "metadata": {},
     "output_type": "execute_result"
    }
   ],
   "source": [
    "df_megaline_plans"
   ]
  },
  {
   "cell_type": "markdown",
   "metadata": {},
   "source": [
    "## Pengguna"
   ]
  },
  {
   "cell_type": "code",
   "execution_count": 8,
   "metadata": {},
   "outputs": [
    {
     "name": "stdout",
     "output_type": "stream",
     "text": [
      "<class 'pandas.core.frame.DataFrame'>\n",
      "RangeIndex: 500 entries, 0 to 499\n",
      "Data columns (total 8 columns):\n",
      " #   Column      Non-Null Count  Dtype \n",
      "---  ------      --------------  ----- \n",
      " 0   user_id     500 non-null    int64 \n",
      " 1   first_name  500 non-null    object\n",
      " 2   last_name   500 non-null    object\n",
      " 3   age         500 non-null    int64 \n",
      " 4   city        500 non-null    object\n",
      " 5   reg_date    500 non-null    object\n",
      " 6   plan        500 non-null    object\n",
      " 7   churn_date  34 non-null     object\n",
      "dtypes: int64(2), object(6)\n",
      "memory usage: 31.4+ KB\n"
     ]
    }
   ],
   "source": [
    "df_megaline_users.info()\n"
   ]
  },
  {
   "cell_type": "code",
   "execution_count": 9,
   "metadata": {},
   "outputs": [
    {
     "data": {
      "text/html": [
       "<div>\n",
       "<style scoped>\n",
       "    .dataframe tbody tr th:only-of-type {\n",
       "        vertical-align: middle;\n",
       "    }\n",
       "\n",
       "    .dataframe tbody tr th {\n",
       "        vertical-align: top;\n",
       "    }\n",
       "\n",
       "    .dataframe thead th {\n",
       "        text-align: right;\n",
       "    }\n",
       "</style>\n",
       "<table border=\"1\" class=\"dataframe\">\n",
       "  <thead>\n",
       "    <tr style=\"text-align: right;\">\n",
       "      <th></th>\n",
       "      <th>user_id</th>\n",
       "      <th>first_name</th>\n",
       "      <th>last_name</th>\n",
       "      <th>age</th>\n",
       "      <th>city</th>\n",
       "      <th>reg_date</th>\n",
       "      <th>plan</th>\n",
       "      <th>churn_date</th>\n",
       "    </tr>\n",
       "  </thead>\n",
       "  <tbody>\n",
       "    <tr>\n",
       "      <th>296</th>\n",
       "      <td>1296</td>\n",
       "      <td>Weston</td>\n",
       "      <td>Conley</td>\n",
       "      <td>36</td>\n",
       "      <td>Miami-Fort Lauderdale-West Palm Beach, FL MSA</td>\n",
       "      <td>2018-10-20</td>\n",
       "      <td>ultimate</td>\n",
       "      <td>2018-12-18</td>\n",
       "    </tr>\n",
       "    <tr>\n",
       "      <th>367</th>\n",
       "      <td>1367</td>\n",
       "      <td>Minh</td>\n",
       "      <td>Fischer</td>\n",
       "      <td>18</td>\n",
       "      <td>Baltimore-Columbia-Towson, MD MSA</td>\n",
       "      <td>2018-07-23</td>\n",
       "      <td>surf</td>\n",
       "      <td>NaN</td>\n",
       "    </tr>\n",
       "    <tr>\n",
       "      <th>165</th>\n",
       "      <td>1165</td>\n",
       "      <td>Nigel</td>\n",
       "      <td>Huber</td>\n",
       "      <td>20</td>\n",
       "      <td>Philadelphia-Camden-Wilmington, PA-NJ-DE-MD MSA</td>\n",
       "      <td>2018-10-27</td>\n",
       "      <td>surf</td>\n",
       "      <td>NaN</td>\n",
       "    </tr>\n",
       "    <tr>\n",
       "      <th>412</th>\n",
       "      <td>1412</td>\n",
       "      <td>Cortez</td>\n",
       "      <td>Reese</td>\n",
       "      <td>61</td>\n",
       "      <td>Detroit-Warren-Dearborn, MI MSA</td>\n",
       "      <td>2018-04-08</td>\n",
       "      <td>ultimate</td>\n",
       "      <td>NaN</td>\n",
       "    </tr>\n",
       "    <tr>\n",
       "      <th>313</th>\n",
       "      <td>1313</td>\n",
       "      <td>Antoine</td>\n",
       "      <td>Baker</td>\n",
       "      <td>49</td>\n",
       "      <td>San Francisco-Oakland-Berkeley, CA MSA</td>\n",
       "      <td>2018-05-24</td>\n",
       "      <td>surf</td>\n",
       "      <td>NaN</td>\n",
       "    </tr>\n",
       "    <tr>\n",
       "      <th>90</th>\n",
       "      <td>1090</td>\n",
       "      <td>Brock</td>\n",
       "      <td>Skinner</td>\n",
       "      <td>30</td>\n",
       "      <td>Indianapolis-Carmel-Anderson, IN MSA</td>\n",
       "      <td>2018-05-12</td>\n",
       "      <td>surf</td>\n",
       "      <td>NaN</td>\n",
       "    </tr>\n",
       "    <tr>\n",
       "      <th>374</th>\n",
       "      <td>1374</td>\n",
       "      <td>Ching</td>\n",
       "      <td>Watts</td>\n",
       "      <td>55</td>\n",
       "      <td>Louisville/Jefferson County, KY-IN MSA</td>\n",
       "      <td>2018-02-14</td>\n",
       "      <td>surf</td>\n",
       "      <td>NaN</td>\n",
       "    </tr>\n",
       "    <tr>\n",
       "      <th>117</th>\n",
       "      <td>1117</td>\n",
       "      <td>Hank</td>\n",
       "      <td>Taylor</td>\n",
       "      <td>49</td>\n",
       "      <td>Dallas-Fort Worth-Arlington, TX MSA</td>\n",
       "      <td>2018-01-24</td>\n",
       "      <td>surf</td>\n",
       "      <td>NaN</td>\n",
       "    </tr>\n",
       "    <tr>\n",
       "      <th>467</th>\n",
       "      <td>1467</td>\n",
       "      <td>Nickolas</td>\n",
       "      <td>Deleon</td>\n",
       "      <td>64</td>\n",
       "      <td>Atlanta-Sandy Springs-Roswell, GA MSA</td>\n",
       "      <td>2018-01-31</td>\n",
       "      <td>ultimate</td>\n",
       "      <td>2018-11-18</td>\n",
       "    </tr>\n",
       "    <tr>\n",
       "      <th>204</th>\n",
       "      <td>1204</td>\n",
       "      <td>Sherly</td>\n",
       "      <td>Levy</td>\n",
       "      <td>44</td>\n",
       "      <td>Chicago-Naperville-Elgin, IL-IN-WI MSA</td>\n",
       "      <td>2018-08-20</td>\n",
       "      <td>ultimate</td>\n",
       "      <td>NaN</td>\n",
       "    </tr>\n",
       "  </tbody>\n",
       "</table>\n",
       "</div>"
      ],
      "text/plain": [
       "     user_id first_name last_name  age  \\\n",
       "296     1296     Weston    Conley   36   \n",
       "367     1367       Minh   Fischer   18   \n",
       "165     1165      Nigel     Huber   20   \n",
       "412     1412     Cortez     Reese   61   \n",
       "313     1313    Antoine     Baker   49   \n",
       "90      1090      Brock   Skinner   30   \n",
       "374     1374      Ching     Watts   55   \n",
       "117     1117       Hank    Taylor   49   \n",
       "467     1467   Nickolas    Deleon   64   \n",
       "204     1204     Sherly      Levy   44   \n",
       "\n",
       "                                                city    reg_date      plan  \\\n",
       "296    Miami-Fort Lauderdale-West Palm Beach, FL MSA  2018-10-20  ultimate   \n",
       "367                Baltimore-Columbia-Towson, MD MSA  2018-07-23      surf   \n",
       "165  Philadelphia-Camden-Wilmington, PA-NJ-DE-MD MSA  2018-10-27      surf   \n",
       "412                  Detroit-Warren-Dearborn, MI MSA  2018-04-08  ultimate   \n",
       "313           San Francisco-Oakland-Berkeley, CA MSA  2018-05-24      surf   \n",
       "90              Indianapolis-Carmel-Anderson, IN MSA  2018-05-12      surf   \n",
       "374           Louisville/Jefferson County, KY-IN MSA  2018-02-14      surf   \n",
       "117              Dallas-Fort Worth-Arlington, TX MSA  2018-01-24      surf   \n",
       "467            Atlanta-Sandy Springs-Roswell, GA MSA  2018-01-31  ultimate   \n",
       "204           Chicago-Naperville-Elgin, IL-IN-WI MSA  2018-08-20  ultimate   \n",
       "\n",
       "     churn_date  \n",
       "296  2018-12-18  \n",
       "367         NaN  \n",
       "165         NaN  \n",
       "412         NaN  \n",
       "313         NaN  \n",
       "90          NaN  \n",
       "374         NaN  \n",
       "117         NaN  \n",
       "467  2018-11-18  \n",
       "204         NaN  "
      ]
     },
     "execution_count": 9,
     "metadata": {},
     "output_type": "execute_result"
    }
   ],
   "source": [
    "df_megaline_users.sample(10)\n"
   ]
  },
  {
   "cell_type": "markdown",
   "metadata": {},
   "source": [
    "Pada kolom churn date terlihat ada sebanyak 466 row yang berisi nilai kosong. Namun, hal ini menandakan pengguna masih menggunakan paket. Selain itu perlu untuk memastikan bahwa kolom yang berisi tanggal memang memiliki tipe data tanggal. Karena kolom ini bisa menjadi kolom yang penting dalam penelitian. Terakhir, karena kita ada diminta untuk mengetahui rata-rata pengguna dari kota NY-NJ, maka ada baiknya bila ditambahkan 1 kolom flag, apakah user tersebut berasal dari kota NY-NJ atau tidak."
   ]
  },
  {
   "cell_type": "markdown",
   "metadata": {},
   "source": [
    " "
   ]
  },
  {
   "cell_type": "markdown",
   "metadata": {},
   "source": [
    "### Memperbaiki Data"
   ]
  },
  {
   "cell_type": "markdown",
   "metadata": {},
   "source": [
    "Melakukan perbaikan data pada kolom-kolom yang dirasa bermasalah dan penambahan informasi tertentu untuk meningkatkan kualitas dari data. Dan menampilkan beberapa sample data untuk memastikan bahwa perbaikan data berjalan dengan semestinya. "
   ]
  },
  {
   "cell_type": "code",
   "execution_count": 10,
   "metadata": {},
   "outputs": [
    {
     "data": {
      "text/html": [
       "<div>\n",
       "<style scoped>\n",
       "    .dataframe tbody tr th:only-of-type {\n",
       "        vertical-align: middle;\n",
       "    }\n",
       "\n",
       "    .dataframe tbody tr th {\n",
       "        vertical-align: top;\n",
       "    }\n",
       "\n",
       "    .dataframe thead th {\n",
       "        text-align: right;\n",
       "    }\n",
       "</style>\n",
       "<table border=\"1\" class=\"dataframe\">\n",
       "  <thead>\n",
       "    <tr style=\"text-align: right;\">\n",
       "      <th></th>\n",
       "      <th>user_id</th>\n",
       "      <th>first_name</th>\n",
       "      <th>last_name</th>\n",
       "      <th>age</th>\n",
       "      <th>city</th>\n",
       "      <th>reg_date</th>\n",
       "      <th>plan</th>\n",
       "      <th>churn_date</th>\n",
       "    </tr>\n",
       "  </thead>\n",
       "  <tbody>\n",
       "    <tr>\n",
       "      <th>496</th>\n",
       "      <td>1496</td>\n",
       "      <td>Ariel</td>\n",
       "      <td>Shepherd</td>\n",
       "      <td>49</td>\n",
       "      <td>New Orleans-Metairie, LA MSA</td>\n",
       "      <td>2018-02-20</td>\n",
       "      <td>surf</td>\n",
       "      <td>NaT</td>\n",
       "    </tr>\n",
       "    <tr>\n",
       "      <th>223</th>\n",
       "      <td>1223</td>\n",
       "      <td>Patience</td>\n",
       "      <td>Wilson</td>\n",
       "      <td>37</td>\n",
       "      <td>Phoenix-Mesa-Chandler, AZ MSA</td>\n",
       "      <td>2018-07-05</td>\n",
       "      <td>surf</td>\n",
       "      <td>NaT</td>\n",
       "    </tr>\n",
       "    <tr>\n",
       "      <th>90</th>\n",
       "      <td>1090</td>\n",
       "      <td>Brock</td>\n",
       "      <td>Skinner</td>\n",
       "      <td>30</td>\n",
       "      <td>Indianapolis-Carmel-Anderson, IN MSA</td>\n",
       "      <td>2018-05-12</td>\n",
       "      <td>surf</td>\n",
       "      <td>NaT</td>\n",
       "    </tr>\n",
       "    <tr>\n",
       "      <th>197</th>\n",
       "      <td>1197</td>\n",
       "      <td>Lon</td>\n",
       "      <td>Parker</td>\n",
       "      <td>56</td>\n",
       "      <td>New York-Newark-Jersey City, NY-NJ-PA MSA</td>\n",
       "      <td>2018-11-05</td>\n",
       "      <td>surf</td>\n",
       "      <td>NaT</td>\n",
       "    </tr>\n",
       "    <tr>\n",
       "      <th>365</th>\n",
       "      <td>1365</td>\n",
       "      <td>Milford</td>\n",
       "      <td>Rush</td>\n",
       "      <td>19</td>\n",
       "      <td>Grand Rapids-Kentwood, MI MSA</td>\n",
       "      <td>2018-02-09</td>\n",
       "      <td>surf</td>\n",
       "      <td>NaT</td>\n",
       "    </tr>\n",
       "    <tr>\n",
       "      <th>335</th>\n",
       "      <td>1335</td>\n",
       "      <td>Gail</td>\n",
       "      <td>Coleman</td>\n",
       "      <td>61</td>\n",
       "      <td>Dallas-Fort Worth-Arlington, TX MSA</td>\n",
       "      <td>2018-06-02</td>\n",
       "      <td>surf</td>\n",
       "      <td>NaT</td>\n",
       "    </tr>\n",
       "    <tr>\n",
       "      <th>119</th>\n",
       "      <td>1119</td>\n",
       "      <td>Anderson</td>\n",
       "      <td>Palmer</td>\n",
       "      <td>60</td>\n",
       "      <td>Louisville/Jefferson County, KY-IN MSA</td>\n",
       "      <td>2018-10-05</td>\n",
       "      <td>surf</td>\n",
       "      <td>NaT</td>\n",
       "    </tr>\n",
       "    <tr>\n",
       "      <th>46</th>\n",
       "      <td>1046</td>\n",
       "      <td>Beata</td>\n",
       "      <td>Hooper</td>\n",
       "      <td>67</td>\n",
       "      <td>Boston-Cambridge-Newton, MA-NH MSA</td>\n",
       "      <td>2018-02-19</td>\n",
       "      <td>surf</td>\n",
       "      <td>NaT</td>\n",
       "    </tr>\n",
       "    <tr>\n",
       "      <th>327</th>\n",
       "      <td>1327</td>\n",
       "      <td>Natosha</td>\n",
       "      <td>Peck</td>\n",
       "      <td>20</td>\n",
       "      <td>New York-Newark-Jersey City, NY-NJ-PA MSA</td>\n",
       "      <td>2018-02-17</td>\n",
       "      <td>surf</td>\n",
       "      <td>NaT</td>\n",
       "    </tr>\n",
       "    <tr>\n",
       "      <th>144</th>\n",
       "      <td>1144</td>\n",
       "      <td>Kaycee</td>\n",
       "      <td>Peterson</td>\n",
       "      <td>65</td>\n",
       "      <td>New York-Newark-Jersey City, NY-NJ-PA MSA</td>\n",
       "      <td>2018-04-21</td>\n",
       "      <td>ultimate</td>\n",
       "      <td>NaT</td>\n",
       "    </tr>\n",
       "  </tbody>\n",
       "</table>\n",
       "</div>"
      ],
      "text/plain": [
       "     user_id first_name last_name  age  \\\n",
       "496     1496      Ariel  Shepherd   49   \n",
       "223     1223   Patience    Wilson   37   \n",
       "90      1090      Brock   Skinner   30   \n",
       "197     1197        Lon    Parker   56   \n",
       "365     1365    Milford      Rush   19   \n",
       "335     1335       Gail   Coleman   61   \n",
       "119     1119   Anderson    Palmer   60   \n",
       "46      1046      Beata    Hooper   67   \n",
       "327     1327    Natosha      Peck   20   \n",
       "144     1144     Kaycee  Peterson   65   \n",
       "\n",
       "                                          city   reg_date      plan churn_date  \n",
       "496               New Orleans-Metairie, LA MSA 2018-02-20      surf        NaT  \n",
       "223              Phoenix-Mesa-Chandler, AZ MSA 2018-07-05      surf        NaT  \n",
       "90        Indianapolis-Carmel-Anderson, IN MSA 2018-05-12      surf        NaT  \n",
       "197  New York-Newark-Jersey City, NY-NJ-PA MSA 2018-11-05      surf        NaT  \n",
       "365              Grand Rapids-Kentwood, MI MSA 2018-02-09      surf        NaT  \n",
       "335        Dallas-Fort Worth-Arlington, TX MSA 2018-06-02      surf        NaT  \n",
       "119     Louisville/Jefferson County, KY-IN MSA 2018-10-05      surf        NaT  \n",
       "46          Boston-Cambridge-Newton, MA-NH MSA 2018-02-19      surf        NaT  \n",
       "327  New York-Newark-Jersey City, NY-NJ-PA MSA 2018-02-17      surf        NaT  \n",
       "144  New York-Newark-Jersey City, NY-NJ-PA MSA 2018-04-21  ultimate        NaT  "
      ]
     },
     "execution_count": 10,
     "metadata": {},
     "output_type": "execute_result"
    }
   ],
   "source": [
    "df_megaline_users['age'] = df_megaline_users['age'].astype('int')\n",
    "df_megaline_users['reg_date'] = pd.to_datetime(df_megaline_users['reg_date'], format='%Y-%m-%d')\n",
    "df_megaline_users['churn_date'] = pd.to_datetime(df_megaline_users['churn_date'], format='%Y-%m-%d')\n",
    "df_megaline_users.sample(10)"
   ]
  },
  {
   "cell_type": "markdown",
   "metadata": {},
   "source": [
    "### Memperkaya Kualitas Data"
   ]
  },
  {
   "cell_type": "markdown",
   "metadata": {},
   "source": [
    " "
   ]
  },
  {
   "cell_type": "code",
   "execution_count": 11,
   "metadata": {},
   "outputs": [
    {
     "data": {
      "text/html": [
       "<div>\n",
       "<style scoped>\n",
       "    .dataframe tbody tr th:only-of-type {\n",
       "        vertical-align: middle;\n",
       "    }\n",
       "\n",
       "    .dataframe tbody tr th {\n",
       "        vertical-align: top;\n",
       "    }\n",
       "\n",
       "    .dataframe thead th {\n",
       "        text-align: right;\n",
       "    }\n",
       "</style>\n",
       "<table border=\"1\" class=\"dataframe\">\n",
       "  <thead>\n",
       "    <tr style=\"text-align: right;\">\n",
       "      <th></th>\n",
       "      <th>user_id</th>\n",
       "      <th>first_name</th>\n",
       "      <th>last_name</th>\n",
       "      <th>age</th>\n",
       "      <th>city</th>\n",
       "      <th>reg_date</th>\n",
       "      <th>plan</th>\n",
       "      <th>churn_date</th>\n",
       "      <th>is_ny_nj</th>\n",
       "    </tr>\n",
       "  </thead>\n",
       "  <tbody>\n",
       "    <tr>\n",
       "      <th>0</th>\n",
       "      <td>1000</td>\n",
       "      <td>Anamaria</td>\n",
       "      <td>Bauer</td>\n",
       "      <td>45</td>\n",
       "      <td>Atlanta-Sandy Springs-Roswell, GA MSA</td>\n",
       "      <td>2018-12-24</td>\n",
       "      <td>ultimate</td>\n",
       "      <td>NaT</td>\n",
       "      <td>False</td>\n",
       "    </tr>\n",
       "    <tr>\n",
       "      <th>428</th>\n",
       "      <td>1428</td>\n",
       "      <td>Asuncion</td>\n",
       "      <td>Conrad</td>\n",
       "      <td>66</td>\n",
       "      <td>Phoenix-Mesa-Chandler, AZ MSA</td>\n",
       "      <td>2018-10-23</td>\n",
       "      <td>surf</td>\n",
       "      <td>NaT</td>\n",
       "      <td>False</td>\n",
       "    </tr>\n",
       "    <tr>\n",
       "      <th>52</th>\n",
       "      <td>1052</td>\n",
       "      <td>Edmond</td>\n",
       "      <td>Hopkins</td>\n",
       "      <td>47</td>\n",
       "      <td>Houston-The Woodlands-Sugar Land, TX MSA</td>\n",
       "      <td>2018-03-05</td>\n",
       "      <td>surf</td>\n",
       "      <td>NaT</td>\n",
       "      <td>False</td>\n",
       "    </tr>\n",
       "    <tr>\n",
       "      <th>1</th>\n",
       "      <td>1001</td>\n",
       "      <td>Mickey</td>\n",
       "      <td>Wilkerson</td>\n",
       "      <td>28</td>\n",
       "      <td>Seattle-Tacoma-Bellevue, WA MSA</td>\n",
       "      <td>2018-08-13</td>\n",
       "      <td>surf</td>\n",
       "      <td>NaT</td>\n",
       "      <td>False</td>\n",
       "    </tr>\n",
       "    <tr>\n",
       "      <th>149</th>\n",
       "      <td>1149</td>\n",
       "      <td>Jamaal</td>\n",
       "      <td>Camacho</td>\n",
       "      <td>54</td>\n",
       "      <td>San Francisco-Oakland-Berkeley, CA MSA</td>\n",
       "      <td>2018-03-03</td>\n",
       "      <td>surf</td>\n",
       "      <td>NaT</td>\n",
       "      <td>False</td>\n",
       "    </tr>\n",
       "    <tr>\n",
       "      <th>439</th>\n",
       "      <td>1439</td>\n",
       "      <td>Moses</td>\n",
       "      <td>Cabrera</td>\n",
       "      <td>28</td>\n",
       "      <td>Riverside-San Bernardino-Ontario, CA MSA</td>\n",
       "      <td>2018-01-04</td>\n",
       "      <td>surf</td>\n",
       "      <td>NaT</td>\n",
       "      <td>False</td>\n",
       "    </tr>\n",
       "    <tr>\n",
       "      <th>336</th>\n",
       "      <td>1336</td>\n",
       "      <td>Vance</td>\n",
       "      <td>Bradshaw</td>\n",
       "      <td>34</td>\n",
       "      <td>Portland-Vancouver-Hillsboro, OR-WA MSA</td>\n",
       "      <td>2018-04-04</td>\n",
       "      <td>surf</td>\n",
       "      <td>NaT</td>\n",
       "      <td>False</td>\n",
       "    </tr>\n",
       "    <tr>\n",
       "      <th>47</th>\n",
       "      <td>1047</td>\n",
       "      <td>Yuk</td>\n",
       "      <td>French</td>\n",
       "      <td>22</td>\n",
       "      <td>Indianapolis-Carmel-Anderson, IN MSA</td>\n",
       "      <td>2018-06-16</td>\n",
       "      <td>ultimate</td>\n",
       "      <td>NaT</td>\n",
       "      <td>False</td>\n",
       "    </tr>\n",
       "    <tr>\n",
       "      <th>73</th>\n",
       "      <td>1073</td>\n",
       "      <td>Grady</td>\n",
       "      <td>Crawford</td>\n",
       "      <td>30</td>\n",
       "      <td>Chicago-Naperville-Elgin, IL-IN-WI MSA</td>\n",
       "      <td>2018-04-06</td>\n",
       "      <td>surf</td>\n",
       "      <td>NaT</td>\n",
       "      <td>False</td>\n",
       "    </tr>\n",
       "    <tr>\n",
       "      <th>420</th>\n",
       "      <td>1420</td>\n",
       "      <td>Season</td>\n",
       "      <td>Hardy</td>\n",
       "      <td>27</td>\n",
       "      <td>San Francisco-Oakland-Berkeley, CA MSA</td>\n",
       "      <td>2018-02-22</td>\n",
       "      <td>ultimate</td>\n",
       "      <td>NaT</td>\n",
       "      <td>False</td>\n",
       "    </tr>\n",
       "  </tbody>\n",
       "</table>\n",
       "</div>"
      ],
      "text/plain": [
       "     user_id first_name  last_name  age  \\\n",
       "0       1000   Anamaria      Bauer   45   \n",
       "428     1428   Asuncion     Conrad   66   \n",
       "52      1052     Edmond    Hopkins   47   \n",
       "1       1001     Mickey  Wilkerson   28   \n",
       "149     1149     Jamaal    Camacho   54   \n",
       "439     1439      Moses    Cabrera   28   \n",
       "336     1336      Vance   Bradshaw   34   \n",
       "47      1047        Yuk     French   22   \n",
       "73      1073      Grady   Crawford   30   \n",
       "420     1420     Season      Hardy   27   \n",
       "\n",
       "                                         city   reg_date      plan churn_date  \\\n",
       "0       Atlanta-Sandy Springs-Roswell, GA MSA 2018-12-24  ultimate        NaT   \n",
       "428             Phoenix-Mesa-Chandler, AZ MSA 2018-10-23      surf        NaT   \n",
       "52   Houston-The Woodlands-Sugar Land, TX MSA 2018-03-05      surf        NaT   \n",
       "1             Seattle-Tacoma-Bellevue, WA MSA 2018-08-13      surf        NaT   \n",
       "149    San Francisco-Oakland-Berkeley, CA MSA 2018-03-03      surf        NaT   \n",
       "439  Riverside-San Bernardino-Ontario, CA MSA 2018-01-04      surf        NaT   \n",
       "336   Portland-Vancouver-Hillsboro, OR-WA MSA 2018-04-04      surf        NaT   \n",
       "47       Indianapolis-Carmel-Anderson, IN MSA 2018-06-16  ultimate        NaT   \n",
       "73     Chicago-Naperville-Elgin, IL-IN-WI MSA 2018-04-06      surf        NaT   \n",
       "420    San Francisco-Oakland-Berkeley, CA MSA 2018-02-22  ultimate        NaT   \n",
       "\n",
       "     is_ny_nj  \n",
       "0       False  \n",
       "428     False  \n",
       "52      False  \n",
       "1       False  \n",
       "149     False  \n",
       "439     False  \n",
       "336     False  \n",
       "47      False  \n",
       "73      False  \n",
       "420     False  "
      ]
     },
     "execution_count": 11,
     "metadata": {},
     "output_type": "execute_result"
    }
   ],
   "source": [
    "df_megaline_users['is_ny_nj'] = df_megaline_users['city'].str.contains('NY-NJ')\n",
    "df_megaline_users.sample(10)"
   ]
  },
  {
   "cell_type": "markdown",
   "metadata": {},
   "source": [
    "## Panggilan"
   ]
  },
  {
   "cell_type": "code",
   "execution_count": 12,
   "metadata": {},
   "outputs": [
    {
     "name": "stdout",
     "output_type": "stream",
     "text": [
      "<class 'pandas.core.frame.DataFrame'>\n",
      "RangeIndex: 137735 entries, 0 to 137734\n",
      "Data columns (total 4 columns):\n",
      " #   Column     Non-Null Count   Dtype  \n",
      "---  ------     --------------   -----  \n",
      " 0   id         137735 non-null  object \n",
      " 1   user_id    137735 non-null  int64  \n",
      " 2   call_date  137735 non-null  object \n",
      " 3   duration   137735 non-null  float64\n",
      "dtypes: float64(1), int64(1), object(2)\n",
      "memory usage: 4.2+ MB\n"
     ]
    }
   ],
   "source": [
    "df_megaline_calls.info()\n"
   ]
  },
  {
   "cell_type": "code",
   "execution_count": 13,
   "metadata": {},
   "outputs": [
    {
     "data": {
      "text/html": [
       "<div>\n",
       "<style scoped>\n",
       "    .dataframe tbody tr th:only-of-type {\n",
       "        vertical-align: middle;\n",
       "    }\n",
       "\n",
       "    .dataframe tbody tr th {\n",
       "        vertical-align: top;\n",
       "    }\n",
       "\n",
       "    .dataframe thead th {\n",
       "        text-align: right;\n",
       "    }\n",
       "</style>\n",
       "<table border=\"1\" class=\"dataframe\">\n",
       "  <thead>\n",
       "    <tr style=\"text-align: right;\">\n",
       "      <th></th>\n",
       "      <th>id</th>\n",
       "      <th>user_id</th>\n",
       "      <th>call_date</th>\n",
       "      <th>duration</th>\n",
       "    </tr>\n",
       "  </thead>\n",
       "  <tbody>\n",
       "    <tr>\n",
       "      <th>19596</th>\n",
       "      <td>1074_89</td>\n",
       "      <td>1074</td>\n",
       "      <td>2018-12-08</td>\n",
       "      <td>13.94</td>\n",
       "    </tr>\n",
       "    <tr>\n",
       "      <th>12030</th>\n",
       "      <td>1053_92</td>\n",
       "      <td>1053</td>\n",
       "      <td>2018-08-07</td>\n",
       "      <td>1.97</td>\n",
       "    </tr>\n",
       "    <tr>\n",
       "      <th>35243</th>\n",
       "      <td>1132_664</td>\n",
       "      <td>1132</td>\n",
       "      <td>2018-12-25</td>\n",
       "      <td>0.00</td>\n",
       "    </tr>\n",
       "    <tr>\n",
       "      <th>18510</th>\n",
       "      <td>1071_309</td>\n",
       "      <td>1071</td>\n",
       "      <td>2018-12-22</td>\n",
       "      <td>13.46</td>\n",
       "    </tr>\n",
       "    <tr>\n",
       "      <th>61814</th>\n",
       "      <td>1222_461</td>\n",
       "      <td>1222</td>\n",
       "      <td>2018-12-07</td>\n",
       "      <td>9.36</td>\n",
       "    </tr>\n",
       "    <tr>\n",
       "      <th>112536</th>\n",
       "      <td>1397_96</td>\n",
       "      <td>1397</td>\n",
       "      <td>2018-12-18</td>\n",
       "      <td>0.00</td>\n",
       "    </tr>\n",
       "    <tr>\n",
       "      <th>83335</th>\n",
       "      <td>1302_109</td>\n",
       "      <td>1302</td>\n",
       "      <td>2018-10-12</td>\n",
       "      <td>2.28</td>\n",
       "    </tr>\n",
       "    <tr>\n",
       "      <th>19570</th>\n",
       "      <td>1074_40</td>\n",
       "      <td>1074</td>\n",
       "      <td>2018-12-03</td>\n",
       "      <td>2.08</td>\n",
       "    </tr>\n",
       "    <tr>\n",
       "      <th>99757</th>\n",
       "      <td>1358_83</td>\n",
       "      <td>1358</td>\n",
       "      <td>2018-06-28</td>\n",
       "      <td>10.18</td>\n",
       "    </tr>\n",
       "    <tr>\n",
       "      <th>84382</th>\n",
       "      <td>1311_121</td>\n",
       "      <td>1311</td>\n",
       "      <td>2018-11-05</td>\n",
       "      <td>17.56</td>\n",
       "    </tr>\n",
       "  </tbody>\n",
       "</table>\n",
       "</div>"
      ],
      "text/plain": [
       "              id  user_id   call_date  duration\n",
       "19596    1074_89     1074  2018-12-08     13.94\n",
       "12030    1053_92     1053  2018-08-07      1.97\n",
       "35243   1132_664     1132  2018-12-25      0.00\n",
       "18510   1071_309     1071  2018-12-22     13.46\n",
       "61814   1222_461     1222  2018-12-07      9.36\n",
       "112536   1397_96     1397  2018-12-18      0.00\n",
       "83335   1302_109     1302  2018-10-12      2.28\n",
       "19570    1074_40     1074  2018-12-03      2.08\n",
       "99757    1358_83     1358  2018-06-28     10.18\n",
       "84382   1311_121     1311  2018-11-05     17.56"
      ]
     },
     "execution_count": 13,
     "metadata": {},
     "output_type": "execute_result"
    }
   ],
   "source": [
    "df_megaline_calls.sample(10)\n"
   ]
  },
  {
   "cell_type": "markdown",
   "metadata": {},
   "source": [
    "Kita perlu menambahkan beberapa kolom pada data ini. Sesuai dengan yang diminta dan informasi yang kita dapatkan, perlu ada penambahan kolom month untuk mengetahui total durasi di setiap bulan. Lalu ada perlu kolom berapa biaya yang dikenakan dari durasi panggilan, karena perlu kita bulatkan ke atas. Terakhir, perlu ada flag untuk data dengan durasi 0 detik, yang mana info menyebutkan bahwa panggilan dengan durasi 0 detik adalah panggilan yang tidak terjawab."
   ]
  },
  {
   "cell_type": "markdown",
   "metadata": {},
   "source": [
    " "
   ]
  },
  {
   "cell_type": "markdown",
   "metadata": {},
   "source": [
    "### Memperbaiki Data"
   ]
  },
  {
   "cell_type": "markdown",
   "metadata": {},
   "source": [
    "Melakukan perbaikan data pada kolom-kolom yang dirasa bermasalah dan penambahan informasi tertentu untuk meningkatkan kualitas dari data. Dan menampilkan beberapa sample data untuk memastikan bahwa perbaikan data berjalan dengan semestinya. "
   ]
  },
  {
   "cell_type": "code",
   "execution_count": 14,
   "metadata": {},
   "outputs": [
    {
     "data": {
      "text/html": [
       "<div>\n",
       "<style scoped>\n",
       "    .dataframe tbody tr th:only-of-type {\n",
       "        vertical-align: middle;\n",
       "    }\n",
       "\n",
       "    .dataframe tbody tr th {\n",
       "        vertical-align: top;\n",
       "    }\n",
       "\n",
       "    .dataframe thead th {\n",
       "        text-align: right;\n",
       "    }\n",
       "</style>\n",
       "<table border=\"1\" class=\"dataframe\">\n",
       "  <thead>\n",
       "    <tr style=\"text-align: right;\">\n",
       "      <th></th>\n",
       "      <th>id</th>\n",
       "      <th>user_id</th>\n",
       "      <th>call_date</th>\n",
       "      <th>duration</th>\n",
       "    </tr>\n",
       "  </thead>\n",
       "  <tbody>\n",
       "    <tr>\n",
       "      <th>25236</th>\n",
       "      <td>1097_339</td>\n",
       "      <td>1097</td>\n",
       "      <td>2018-12-11</td>\n",
       "      <td>4.97</td>\n",
       "    </tr>\n",
       "    <tr>\n",
       "      <th>40203</th>\n",
       "      <td>1148_64</td>\n",
       "      <td>1148</td>\n",
       "      <td>2018-11-26</td>\n",
       "      <td>5.80</td>\n",
       "    </tr>\n",
       "    <tr>\n",
       "      <th>1564</th>\n",
       "      <td>1008_205</td>\n",
       "      <td>1008</td>\n",
       "      <td>2018-12-16</td>\n",
       "      <td>23.76</td>\n",
       "    </tr>\n",
       "    <tr>\n",
       "      <th>85796</th>\n",
       "      <td>1316_13</td>\n",
       "      <td>1316</td>\n",
       "      <td>2018-11-05</td>\n",
       "      <td>16.85</td>\n",
       "    </tr>\n",
       "    <tr>\n",
       "      <th>110230</th>\n",
       "      <td>1389_274</td>\n",
       "      <td>1389</td>\n",
       "      <td>2018-08-21</td>\n",
       "      <td>2.80</td>\n",
       "    </tr>\n",
       "    <tr>\n",
       "      <th>26031</th>\n",
       "      <td>1099_355</td>\n",
       "      <td>1099</td>\n",
       "      <td>2018-12-14</td>\n",
       "      <td>3.21</td>\n",
       "    </tr>\n",
       "    <tr>\n",
       "      <th>58562</th>\n",
       "      <td>1211_171</td>\n",
       "      <td>1211</td>\n",
       "      <td>2018-09-22</td>\n",
       "      <td>10.24</td>\n",
       "    </tr>\n",
       "    <tr>\n",
       "      <th>62775</th>\n",
       "      <td>1226_174</td>\n",
       "      <td>1226</td>\n",
       "      <td>2018-09-24</td>\n",
       "      <td>10.05</td>\n",
       "    </tr>\n",
       "    <tr>\n",
       "      <th>122671</th>\n",
       "      <td>1433_242</td>\n",
       "      <td>1433</td>\n",
       "      <td>2018-12-24</td>\n",
       "      <td>11.99</td>\n",
       "    </tr>\n",
       "    <tr>\n",
       "      <th>108100</th>\n",
       "      <td>1382_1207</td>\n",
       "      <td>1382</td>\n",
       "      <td>2018-12-16</td>\n",
       "      <td>0.00</td>\n",
       "    </tr>\n",
       "  </tbody>\n",
       "</table>\n",
       "</div>"
      ],
      "text/plain": [
       "               id  user_id  call_date  duration\n",
       "25236    1097_339     1097 2018-12-11      4.97\n",
       "40203     1148_64     1148 2018-11-26      5.80\n",
       "1564     1008_205     1008 2018-12-16     23.76\n",
       "85796     1316_13     1316 2018-11-05     16.85\n",
       "110230   1389_274     1389 2018-08-21      2.80\n",
       "26031    1099_355     1099 2018-12-14      3.21\n",
       "58562    1211_171     1211 2018-09-22     10.24\n",
       "62775    1226_174     1226 2018-09-24     10.05\n",
       "122671   1433_242     1433 2018-12-24     11.99\n",
       "108100  1382_1207     1382 2018-12-16      0.00"
      ]
     },
     "execution_count": 14,
     "metadata": {},
     "output_type": "execute_result"
    }
   ],
   "source": [
    "df_megaline_calls['call_date'] = pd.to_datetime(df_megaline_calls['call_date'], format='%Y-%m-%d')\n",
    "df_megaline_calls['duration'] = df_megaline_calls['duration'].astype('float')\n",
    "df_megaline_calls.sample(10)"
   ]
  },
  {
   "cell_type": "markdown",
   "metadata": {},
   "source": [
    "### Memperkaya Kualitas Data"
   ]
  },
  {
   "cell_type": "markdown",
   "metadata": {},
   "source": [
    " "
   ]
  },
  {
   "cell_type": "code",
   "execution_count": 15,
   "metadata": {},
   "outputs": [],
   "source": [
    "df_megaline_calls['call_weekday'] = df_megaline_calls['call_date'].dt.weekday\n",
    "df_megaline_calls['call_day'] = df_megaline_calls['call_date'].dt.day\n",
    "df_megaline_calls['call_month'] = df_megaline_calls['call_date'].dt.month\n",
    "df_megaline_calls['call_year'] = df_megaline_calls['call_date'].dt.year\n",
    "df_megaline_calls['paid_duration'] = np.ceil(df_megaline_calls['duration'])\n",
    "df_megaline_calls['is_answered'] = df_megaline_calls['duration'] !=  0.00"
   ]
  },
  {
   "cell_type": "code",
   "execution_count": 16,
   "metadata": {},
   "outputs": [
    {
     "data": {
      "text/html": [
       "<div>\n",
       "<style scoped>\n",
       "    .dataframe tbody tr th:only-of-type {\n",
       "        vertical-align: middle;\n",
       "    }\n",
       "\n",
       "    .dataframe tbody tr th {\n",
       "        vertical-align: top;\n",
       "    }\n",
       "\n",
       "    .dataframe thead th {\n",
       "        text-align: right;\n",
       "    }\n",
       "</style>\n",
       "<table border=\"1\" class=\"dataframe\">\n",
       "  <thead>\n",
       "    <tr style=\"text-align: right;\">\n",
       "      <th></th>\n",
       "      <th>id</th>\n",
       "      <th>user_id</th>\n",
       "      <th>call_date</th>\n",
       "      <th>duration</th>\n",
       "      <th>call_weekday</th>\n",
       "      <th>call_day</th>\n",
       "      <th>call_month</th>\n",
       "      <th>call_year</th>\n",
       "      <th>paid_duration</th>\n",
       "      <th>is_answered</th>\n",
       "    </tr>\n",
       "  </thead>\n",
       "  <tbody>\n",
       "    <tr>\n",
       "      <th>56388</th>\n",
       "      <td>1202_125</td>\n",
       "      <td>1202</td>\n",
       "      <td>2018-10-04</td>\n",
       "      <td>12.64</td>\n",
       "      <td>3</td>\n",
       "      <td>4</td>\n",
       "      <td>10</td>\n",
       "      <td>2018</td>\n",
       "      <td>13.0</td>\n",
       "      <td>True</td>\n",
       "    </tr>\n",
       "    <tr>\n",
       "      <th>108259</th>\n",
       "      <td>1382_1485</td>\n",
       "      <td>1382</td>\n",
       "      <td>2018-07-07</td>\n",
       "      <td>4.48</td>\n",
       "      <td>5</td>\n",
       "      <td>7</td>\n",
       "      <td>7</td>\n",
       "      <td>2018</td>\n",
       "      <td>5.0</td>\n",
       "      <td>True</td>\n",
       "    </tr>\n",
       "    <tr>\n",
       "      <th>112895</th>\n",
       "      <td>1397_582</td>\n",
       "      <td>1397</td>\n",
       "      <td>2018-10-22</td>\n",
       "      <td>12.49</td>\n",
       "      <td>0</td>\n",
       "      <td>22</td>\n",
       "      <td>10</td>\n",
       "      <td>2018</td>\n",
       "      <td>13.0</td>\n",
       "      <td>True</td>\n",
       "    </tr>\n",
       "    <tr>\n",
       "      <th>71262</th>\n",
       "      <td>1254_67</td>\n",
       "      <td>1254</td>\n",
       "      <td>2018-11-28</td>\n",
       "      <td>11.01</td>\n",
       "      <td>2</td>\n",
       "      <td>28</td>\n",
       "      <td>11</td>\n",
       "      <td>2018</td>\n",
       "      <td>12.0</td>\n",
       "      <td>True</td>\n",
       "    </tr>\n",
       "    <tr>\n",
       "      <th>54800</th>\n",
       "      <td>1196_694</td>\n",
       "      <td>1196</td>\n",
       "      <td>2018-11-22</td>\n",
       "      <td>0.00</td>\n",
       "      <td>3</td>\n",
       "      <td>22</td>\n",
       "      <td>11</td>\n",
       "      <td>2018</td>\n",
       "      <td>0.0</td>\n",
       "      <td>False</td>\n",
       "    </tr>\n",
       "    <tr>\n",
       "      <th>127508</th>\n",
       "      <td>1456_435</td>\n",
       "      <td>1456</td>\n",
       "      <td>2018-07-19</td>\n",
       "      <td>18.75</td>\n",
       "      <td>3</td>\n",
       "      <td>19</td>\n",
       "      <td>7</td>\n",
       "      <td>2018</td>\n",
       "      <td>19.0</td>\n",
       "      <td>True</td>\n",
       "    </tr>\n",
       "    <tr>\n",
       "      <th>35354</th>\n",
       "      <td>1132_819</td>\n",
       "      <td>1132</td>\n",
       "      <td>2018-10-27</td>\n",
       "      <td>15.64</td>\n",
       "      <td>5</td>\n",
       "      <td>27</td>\n",
       "      <td>10</td>\n",
       "      <td>2018</td>\n",
       "      <td>16.0</td>\n",
       "      <td>True</td>\n",
       "    </tr>\n",
       "    <tr>\n",
       "      <th>86100</th>\n",
       "      <td>1317_166</td>\n",
       "      <td>1317</td>\n",
       "      <td>2018-12-23</td>\n",
       "      <td>0.00</td>\n",
       "      <td>6</td>\n",
       "      <td>23</td>\n",
       "      <td>12</td>\n",
       "      <td>2018</td>\n",
       "      <td>0.0</td>\n",
       "      <td>False</td>\n",
       "    </tr>\n",
       "    <tr>\n",
       "      <th>97149</th>\n",
       "      <td>1346_380</td>\n",
       "      <td>1346</td>\n",
       "      <td>2018-10-18</td>\n",
       "      <td>5.52</td>\n",
       "      <td>3</td>\n",
       "      <td>18</td>\n",
       "      <td>10</td>\n",
       "      <td>2018</td>\n",
       "      <td>6.0</td>\n",
       "      <td>True</td>\n",
       "    </tr>\n",
       "    <tr>\n",
       "      <th>18829</th>\n",
       "      <td>1072_159</td>\n",
       "      <td>1072</td>\n",
       "      <td>2018-07-28</td>\n",
       "      <td>5.91</td>\n",
       "      <td>5</td>\n",
       "      <td>28</td>\n",
       "      <td>7</td>\n",
       "      <td>2018</td>\n",
       "      <td>6.0</td>\n",
       "      <td>True</td>\n",
       "    </tr>\n",
       "  </tbody>\n",
       "</table>\n",
       "</div>"
      ],
      "text/plain": [
       "               id  user_id  call_date  duration  call_weekday  call_day  \\\n",
       "56388    1202_125     1202 2018-10-04     12.64             3         4   \n",
       "108259  1382_1485     1382 2018-07-07      4.48             5         7   \n",
       "112895   1397_582     1397 2018-10-22     12.49             0        22   \n",
       "71262     1254_67     1254 2018-11-28     11.01             2        28   \n",
       "54800    1196_694     1196 2018-11-22      0.00             3        22   \n",
       "127508   1456_435     1456 2018-07-19     18.75             3        19   \n",
       "35354    1132_819     1132 2018-10-27     15.64             5        27   \n",
       "86100    1317_166     1317 2018-12-23      0.00             6        23   \n",
       "97149    1346_380     1346 2018-10-18      5.52             3        18   \n",
       "18829    1072_159     1072 2018-07-28      5.91             5        28   \n",
       "\n",
       "        call_month  call_year  paid_duration  is_answered  \n",
       "56388           10       2018           13.0         True  \n",
       "108259           7       2018            5.0         True  \n",
       "112895          10       2018           13.0         True  \n",
       "71262           11       2018           12.0         True  \n",
       "54800           11       2018            0.0        False  \n",
       "127508           7       2018           19.0         True  \n",
       "35354           10       2018           16.0         True  \n",
       "86100           12       2018            0.0        False  \n",
       "97149           10       2018            6.0         True  \n",
       "18829            7       2018            6.0         True  "
      ]
     },
     "execution_count": 16,
     "metadata": {},
     "output_type": "execute_result"
    }
   ],
   "source": [
    "df_megaline_calls.sample(10)"
   ]
  },
  {
   "cell_type": "markdown",
   "metadata": {},
   "source": [
    "## Pesan/SMS"
   ]
  },
  {
   "cell_type": "code",
   "execution_count": 17,
   "metadata": {},
   "outputs": [
    {
     "name": "stdout",
     "output_type": "stream",
     "text": [
      "<class 'pandas.core.frame.DataFrame'>\n",
      "RangeIndex: 76051 entries, 0 to 76050\n",
      "Data columns (total 3 columns):\n",
      " #   Column        Non-Null Count  Dtype \n",
      "---  ------        --------------  ----- \n",
      " 0   id            76051 non-null  object\n",
      " 1   user_id       76051 non-null  int64 \n",
      " 2   message_date  76051 non-null  object\n",
      "dtypes: int64(1), object(2)\n",
      "memory usage: 1.7+ MB\n"
     ]
    }
   ],
   "source": [
    "df_megaline_messages.info()"
   ]
  },
  {
   "cell_type": "code",
   "execution_count": 18,
   "metadata": {},
   "outputs": [
    {
     "data": {
      "text/html": [
       "<div>\n",
       "<style scoped>\n",
       "    .dataframe tbody tr th:only-of-type {\n",
       "        vertical-align: middle;\n",
       "    }\n",
       "\n",
       "    .dataframe tbody tr th {\n",
       "        vertical-align: top;\n",
       "    }\n",
       "\n",
       "    .dataframe thead th {\n",
       "        text-align: right;\n",
       "    }\n",
       "</style>\n",
       "<table border=\"1\" class=\"dataframe\">\n",
       "  <thead>\n",
       "    <tr style=\"text-align: right;\">\n",
       "      <th></th>\n",
       "      <th>id</th>\n",
       "      <th>user_id</th>\n",
       "      <th>message_date</th>\n",
       "    </tr>\n",
       "  </thead>\n",
       "  <tbody>\n",
       "    <tr>\n",
       "      <th>72106</th>\n",
       "      <td>1467_438</td>\n",
       "      <td>1467</td>\n",
       "      <td>2018-11-05</td>\n",
       "    </tr>\n",
       "    <tr>\n",
       "      <th>21261</th>\n",
       "      <td>1132_523</td>\n",
       "      <td>1132</td>\n",
       "      <td>2018-11-15</td>\n",
       "    </tr>\n",
       "    <tr>\n",
       "      <th>64777</th>\n",
       "      <td>1413_23</td>\n",
       "      <td>1413</td>\n",
       "      <td>2018-12-22</td>\n",
       "    </tr>\n",
       "    <tr>\n",
       "      <th>21405</th>\n",
       "      <td>1132_729</td>\n",
       "      <td>1132</td>\n",
       "      <td>2018-10-07</td>\n",
       "    </tr>\n",
       "    <tr>\n",
       "      <th>40763</th>\n",
       "      <td>1261_428</td>\n",
       "      <td>1261</td>\n",
       "      <td>2018-07-05</td>\n",
       "    </tr>\n",
       "    <tr>\n",
       "      <th>10417</th>\n",
       "      <td>1076_940</td>\n",
       "      <td>1076</td>\n",
       "      <td>2018-12-10</td>\n",
       "    </tr>\n",
       "    <tr>\n",
       "      <th>22129</th>\n",
       "      <td>1132_1748</td>\n",
       "      <td>1132</td>\n",
       "      <td>2018-07-05</td>\n",
       "    </tr>\n",
       "    <tr>\n",
       "      <th>51364</th>\n",
       "      <td>1334_82</td>\n",
       "      <td>1334</td>\n",
       "      <td>2018-09-10</td>\n",
       "    </tr>\n",
       "    <tr>\n",
       "      <th>20810</th>\n",
       "      <td>1131_149</td>\n",
       "      <td>1131</td>\n",
       "      <td>2018-12-25</td>\n",
       "    </tr>\n",
       "    <tr>\n",
       "      <th>26382</th>\n",
       "      <td>1159_385</td>\n",
       "      <td>1159</td>\n",
       "      <td>2018-12-25</td>\n",
       "    </tr>\n",
       "  </tbody>\n",
       "</table>\n",
       "</div>"
      ],
      "text/plain": [
       "              id  user_id message_date\n",
       "72106   1467_438     1467   2018-11-05\n",
       "21261   1132_523     1132   2018-11-15\n",
       "64777    1413_23     1413   2018-12-22\n",
       "21405   1132_729     1132   2018-10-07\n",
       "40763   1261_428     1261   2018-07-05\n",
       "10417   1076_940     1076   2018-12-10\n",
       "22129  1132_1748     1132   2018-07-05\n",
       "51364    1334_82     1334   2018-09-10\n",
       "20810   1131_149     1131   2018-12-25\n",
       "26382   1159_385     1159   2018-12-25"
      ]
     },
     "execution_count": 18,
     "metadata": {},
     "output_type": "execute_result"
    }
   ],
   "source": [
    "df_megaline_messages.sample(10)\n"
   ]
  },
  {
   "cell_type": "markdown",
   "metadata": {},
   "source": [
    "Sama seperti dengan data panggilan. Kita perlu kolom tambahan (month) untuk menunjukan pada bulan apa pesan tersebut dikirim. "
   ]
  },
  {
   "cell_type": "markdown",
   "metadata": {},
   "source": [
    " "
   ]
  },
  {
   "cell_type": "markdown",
   "metadata": {},
   "source": [
    "### Memperbaiki Data"
   ]
  },
  {
   "cell_type": "markdown",
   "metadata": {},
   "source": [
    "Melakukan perbaikan data pada kolom-kolom yang dirasa bermasalah dan penambahan informasi tertentu untuk meningkatkan kualitas dari data. Dan menampilkan beberapa sample data untuk memastikan bahwa perbaikan data berjalan dengan semestinya. "
   ]
  },
  {
   "cell_type": "code",
   "execution_count": 19,
   "metadata": {},
   "outputs": [],
   "source": [
    "df_megaline_messages['message_date'] = pd.to_datetime(df_megaline_messages['message_date'], format='%Y-%m-%d')"
   ]
  },
  {
   "cell_type": "markdown",
   "metadata": {},
   "source": [
    "### Memperkaya Kualitas Data"
   ]
  },
  {
   "cell_type": "markdown",
   "metadata": {},
   "source": [
    " "
   ]
  },
  {
   "cell_type": "code",
   "execution_count": 20,
   "metadata": {},
   "outputs": [],
   "source": [
    "df_megaline_messages['message_weekday'] = df_megaline_messages['message_date'].dt.weekday\n",
    "df_megaline_messages['message_day'] = df_megaline_messages['message_date'].dt.day\n",
    "df_megaline_messages['message_month'] = df_megaline_messages['message_date'].dt.month\n",
    "df_megaline_messages['message_year'] = df_megaline_messages['message_date'].dt.year"
   ]
  },
  {
   "cell_type": "code",
   "execution_count": 21,
   "metadata": {},
   "outputs": [
    {
     "data": {
      "text/html": [
       "<div>\n",
       "<style scoped>\n",
       "    .dataframe tbody tr th:only-of-type {\n",
       "        vertical-align: middle;\n",
       "    }\n",
       "\n",
       "    .dataframe tbody tr th {\n",
       "        vertical-align: top;\n",
       "    }\n",
       "\n",
       "    .dataframe thead th {\n",
       "        text-align: right;\n",
       "    }\n",
       "</style>\n",
       "<table border=\"1\" class=\"dataframe\">\n",
       "  <thead>\n",
       "    <tr style=\"text-align: right;\">\n",
       "      <th></th>\n",
       "      <th>id</th>\n",
       "      <th>user_id</th>\n",
       "      <th>message_date</th>\n",
       "      <th>message_weekday</th>\n",
       "      <th>message_day</th>\n",
       "      <th>message_month</th>\n",
       "      <th>message_year</th>\n",
       "    </tr>\n",
       "  </thead>\n",
       "  <tbody>\n",
       "    <tr>\n",
       "      <th>54282</th>\n",
       "      <td>1343_375</td>\n",
       "      <td>1343</td>\n",
       "      <td>2018-09-22</td>\n",
       "      <td>5</td>\n",
       "      <td>22</td>\n",
       "      <td>9</td>\n",
       "      <td>2018</td>\n",
       "    </tr>\n",
       "    <tr>\n",
       "      <th>14490</th>\n",
       "      <td>1099_51</td>\n",
       "      <td>1099</td>\n",
       "      <td>2018-07-11</td>\n",
       "      <td>2</td>\n",
       "      <td>11</td>\n",
       "      <td>7</td>\n",
       "      <td>2018</td>\n",
       "    </tr>\n",
       "    <tr>\n",
       "      <th>12663</th>\n",
       "      <td>1082_233</td>\n",
       "      <td>1082</td>\n",
       "      <td>2018-10-12</td>\n",
       "      <td>4</td>\n",
       "      <td>12</td>\n",
       "      <td>10</td>\n",
       "      <td>2018</td>\n",
       "    </tr>\n",
       "    <tr>\n",
       "      <th>35725</th>\n",
       "      <td>1235_51</td>\n",
       "      <td>1235</td>\n",
       "      <td>2018-12-08</td>\n",
       "      <td>5</td>\n",
       "      <td>8</td>\n",
       "      <td>12</td>\n",
       "      <td>2018</td>\n",
       "    </tr>\n",
       "    <tr>\n",
       "      <th>69059</th>\n",
       "      <td>1447_127</td>\n",
       "      <td>1447</td>\n",
       "      <td>2018-11-30</td>\n",
       "      <td>4</td>\n",
       "      <td>30</td>\n",
       "      <td>11</td>\n",
       "      <td>2018</td>\n",
       "    </tr>\n",
       "    <tr>\n",
       "      <th>25819</th>\n",
       "      <td>1155_194</td>\n",
       "      <td>1155</td>\n",
       "      <td>2018-07-14</td>\n",
       "      <td>5</td>\n",
       "      <td>14</td>\n",
       "      <td>7</td>\n",
       "      <td>2018</td>\n",
       "    </tr>\n",
       "    <tr>\n",
       "      <th>13818</th>\n",
       "      <td>1094_61</td>\n",
       "      <td>1094</td>\n",
       "      <td>2018-11-28</td>\n",
       "      <td>2</td>\n",
       "      <td>28</td>\n",
       "      <td>11</td>\n",
       "      <td>2018</td>\n",
       "    </tr>\n",
       "    <tr>\n",
       "      <th>14481</th>\n",
       "      <td>1099_42</td>\n",
       "      <td>1099</td>\n",
       "      <td>2018-12-10</td>\n",
       "      <td>0</td>\n",
       "      <td>10</td>\n",
       "      <td>12</td>\n",
       "      <td>2018</td>\n",
       "    </tr>\n",
       "    <tr>\n",
       "      <th>38891</th>\n",
       "      <td>1254_618</td>\n",
       "      <td>1254</td>\n",
       "      <td>2018-12-05</td>\n",
       "      <td>2</td>\n",
       "      <td>5</td>\n",
       "      <td>12</td>\n",
       "      <td>2018</td>\n",
       "    </tr>\n",
       "    <tr>\n",
       "      <th>7270</th>\n",
       "      <td>1059_142</td>\n",
       "      <td>1059</td>\n",
       "      <td>2018-05-19</td>\n",
       "      <td>5</td>\n",
       "      <td>19</td>\n",
       "      <td>5</td>\n",
       "      <td>2018</td>\n",
       "    </tr>\n",
       "  </tbody>\n",
       "</table>\n",
       "</div>"
      ],
      "text/plain": [
       "             id  user_id message_date  message_weekday  message_day  \\\n",
       "54282  1343_375     1343   2018-09-22                5           22   \n",
       "14490   1099_51     1099   2018-07-11                2           11   \n",
       "12663  1082_233     1082   2018-10-12                4           12   \n",
       "35725   1235_51     1235   2018-12-08                5            8   \n",
       "69059  1447_127     1447   2018-11-30                4           30   \n",
       "25819  1155_194     1155   2018-07-14                5           14   \n",
       "13818   1094_61     1094   2018-11-28                2           28   \n",
       "14481   1099_42     1099   2018-12-10                0           10   \n",
       "38891  1254_618     1254   2018-12-05                2            5   \n",
       "7270   1059_142     1059   2018-05-19                5           19   \n",
       "\n",
       "       message_month  message_year  \n",
       "54282              9          2018  \n",
       "14490              7          2018  \n",
       "12663             10          2018  \n",
       "35725             12          2018  \n",
       "69059             11          2018  \n",
       "25819              7          2018  \n",
       "13818             11          2018  \n",
       "14481             12          2018  \n",
       "38891             12          2018  \n",
       "7270               5          2018  "
      ]
     },
     "execution_count": 21,
     "metadata": {},
     "output_type": "execute_result"
    }
   ],
   "source": [
    "df_megaline_messages.sample(10)"
   ]
  },
  {
   "cell_type": "markdown",
   "metadata": {},
   "source": [
    "## Internet"
   ]
  },
  {
   "cell_type": "code",
   "execution_count": 22,
   "metadata": {},
   "outputs": [
    {
     "name": "stdout",
     "output_type": "stream",
     "text": [
      "<class 'pandas.core.frame.DataFrame'>\n",
      "RangeIndex: 104825 entries, 0 to 104824\n",
      "Data columns (total 4 columns):\n",
      " #   Column        Non-Null Count   Dtype  \n",
      "---  ------        --------------   -----  \n",
      " 0   id            104825 non-null  object \n",
      " 1   user_id       104825 non-null  int64  \n",
      " 2   session_date  104825 non-null  object \n",
      " 3   mb_used       104825 non-null  float64\n",
      "dtypes: float64(1), int64(1), object(2)\n",
      "memory usage: 3.2+ MB\n"
     ]
    }
   ],
   "source": [
    "df_megaline_internet.info()"
   ]
  },
  {
   "cell_type": "code",
   "execution_count": 23,
   "metadata": {},
   "outputs": [
    {
     "data": {
      "text/html": [
       "<div>\n",
       "<style scoped>\n",
       "    .dataframe tbody tr th:only-of-type {\n",
       "        vertical-align: middle;\n",
       "    }\n",
       "\n",
       "    .dataframe tbody tr th {\n",
       "        vertical-align: top;\n",
       "    }\n",
       "\n",
       "    .dataframe thead th {\n",
       "        text-align: right;\n",
       "    }\n",
       "</style>\n",
       "<table border=\"1\" class=\"dataframe\">\n",
       "  <thead>\n",
       "    <tr style=\"text-align: right;\">\n",
       "      <th></th>\n",
       "      <th>id</th>\n",
       "      <th>user_id</th>\n",
       "      <th>session_date</th>\n",
       "      <th>mb_used</th>\n",
       "    </tr>\n",
       "  </thead>\n",
       "  <tbody>\n",
       "    <tr>\n",
       "      <th>43672</th>\n",
       "      <td>1194_90</td>\n",
       "      <td>1194</td>\n",
       "      <td>2018-08-28</td>\n",
       "      <td>451.37</td>\n",
       "    </tr>\n",
       "    <tr>\n",
       "      <th>60103</th>\n",
       "      <td>1270_445</td>\n",
       "      <td>1270</td>\n",
       "      <td>2018-12-03</td>\n",
       "      <td>460.54</td>\n",
       "    </tr>\n",
       "    <tr>\n",
       "      <th>39898</th>\n",
       "      <td>1179_229</td>\n",
       "      <td>1179</td>\n",
       "      <td>2018-10-06</td>\n",
       "      <td>682.26</td>\n",
       "    </tr>\n",
       "    <tr>\n",
       "      <th>10209</th>\n",
       "      <td>1053_97</td>\n",
       "      <td>1053</td>\n",
       "      <td>2018-12-14</td>\n",
       "      <td>162.12</td>\n",
       "    </tr>\n",
       "    <tr>\n",
       "      <th>61929</th>\n",
       "      <td>1281_180</td>\n",
       "      <td>1281</td>\n",
       "      <td>2018-08-21</td>\n",
       "      <td>562.43</td>\n",
       "    </tr>\n",
       "    <tr>\n",
       "      <th>60978</th>\n",
       "      <td>1277_281</td>\n",
       "      <td>1277</td>\n",
       "      <td>2018-09-25</td>\n",
       "      <td>486.81</td>\n",
       "    </tr>\n",
       "    <tr>\n",
       "      <th>84450</th>\n",
       "      <td>1393_48</td>\n",
       "      <td>1393</td>\n",
       "      <td>2018-12-17</td>\n",
       "      <td>603.32</td>\n",
       "    </tr>\n",
       "    <tr>\n",
       "      <th>25641</th>\n",
       "      <td>1120_157</td>\n",
       "      <td>1120</td>\n",
       "      <td>2018-04-07</td>\n",
       "      <td>701.64</td>\n",
       "    </tr>\n",
       "    <tr>\n",
       "      <th>71324</th>\n",
       "      <td>1332_297</td>\n",
       "      <td>1332</td>\n",
       "      <td>2018-12-29</td>\n",
       "      <td>0.00</td>\n",
       "    </tr>\n",
       "    <tr>\n",
       "      <th>65232</th>\n",
       "      <td>1300_132</td>\n",
       "      <td>1300</td>\n",
       "      <td>2018-11-26</td>\n",
       "      <td>207.21</td>\n",
       "    </tr>\n",
       "  </tbody>\n",
       "</table>\n",
       "</div>"
      ],
      "text/plain": [
       "             id  user_id session_date  mb_used\n",
       "43672   1194_90     1194   2018-08-28   451.37\n",
       "60103  1270_445     1270   2018-12-03   460.54\n",
       "39898  1179_229     1179   2018-10-06   682.26\n",
       "10209   1053_97     1053   2018-12-14   162.12\n",
       "61929  1281_180     1281   2018-08-21   562.43\n",
       "60978  1277_281     1277   2018-09-25   486.81\n",
       "84450   1393_48     1393   2018-12-17   603.32\n",
       "25641  1120_157     1120   2018-04-07   701.64\n",
       "71324  1332_297     1332   2018-12-29     0.00\n",
       "65232  1300_132     1300   2018-11-26   207.21"
      ]
     },
     "execution_count": 23,
     "metadata": {},
     "output_type": "execute_result"
    }
   ],
   "source": [
    "df_megaline_internet.sample(10)"
   ]
  },
  {
   "cell_type": "markdown",
   "metadata": {},
   "source": [
    "Sama seperti data transaksi sebelumnya. Di data ini kita juga perlu kolom month untuk menunjukan kapan internet ini diakses. "
   ]
  },
  {
   "cell_type": "markdown",
   "metadata": {},
   "source": [
    " "
   ]
  },
  {
   "cell_type": "markdown",
   "metadata": {},
   "source": [
    "### Memperbaiki Data"
   ]
  },
  {
   "cell_type": "markdown",
   "metadata": {},
   "source": [
    "Melakukan perbaikan data pada kolom-kolom yang dirasa bermasalah dan penambahan informasi tertentu untuk meningkatkan kualitas dari data. Dan menampilkan beberapa sample data untuk memastikan bahwa perbaikan data berjalan dengan semestinya. "
   ]
  },
  {
   "cell_type": "code",
   "execution_count": 24,
   "metadata": {},
   "outputs": [],
   "source": [
    "df_megaline_internet['mb_used'] = df_megaline_internet['mb_used'].astype('float')\n",
    "df_megaline_internet['session_date'] = pd.to_datetime(df_megaline_internet['session_date'], format='%Y-%m-%d')"
   ]
  },
  {
   "cell_type": "markdown",
   "metadata": {},
   "source": [
    "### Memperkaya Kualitas Data"
   ]
  },
  {
   "cell_type": "markdown",
   "metadata": {},
   "source": [
    " "
   ]
  },
  {
   "cell_type": "code",
   "execution_count": 25,
   "metadata": {},
   "outputs": [],
   "source": [
    "df_megaline_internet['session_day'] = pd.to_datetime(df_megaline_internet['session_date']).dt.day\n",
    "df_megaline_internet['session_month'] = pd.to_datetime(df_megaline_internet['session_date']).dt.month\n",
    "df_megaline_internet['session_year'] = pd.to_datetime(df_megaline_internet['session_date']).dt.year"
   ]
  },
  {
   "cell_type": "code",
   "execution_count": 26,
   "metadata": {
    "scrolled": true
   },
   "outputs": [
    {
     "data": {
      "text/html": [
       "<div>\n",
       "<style scoped>\n",
       "    .dataframe tbody tr th:only-of-type {\n",
       "        vertical-align: middle;\n",
       "    }\n",
       "\n",
       "    .dataframe tbody tr th {\n",
       "        vertical-align: top;\n",
       "    }\n",
       "\n",
       "    .dataframe thead th {\n",
       "        text-align: right;\n",
       "    }\n",
       "</style>\n",
       "<table border=\"1\" class=\"dataframe\">\n",
       "  <thead>\n",
       "    <tr style=\"text-align: right;\">\n",
       "      <th></th>\n",
       "      <th>id</th>\n",
       "      <th>user_id</th>\n",
       "      <th>session_date</th>\n",
       "      <th>mb_used</th>\n",
       "      <th>session_day</th>\n",
       "      <th>session_month</th>\n",
       "      <th>session_year</th>\n",
       "    </tr>\n",
       "  </thead>\n",
       "  <tbody>\n",
       "    <tr>\n",
       "      <th>71644</th>\n",
       "      <td>1334_212</td>\n",
       "      <td>1334</td>\n",
       "      <td>2018-05-06</td>\n",
       "      <td>0.00</td>\n",
       "      <td>6</td>\n",
       "      <td>5</td>\n",
       "      <td>2018</td>\n",
       "    </tr>\n",
       "    <tr>\n",
       "      <th>83082</th>\n",
       "      <td>1387_298</td>\n",
       "      <td>1387</td>\n",
       "      <td>2018-11-12</td>\n",
       "      <td>626.76</td>\n",
       "      <td>12</td>\n",
       "      <td>11</td>\n",
       "      <td>2018</td>\n",
       "    </tr>\n",
       "    <tr>\n",
       "      <th>5015</th>\n",
       "      <td>1028_591</td>\n",
       "      <td>1028</td>\n",
       "      <td>2018-06-28</td>\n",
       "      <td>269.39</td>\n",
       "      <td>28</td>\n",
       "      <td>6</td>\n",
       "      <td>2018</td>\n",
       "    </tr>\n",
       "    <tr>\n",
       "      <th>4060</th>\n",
       "      <td>1023_25</td>\n",
       "      <td>1023</td>\n",
       "      <td>2018-08-11</td>\n",
       "      <td>550.99</td>\n",
       "      <td>11</td>\n",
       "      <td>8</td>\n",
       "      <td>2018</td>\n",
       "    </tr>\n",
       "    <tr>\n",
       "      <th>48470</th>\n",
       "      <td>1215_192</td>\n",
       "      <td>1215</td>\n",
       "      <td>2018-12-21</td>\n",
       "      <td>222.33</td>\n",
       "      <td>21</td>\n",
       "      <td>12</td>\n",
       "      <td>2018</td>\n",
       "    </tr>\n",
       "    <tr>\n",
       "      <th>30123</th>\n",
       "      <td>1138_356</td>\n",
       "      <td>1138</td>\n",
       "      <td>2018-08-14</td>\n",
       "      <td>213.63</td>\n",
       "      <td>14</td>\n",
       "      <td>8</td>\n",
       "      <td>2018</td>\n",
       "    </tr>\n",
       "    <tr>\n",
       "      <th>23496</th>\n",
       "      <td>1109_74</td>\n",
       "      <td>1109</td>\n",
       "      <td>2018-12-17</td>\n",
       "      <td>0.00</td>\n",
       "      <td>17</td>\n",
       "      <td>12</td>\n",
       "      <td>2018</td>\n",
       "    </tr>\n",
       "    <tr>\n",
       "      <th>71191</th>\n",
       "      <td>1332_164</td>\n",
       "      <td>1332</td>\n",
       "      <td>2018-10-17</td>\n",
       "      <td>549.48</td>\n",
       "      <td>17</td>\n",
       "      <td>10</td>\n",
       "      <td>2018</td>\n",
       "    </tr>\n",
       "    <tr>\n",
       "      <th>19118</th>\n",
       "      <td>1085_192</td>\n",
       "      <td>1085</td>\n",
       "      <td>2018-09-08</td>\n",
       "      <td>410.69</td>\n",
       "      <td>8</td>\n",
       "      <td>9</td>\n",
       "      <td>2018</td>\n",
       "    </tr>\n",
       "    <tr>\n",
       "      <th>60921</th>\n",
       "      <td>1277_224</td>\n",
       "      <td>1277</td>\n",
       "      <td>2018-08-22</td>\n",
       "      <td>340.69</td>\n",
       "      <td>22</td>\n",
       "      <td>8</td>\n",
       "      <td>2018</td>\n",
       "    </tr>\n",
       "  </tbody>\n",
       "</table>\n",
       "</div>"
      ],
      "text/plain": [
       "             id  user_id session_date  mb_used  session_day  session_month  \\\n",
       "71644  1334_212     1334   2018-05-06     0.00            6              5   \n",
       "83082  1387_298     1387   2018-11-12   626.76           12             11   \n",
       "5015   1028_591     1028   2018-06-28   269.39           28              6   \n",
       "4060    1023_25     1023   2018-08-11   550.99           11              8   \n",
       "48470  1215_192     1215   2018-12-21   222.33           21             12   \n",
       "30123  1138_356     1138   2018-08-14   213.63           14              8   \n",
       "23496   1109_74     1109   2018-12-17     0.00           17             12   \n",
       "71191  1332_164     1332   2018-10-17   549.48           17             10   \n",
       "19118  1085_192     1085   2018-09-08   410.69            8              9   \n",
       "60921  1277_224     1277   2018-08-22   340.69           22              8   \n",
       "\n",
       "       session_year  \n",
       "71644          2018  \n",
       "83082          2018  \n",
       "5015           2018  \n",
       "4060           2018  \n",
       "48470          2018  \n",
       "30123          2018  \n",
       "23496          2018  \n",
       "71191          2018  \n",
       "19118          2018  \n",
       "60921          2018  "
      ]
     },
     "execution_count": 26,
     "metadata": {},
     "output_type": "execute_result"
    }
   ],
   "source": [
    "df_megaline_internet.sample(10)"
   ]
  },
  {
   "cell_type": "markdown",
   "metadata": {},
   "source": [
    "## Mempelajari Syarat dan Kondisi Terkait Paket Prabayar"
   ]
  },
  {
   "cell_type": "markdown",
   "metadata": {},
   "source": [
    " Kolom yang mengandung kata \"included\" menunjukan penggunaan maksimal atau kuota yang didapat oleh pengguna paket. Dan 3 kolom yaitu \"usd_per_gb\", \"usd_per_message\", dan \"usd_per_minute\" adalah kolom yang menyimpan biaya yang dikenakan pengguna apabila penggunaan melebihi batas maksimal. Pada kolom ini mencakup semua informasi beserta syarat dan kondisi paket."
   ]
  },
  {
   "cell_type": "code",
   "execution_count": 27,
   "metadata": {
    "scrolled": true
   },
   "outputs": [
    {
     "data": {
      "text/html": [
       "<div>\n",
       "<style scoped>\n",
       "    .dataframe tbody tr th:only-of-type {\n",
       "        vertical-align: middle;\n",
       "    }\n",
       "\n",
       "    .dataframe tbody tr th {\n",
       "        vertical-align: top;\n",
       "    }\n",
       "\n",
       "    .dataframe thead th {\n",
       "        text-align: right;\n",
       "    }\n",
       "</style>\n",
       "<table border=\"1\" class=\"dataframe\">\n",
       "  <thead>\n",
       "    <tr style=\"text-align: right;\">\n",
       "      <th></th>\n",
       "      <th>messages_included</th>\n",
       "      <th>mb_per_month_included</th>\n",
       "      <th>minutes_included</th>\n",
       "      <th>usd_monthly_pay</th>\n",
       "      <th>usd_per_gb</th>\n",
       "      <th>usd_per_message</th>\n",
       "      <th>usd_per_minute</th>\n",
       "      <th>plan_name</th>\n",
       "      <th>gb_per_month_included</th>\n",
       "    </tr>\n",
       "  </thead>\n",
       "  <tbody>\n",
       "    <tr>\n",
       "      <th>0</th>\n",
       "      <td>50</td>\n",
       "      <td>15360</td>\n",
       "      <td>500</td>\n",
       "      <td>20.0</td>\n",
       "      <td>10.0</td>\n",
       "      <td>0.03</td>\n",
       "      <td>0.03</td>\n",
       "      <td>surf</td>\n",
       "      <td>15</td>\n",
       "    </tr>\n",
       "    <tr>\n",
       "      <th>1</th>\n",
       "      <td>1000</td>\n",
       "      <td>30720</td>\n",
       "      <td>3000</td>\n",
       "      <td>70.0</td>\n",
       "      <td>7.0</td>\n",
       "      <td>0.01</td>\n",
       "      <td>0.01</td>\n",
       "      <td>ultimate</td>\n",
       "      <td>30</td>\n",
       "    </tr>\n",
       "  </tbody>\n",
       "</table>\n",
       "</div>"
      ],
      "text/plain": [
       "   messages_included  mb_per_month_included  minutes_included  \\\n",
       "0                 50                  15360               500   \n",
       "1               1000                  30720              3000   \n",
       "\n",
       "   usd_monthly_pay  usd_per_gb  usd_per_message  usd_per_minute plan_name  \\\n",
       "0             20.0        10.0             0.03            0.03      surf   \n",
       "1             70.0         7.0             0.01            0.01  ultimate   \n",
       "\n",
       "   gb_per_month_included  \n",
       "0                     15  \n",
       "1                     30  "
      ]
     },
     "execution_count": 27,
     "metadata": {},
     "output_type": "execute_result"
    }
   ],
   "source": [
    "df_megaline_plans.head()"
   ]
  },
  {
   "cell_type": "markdown",
   "metadata": {},
   "source": [
    "## Mengagregasi Data per Pengguna\n",
    "\n"
   ]
  },
  {
   "cell_type": "code",
   "execution_count": 28,
   "metadata": {},
   "outputs": [
    {
     "data": {
      "text/html": [
       "<div>\n",
       "<style scoped>\n",
       "    .dataframe tbody tr th:only-of-type {\n",
       "        vertical-align: middle;\n",
       "    }\n",
       "\n",
       "    .dataframe tbody tr th {\n",
       "        vertical-align: top;\n",
       "    }\n",
       "\n",
       "    .dataframe thead th {\n",
       "        text-align: right;\n",
       "    }\n",
       "</style>\n",
       "<table border=\"1\" class=\"dataframe\">\n",
       "  <thead>\n",
       "    <tr style=\"text-align: right;\">\n",
       "      <th></th>\n",
       "      <th>user_id</th>\n",
       "      <th>month</th>\n",
       "      <th>total_calls</th>\n",
       "    </tr>\n",
       "  </thead>\n",
       "  <tbody>\n",
       "    <tr>\n",
       "      <th>0</th>\n",
       "      <td>1000</td>\n",
       "      <td>12</td>\n",
       "      <td>16</td>\n",
       "    </tr>\n",
       "    <tr>\n",
       "      <th>1</th>\n",
       "      <td>1001</td>\n",
       "      <td>8</td>\n",
       "      <td>27</td>\n",
       "    </tr>\n",
       "    <tr>\n",
       "      <th>2</th>\n",
       "      <td>1001</td>\n",
       "      <td>9</td>\n",
       "      <td>49</td>\n",
       "    </tr>\n",
       "    <tr>\n",
       "      <th>3</th>\n",
       "      <td>1001</td>\n",
       "      <td>10</td>\n",
       "      <td>65</td>\n",
       "    </tr>\n",
       "    <tr>\n",
       "      <th>4</th>\n",
       "      <td>1001</td>\n",
       "      <td>11</td>\n",
       "      <td>64</td>\n",
       "    </tr>\n",
       "    <tr>\n",
       "      <th>5</th>\n",
       "      <td>1001</td>\n",
       "      <td>12</td>\n",
       "      <td>56</td>\n",
       "    </tr>\n",
       "    <tr>\n",
       "      <th>6</th>\n",
       "      <td>1002</td>\n",
       "      <td>10</td>\n",
       "      <td>11</td>\n",
       "    </tr>\n",
       "    <tr>\n",
       "      <th>7</th>\n",
       "      <td>1002</td>\n",
       "      <td>11</td>\n",
       "      <td>55</td>\n",
       "    </tr>\n",
       "    <tr>\n",
       "      <th>8</th>\n",
       "      <td>1002</td>\n",
       "      <td>12</td>\n",
       "      <td>47</td>\n",
       "    </tr>\n",
       "    <tr>\n",
       "      <th>9</th>\n",
       "      <td>1003</td>\n",
       "      <td>12</td>\n",
       "      <td>149</td>\n",
       "    </tr>\n",
       "  </tbody>\n",
       "</table>\n",
       "</div>"
      ],
      "text/plain": [
       "   user_id  month  total_calls\n",
       "0     1000     12           16\n",
       "1     1001      8           27\n",
       "2     1001      9           49\n",
       "3     1001     10           65\n",
       "4     1001     11           64\n",
       "5     1001     12           56\n",
       "6     1002     10           11\n",
       "7     1002     11           55\n",
       "8     1002     12           47\n",
       "9     1003     12          149"
      ]
     },
     "execution_count": 28,
     "metadata": {},
     "output_type": "execute_result"
    }
   ],
   "source": [
    "df_megaline_calls_agg_sum = df_megaline_calls.pivot_table(index=['user_id', 'call_month'], aggfunc={'id': 'count'}).reset_index()\n",
    "df_megaline_calls_agg_sum.columns = ['user_id', 'month', 'total_calls']\n",
    "df_megaline_calls_agg_sum.head(10)"
   ]
  },
  {
   "cell_type": "code",
   "execution_count": 29,
   "metadata": {},
   "outputs": [
    {
     "data": {
      "text/html": [
       "<div>\n",
       "<style scoped>\n",
       "    .dataframe tbody tr th:only-of-type {\n",
       "        vertical-align: middle;\n",
       "    }\n",
       "\n",
       "    .dataframe tbody tr th {\n",
       "        vertical-align: top;\n",
       "    }\n",
       "\n",
       "    .dataframe thead th {\n",
       "        text-align: right;\n",
       "    }\n",
       "</style>\n",
       "<table border=\"1\" class=\"dataframe\">\n",
       "  <thead>\n",
       "    <tr style=\"text-align: right;\">\n",
       "      <th></th>\n",
       "      <th>user_id</th>\n",
       "      <th>month</th>\n",
       "      <th>total_paid_duration</th>\n",
       "    </tr>\n",
       "  </thead>\n",
       "  <tbody>\n",
       "    <tr>\n",
       "      <th>0</th>\n",
       "      <td>1000</td>\n",
       "      <td>12</td>\n",
       "      <td>124.0</td>\n",
       "    </tr>\n",
       "    <tr>\n",
       "      <th>1</th>\n",
       "      <td>1001</td>\n",
       "      <td>8</td>\n",
       "      <td>182.0</td>\n",
       "    </tr>\n",
       "    <tr>\n",
       "      <th>2</th>\n",
       "      <td>1001</td>\n",
       "      <td>9</td>\n",
       "      <td>315.0</td>\n",
       "    </tr>\n",
       "    <tr>\n",
       "      <th>3</th>\n",
       "      <td>1001</td>\n",
       "      <td>10</td>\n",
       "      <td>393.0</td>\n",
       "    </tr>\n",
       "    <tr>\n",
       "      <th>4</th>\n",
       "      <td>1001</td>\n",
       "      <td>11</td>\n",
       "      <td>426.0</td>\n",
       "    </tr>\n",
       "    <tr>\n",
       "      <th>5</th>\n",
       "      <td>1001</td>\n",
       "      <td>12</td>\n",
       "      <td>412.0</td>\n",
       "    </tr>\n",
       "    <tr>\n",
       "      <th>6</th>\n",
       "      <td>1002</td>\n",
       "      <td>10</td>\n",
       "      <td>59.0</td>\n",
       "    </tr>\n",
       "    <tr>\n",
       "      <th>7</th>\n",
       "      <td>1002</td>\n",
       "      <td>11</td>\n",
       "      <td>386.0</td>\n",
       "    </tr>\n",
       "    <tr>\n",
       "      <th>8</th>\n",
       "      <td>1002</td>\n",
       "      <td>12</td>\n",
       "      <td>384.0</td>\n",
       "    </tr>\n",
       "    <tr>\n",
       "      <th>9</th>\n",
       "      <td>1003</td>\n",
       "      <td>12</td>\n",
       "      <td>1104.0</td>\n",
       "    </tr>\n",
       "  </tbody>\n",
       "</table>\n",
       "</div>"
      ],
      "text/plain": [
       "   user_id  month  total_paid_duration\n",
       "0     1000     12                124.0\n",
       "1     1001      8                182.0\n",
       "2     1001      9                315.0\n",
       "3     1001     10                393.0\n",
       "4     1001     11                426.0\n",
       "5     1001     12                412.0\n",
       "6     1002     10                 59.0\n",
       "7     1002     11                386.0\n",
       "8     1002     12                384.0\n",
       "9     1003     12               1104.0"
      ]
     },
     "execution_count": 29,
     "metadata": {},
     "output_type": "execute_result"
    }
   ],
   "source": [
    "df_megaline_calls_agg_minutes = df_megaline_calls.pivot_table(index=['user_id', 'call_month'], aggfunc={'paid_duration': 'sum'}).reset_index()\n",
    "df_megaline_calls_agg_minutes.columns=['user_id', 'month', 'total_paid_duration']\n",
    "df_megaline_calls_agg_minutes.head(10)"
   ]
  },
  {
   "cell_type": "code",
   "execution_count": 30,
   "metadata": {},
   "outputs": [
    {
     "data": {
      "text/html": [
       "<div>\n",
       "<style scoped>\n",
       "    .dataframe tbody tr th:only-of-type {\n",
       "        vertical-align: middle;\n",
       "    }\n",
       "\n",
       "    .dataframe tbody tr th {\n",
       "        vertical-align: top;\n",
       "    }\n",
       "\n",
       "    .dataframe thead th {\n",
       "        text-align: right;\n",
       "    }\n",
       "</style>\n",
       "<table border=\"1\" class=\"dataframe\">\n",
       "  <thead>\n",
       "    <tr style=\"text-align: right;\">\n",
       "      <th></th>\n",
       "      <th>user_id</th>\n",
       "      <th>month</th>\n",
       "      <th>total_sms</th>\n",
       "    </tr>\n",
       "  </thead>\n",
       "  <tbody>\n",
       "    <tr>\n",
       "      <th>0</th>\n",
       "      <td>1000</td>\n",
       "      <td>12</td>\n",
       "      <td>11</td>\n",
       "    </tr>\n",
       "    <tr>\n",
       "      <th>1</th>\n",
       "      <td>1001</td>\n",
       "      <td>8</td>\n",
       "      <td>30</td>\n",
       "    </tr>\n",
       "    <tr>\n",
       "      <th>2</th>\n",
       "      <td>1001</td>\n",
       "      <td>9</td>\n",
       "      <td>44</td>\n",
       "    </tr>\n",
       "    <tr>\n",
       "      <th>3</th>\n",
       "      <td>1001</td>\n",
       "      <td>10</td>\n",
       "      <td>53</td>\n",
       "    </tr>\n",
       "    <tr>\n",
       "      <th>4</th>\n",
       "      <td>1001</td>\n",
       "      <td>11</td>\n",
       "      <td>36</td>\n",
       "    </tr>\n",
       "    <tr>\n",
       "      <th>5</th>\n",
       "      <td>1001</td>\n",
       "      <td>12</td>\n",
       "      <td>44</td>\n",
       "    </tr>\n",
       "    <tr>\n",
       "      <th>6</th>\n",
       "      <td>1002</td>\n",
       "      <td>10</td>\n",
       "      <td>15</td>\n",
       "    </tr>\n",
       "    <tr>\n",
       "      <th>7</th>\n",
       "      <td>1002</td>\n",
       "      <td>11</td>\n",
       "      <td>32</td>\n",
       "    </tr>\n",
       "    <tr>\n",
       "      <th>8</th>\n",
       "      <td>1002</td>\n",
       "      <td>12</td>\n",
       "      <td>41</td>\n",
       "    </tr>\n",
       "    <tr>\n",
       "      <th>9</th>\n",
       "      <td>1003</td>\n",
       "      <td>12</td>\n",
       "      <td>50</td>\n",
       "    </tr>\n",
       "  </tbody>\n",
       "</table>\n",
       "</div>"
      ],
      "text/plain": [
       "   user_id  month  total_sms\n",
       "0     1000     12         11\n",
       "1     1001      8         30\n",
       "2     1001      9         44\n",
       "3     1001     10         53\n",
       "4     1001     11         36\n",
       "5     1001     12         44\n",
       "6     1002     10         15\n",
       "7     1002     11         32\n",
       "8     1002     12         41\n",
       "9     1003     12         50"
      ]
     },
     "execution_count": 30,
     "metadata": {},
     "output_type": "execute_result"
    }
   ],
   "source": [
    "df_megaline_messages_agg_sum = df_megaline_messages.pivot_table(index=['user_id', 'message_month'], aggfunc={'id': 'count'}).reset_index()\n",
    "df_megaline_messages_agg_sum.columns = ['user_id', 'month', 'total_sms']\n",
    "df_megaline_messages_agg_sum.head(10)"
   ]
  },
  {
   "cell_type": "code",
   "execution_count": 31,
   "metadata": {},
   "outputs": [
    {
     "data": {
      "text/html": [
       "<div>\n",
       "<style scoped>\n",
       "    .dataframe tbody tr th:only-of-type {\n",
       "        vertical-align: middle;\n",
       "    }\n",
       "\n",
       "    .dataframe tbody tr th {\n",
       "        vertical-align: top;\n",
       "    }\n",
       "\n",
       "    .dataframe thead th {\n",
       "        text-align: right;\n",
       "    }\n",
       "</style>\n",
       "<table border=\"1\" class=\"dataframe\">\n",
       "  <thead>\n",
       "    <tr style=\"text-align: right;\">\n",
       "      <th></th>\n",
       "      <th>user_id</th>\n",
       "      <th>month</th>\n",
       "      <th>mb_used</th>\n",
       "      <th>total_gb_paid</th>\n",
       "    </tr>\n",
       "  </thead>\n",
       "  <tbody>\n",
       "    <tr>\n",
       "      <th>0</th>\n",
       "      <td>1000</td>\n",
       "      <td>12</td>\n",
       "      <td>1901.47</td>\n",
       "      <td>2.0</td>\n",
       "    </tr>\n",
       "    <tr>\n",
       "      <th>1</th>\n",
       "      <td>1001</td>\n",
       "      <td>8</td>\n",
       "      <td>6919.15</td>\n",
       "      <td>7.0</td>\n",
       "    </tr>\n",
       "    <tr>\n",
       "      <th>2</th>\n",
       "      <td>1001</td>\n",
       "      <td>9</td>\n",
       "      <td>13314.82</td>\n",
       "      <td>14.0</td>\n",
       "    </tr>\n",
       "    <tr>\n",
       "      <th>3</th>\n",
       "      <td>1001</td>\n",
       "      <td>10</td>\n",
       "      <td>22330.49</td>\n",
       "      <td>22.0</td>\n",
       "    </tr>\n",
       "    <tr>\n",
       "      <th>4</th>\n",
       "      <td>1001</td>\n",
       "      <td>11</td>\n",
       "      <td>18504.30</td>\n",
       "      <td>19.0</td>\n",
       "    </tr>\n",
       "    <tr>\n",
       "      <th>5</th>\n",
       "      <td>1001</td>\n",
       "      <td>12</td>\n",
       "      <td>19369.18</td>\n",
       "      <td>19.0</td>\n",
       "    </tr>\n",
       "    <tr>\n",
       "      <th>6</th>\n",
       "      <td>1002</td>\n",
       "      <td>10</td>\n",
       "      <td>6552.01</td>\n",
       "      <td>7.0</td>\n",
       "    </tr>\n",
       "    <tr>\n",
       "      <th>7</th>\n",
       "      <td>1002</td>\n",
       "      <td>11</td>\n",
       "      <td>19345.08</td>\n",
       "      <td>19.0</td>\n",
       "    </tr>\n",
       "    <tr>\n",
       "      <th>8</th>\n",
       "      <td>1002</td>\n",
       "      <td>12</td>\n",
       "      <td>14396.24</td>\n",
       "      <td>15.0</td>\n",
       "    </tr>\n",
       "    <tr>\n",
       "      <th>9</th>\n",
       "      <td>1003</td>\n",
       "      <td>12</td>\n",
       "      <td>27044.14</td>\n",
       "      <td>27.0</td>\n",
       "    </tr>\n",
       "  </tbody>\n",
       "</table>\n",
       "</div>"
      ],
      "text/plain": [
       "   user_id  month   mb_used  total_gb_paid\n",
       "0     1000     12   1901.47            2.0\n",
       "1     1001      8   6919.15            7.0\n",
       "2     1001      9  13314.82           14.0\n",
       "3     1001     10  22330.49           22.0\n",
       "4     1001     11  18504.30           19.0\n",
       "5     1001     12  19369.18           19.0\n",
       "6     1002     10   6552.01            7.0\n",
       "7     1002     11  19345.08           19.0\n",
       "8     1002     12  14396.24           15.0\n",
       "9     1003     12  27044.14           27.0"
      ]
     },
     "execution_count": 31,
     "metadata": {},
     "output_type": "execute_result"
    }
   ],
   "source": [
    "df_megaline_internet_agg_gb = df_megaline_internet.pivot_table(index=['user_id', 'session_month'], aggfunc={'mb_used': 'sum'}).reset_index()\n",
    "df_megaline_internet_agg_gb.columns = ['user_id', 'month', 'mb_used']\n",
    "df_megaline_internet_agg_gb['total_gb_paid'] = np.ceil(df_megaline_internet_agg_gb['mb_used']/1024)\n",
    "df_megaline_internet_agg_gb.head(10)"
   ]
  },
  {
   "cell_type": "markdown",
   "metadata": {},
   "source": [
    "Pada data sebelumnya, kita sudah mendapatkan informasi jumlah penggunaan yang dilakukan oleh pelanggan pada setiap bulan. Termasuk informasi pemanggilan, sms, dan penggunaan internet. Disini, kita dapat melihat bahwa kita menggenapkan durasi panggilan ke atas. Karena biaya dikenakan persetiap transaksi. Sedangkan biaya penggunaan internet dihitung secara total dalam 1 bulan, setelah itu dibulatkan keatas. Proses berikutnya adalah menggabungkan semua informasi tersebut pada 1 dataframe. Sehingga kita dapat dengan mudah melihat semua informasi pada 1 tabel yang sama."
   ]
  },
  {
   "cell_type": "code",
   "execution_count": 32,
   "metadata": {},
   "outputs": [
    {
     "data": {
      "text/html": [
       "<div>\n",
       "<style scoped>\n",
       "    .dataframe tbody tr th:only-of-type {\n",
       "        vertical-align: middle;\n",
       "    }\n",
       "\n",
       "    .dataframe tbody tr th {\n",
       "        vertical-align: top;\n",
       "    }\n",
       "\n",
       "    .dataframe thead th {\n",
       "        text-align: right;\n",
       "    }\n",
       "</style>\n",
       "<table border=\"1\" class=\"dataframe\">\n",
       "  <thead>\n",
       "    <tr style=\"text-align: right;\">\n",
       "      <th></th>\n",
       "      <th>user_id</th>\n",
       "      <th>month</th>\n",
       "      <th>total_calls</th>\n",
       "      <th>total_paid_duration</th>\n",
       "      <th>total_sms</th>\n",
       "      <th>mb_used</th>\n",
       "      <th>total_gb_paid</th>\n",
       "    </tr>\n",
       "  </thead>\n",
       "  <tbody>\n",
       "    <tr>\n",
       "      <th>0</th>\n",
       "      <td>1000</td>\n",
       "      <td>12</td>\n",
       "      <td>16</td>\n",
       "      <td>124.0</td>\n",
       "      <td>11</td>\n",
       "      <td>1901.47</td>\n",
       "      <td>2.0</td>\n",
       "    </tr>\n",
       "    <tr>\n",
       "      <th>1</th>\n",
       "      <td>1001</td>\n",
       "      <td>8</td>\n",
       "      <td>27</td>\n",
       "      <td>182.0</td>\n",
       "      <td>30</td>\n",
       "      <td>6919.15</td>\n",
       "      <td>7.0</td>\n",
       "    </tr>\n",
       "    <tr>\n",
       "      <th>2</th>\n",
       "      <td>1001</td>\n",
       "      <td>9</td>\n",
       "      <td>49</td>\n",
       "      <td>315.0</td>\n",
       "      <td>44</td>\n",
       "      <td>13314.82</td>\n",
       "      <td>14.0</td>\n",
       "    </tr>\n",
       "    <tr>\n",
       "      <th>3</th>\n",
       "      <td>1001</td>\n",
       "      <td>10</td>\n",
       "      <td>65</td>\n",
       "      <td>393.0</td>\n",
       "      <td>53</td>\n",
       "      <td>22330.49</td>\n",
       "      <td>22.0</td>\n",
       "    </tr>\n",
       "    <tr>\n",
       "      <th>4</th>\n",
       "      <td>1001</td>\n",
       "      <td>11</td>\n",
       "      <td>64</td>\n",
       "      <td>426.0</td>\n",
       "      <td>36</td>\n",
       "      <td>18504.30</td>\n",
       "      <td>19.0</td>\n",
       "    </tr>\n",
       "    <tr>\n",
       "      <th>5</th>\n",
       "      <td>1001</td>\n",
       "      <td>12</td>\n",
       "      <td>56</td>\n",
       "      <td>412.0</td>\n",
       "      <td>44</td>\n",
       "      <td>19369.18</td>\n",
       "      <td>19.0</td>\n",
       "    </tr>\n",
       "    <tr>\n",
       "      <th>6</th>\n",
       "      <td>1002</td>\n",
       "      <td>10</td>\n",
       "      <td>11</td>\n",
       "      <td>59.0</td>\n",
       "      <td>15</td>\n",
       "      <td>6552.01</td>\n",
       "      <td>7.0</td>\n",
       "    </tr>\n",
       "    <tr>\n",
       "      <th>7</th>\n",
       "      <td>1002</td>\n",
       "      <td>11</td>\n",
       "      <td>55</td>\n",
       "      <td>386.0</td>\n",
       "      <td>32</td>\n",
       "      <td>19345.08</td>\n",
       "      <td>19.0</td>\n",
       "    </tr>\n",
       "    <tr>\n",
       "      <th>8</th>\n",
       "      <td>1002</td>\n",
       "      <td>12</td>\n",
       "      <td>47</td>\n",
       "      <td>384.0</td>\n",
       "      <td>41</td>\n",
       "      <td>14396.24</td>\n",
       "      <td>15.0</td>\n",
       "    </tr>\n",
       "    <tr>\n",
       "      <th>9</th>\n",
       "      <td>1003</td>\n",
       "      <td>12</td>\n",
       "      <td>149</td>\n",
       "      <td>1104.0</td>\n",
       "      <td>50</td>\n",
       "      <td>27044.14</td>\n",
       "      <td>27.0</td>\n",
       "    </tr>\n",
       "  </tbody>\n",
       "</table>\n",
       "</div>"
      ],
      "text/plain": [
       "   user_id  month  total_calls  total_paid_duration  total_sms   mb_used  \\\n",
       "0     1000     12           16                124.0         11   1901.47   \n",
       "1     1001      8           27                182.0         30   6919.15   \n",
       "2     1001      9           49                315.0         44  13314.82   \n",
       "3     1001     10           65                393.0         53  22330.49   \n",
       "4     1001     11           64                426.0         36  18504.30   \n",
       "5     1001     12           56                412.0         44  19369.18   \n",
       "6     1002     10           11                 59.0         15   6552.01   \n",
       "7     1002     11           55                386.0         32  19345.08   \n",
       "8     1002     12           47                384.0         41  14396.24   \n",
       "9     1003     12          149               1104.0         50  27044.14   \n",
       "\n",
       "   total_gb_paid  \n",
       "0            2.0  \n",
       "1            7.0  \n",
       "2           14.0  \n",
       "3           22.0  \n",
       "4           19.0  \n",
       "5           19.0  \n",
       "6            7.0  \n",
       "7           19.0  \n",
       "8           15.0  \n",
       "9           27.0  "
      ]
     },
     "execution_count": 32,
     "metadata": {},
     "output_type": "execute_result"
    }
   ],
   "source": [
    "df_megaline_merge = df_megaline_calls_agg_sum.merge(df_megaline_calls_agg_minutes, on=['user_id', 'month']).merge(df_megaline_messages_agg_sum, on=['user_id', 'month']).merge(df_megaline_internet_agg_gb, on=['user_id', 'month'])\n",
    "df_megaline_merge.head(10)"
   ]
  },
  {
   "cell_type": "code",
   "execution_count": 33,
   "metadata": {},
   "outputs": [
    {
     "data": {
      "text/html": [
       "<div>\n",
       "<style scoped>\n",
       "    .dataframe tbody tr th:only-of-type {\n",
       "        vertical-align: middle;\n",
       "    }\n",
       "\n",
       "    .dataframe tbody tr th {\n",
       "        vertical-align: top;\n",
       "    }\n",
       "\n",
       "    .dataframe thead th {\n",
       "        text-align: right;\n",
       "    }\n",
       "</style>\n",
       "<table border=\"1\" class=\"dataframe\">\n",
       "  <thead>\n",
       "    <tr style=\"text-align: right;\">\n",
       "      <th></th>\n",
       "      <th>user_id</th>\n",
       "      <th>month</th>\n",
       "      <th>total_calls</th>\n",
       "      <th>total_paid_duration</th>\n",
       "      <th>total_sms</th>\n",
       "      <th>mb_used</th>\n",
       "      <th>total_gb_paid</th>\n",
       "      <th>plan</th>\n",
       "    </tr>\n",
       "  </thead>\n",
       "  <tbody>\n",
       "    <tr>\n",
       "      <th>0</th>\n",
       "      <td>1000</td>\n",
       "      <td>12</td>\n",
       "      <td>16</td>\n",
       "      <td>124.0</td>\n",
       "      <td>11</td>\n",
       "      <td>1901.47</td>\n",
       "      <td>2.0</td>\n",
       "      <td>ultimate</td>\n",
       "    </tr>\n",
       "    <tr>\n",
       "      <th>1</th>\n",
       "      <td>1001</td>\n",
       "      <td>8</td>\n",
       "      <td>27</td>\n",
       "      <td>182.0</td>\n",
       "      <td>30</td>\n",
       "      <td>6919.15</td>\n",
       "      <td>7.0</td>\n",
       "      <td>surf</td>\n",
       "    </tr>\n",
       "    <tr>\n",
       "      <th>2</th>\n",
       "      <td>1001</td>\n",
       "      <td>9</td>\n",
       "      <td>49</td>\n",
       "      <td>315.0</td>\n",
       "      <td>44</td>\n",
       "      <td>13314.82</td>\n",
       "      <td>14.0</td>\n",
       "      <td>surf</td>\n",
       "    </tr>\n",
       "    <tr>\n",
       "      <th>3</th>\n",
       "      <td>1001</td>\n",
       "      <td>10</td>\n",
       "      <td>65</td>\n",
       "      <td>393.0</td>\n",
       "      <td>53</td>\n",
       "      <td>22330.49</td>\n",
       "      <td>22.0</td>\n",
       "      <td>surf</td>\n",
       "    </tr>\n",
       "    <tr>\n",
       "      <th>4</th>\n",
       "      <td>1001</td>\n",
       "      <td>11</td>\n",
       "      <td>64</td>\n",
       "      <td>426.0</td>\n",
       "      <td>36</td>\n",
       "      <td>18504.30</td>\n",
       "      <td>19.0</td>\n",
       "      <td>surf</td>\n",
       "    </tr>\n",
       "    <tr>\n",
       "      <th>5</th>\n",
       "      <td>1001</td>\n",
       "      <td>12</td>\n",
       "      <td>56</td>\n",
       "      <td>412.0</td>\n",
       "      <td>44</td>\n",
       "      <td>19369.18</td>\n",
       "      <td>19.0</td>\n",
       "      <td>surf</td>\n",
       "    </tr>\n",
       "    <tr>\n",
       "      <th>6</th>\n",
       "      <td>1002</td>\n",
       "      <td>10</td>\n",
       "      <td>11</td>\n",
       "      <td>59.0</td>\n",
       "      <td>15</td>\n",
       "      <td>6552.01</td>\n",
       "      <td>7.0</td>\n",
       "      <td>surf</td>\n",
       "    </tr>\n",
       "    <tr>\n",
       "      <th>7</th>\n",
       "      <td>1002</td>\n",
       "      <td>11</td>\n",
       "      <td>55</td>\n",
       "      <td>386.0</td>\n",
       "      <td>32</td>\n",
       "      <td>19345.08</td>\n",
       "      <td>19.0</td>\n",
       "      <td>surf</td>\n",
       "    </tr>\n",
       "    <tr>\n",
       "      <th>8</th>\n",
       "      <td>1002</td>\n",
       "      <td>12</td>\n",
       "      <td>47</td>\n",
       "      <td>384.0</td>\n",
       "      <td>41</td>\n",
       "      <td>14396.24</td>\n",
       "      <td>15.0</td>\n",
       "      <td>surf</td>\n",
       "    </tr>\n",
       "    <tr>\n",
       "      <th>9</th>\n",
       "      <td>1003</td>\n",
       "      <td>12</td>\n",
       "      <td>149</td>\n",
       "      <td>1104.0</td>\n",
       "      <td>50</td>\n",
       "      <td>27044.14</td>\n",
       "      <td>27.0</td>\n",
       "      <td>surf</td>\n",
       "    </tr>\n",
       "  </tbody>\n",
       "</table>\n",
       "</div>"
      ],
      "text/plain": [
       "   user_id  month  total_calls  total_paid_duration  total_sms   mb_used  \\\n",
       "0     1000     12           16                124.0         11   1901.47   \n",
       "1     1001      8           27                182.0         30   6919.15   \n",
       "2     1001      9           49                315.0         44  13314.82   \n",
       "3     1001     10           65                393.0         53  22330.49   \n",
       "4     1001     11           64                426.0         36  18504.30   \n",
       "5     1001     12           56                412.0         44  19369.18   \n",
       "6     1002     10           11                 59.0         15   6552.01   \n",
       "7     1002     11           55                386.0         32  19345.08   \n",
       "8     1002     12           47                384.0         41  14396.24   \n",
       "9     1003     12          149               1104.0         50  27044.14   \n",
       "\n",
       "   total_gb_paid      plan  \n",
       "0            2.0  ultimate  \n",
       "1            7.0      surf  \n",
       "2           14.0      surf  \n",
       "3           22.0      surf  \n",
       "4           19.0      surf  \n",
       "5           19.0      surf  \n",
       "6            7.0      surf  \n",
       "7           19.0      surf  \n",
       "8           15.0      surf  \n",
       "9           27.0      surf  "
      ]
     },
     "execution_count": 33,
     "metadata": {},
     "output_type": "execute_result"
    }
   ],
   "source": [
    "df_megaline_merge = df_megaline_merge.merge(df_megaline_users[['user_id', 'plan']], on='user_id')\n",
    "df_megaline_merge.head(10)"
   ]
  },
  {
   "cell_type": "markdown",
   "metadata": {},
   "source": [
    "Menambahkan informasi paket apa yang digunakan oleh pelanggan disetiap bulannya. Hal ini dilakukan karena syarat dan ketentuan dari setiap paket berbeda. Sehingga dengan mengetahui jenis paket yang digunakan pelanggan, dapat membantu kita dalam melakukan perhitungan pendapatan disetiap bulannya berdasarkan paket yang dipilih.\n",
    "\n",
    "Setelah menambahkan informasi paket, langkah berikutnya adalah menambahkan informasi pendapatan yang kita peroleh dari setiap pengguna di setiap bulannya. Untuk itu, kita perlu membuat sebuah function yang melakukan perhitungan terkait berapa banyak biaya yang dikenakan ke pengguna di setiap bulannya berdasarkan paket yang mereka pilih. Setelah itu, kita bisa menggunakan fungsi apply untuk menambahkan kolom ke dalam dataframe."
   ]
  },
  {
   "cell_type": "code",
   "execution_count": 34,
   "metadata": {},
   "outputs": [
    {
     "data": {
      "text/html": [
       "<div>\n",
       "<style scoped>\n",
       "    .dataframe tbody tr th:only-of-type {\n",
       "        vertical-align: middle;\n",
       "    }\n",
       "\n",
       "    .dataframe tbody tr th {\n",
       "        vertical-align: top;\n",
       "    }\n",
       "\n",
       "    .dataframe thead th {\n",
       "        text-align: right;\n",
       "    }\n",
       "</style>\n",
       "<table border=\"1\" class=\"dataframe\">\n",
       "  <thead>\n",
       "    <tr style=\"text-align: right;\">\n",
       "      <th></th>\n",
       "      <th>messages_included</th>\n",
       "      <th>mb_per_month_included</th>\n",
       "      <th>minutes_included</th>\n",
       "      <th>usd_monthly_pay</th>\n",
       "      <th>usd_per_gb</th>\n",
       "      <th>usd_per_message</th>\n",
       "      <th>usd_per_minute</th>\n",
       "      <th>plan_name</th>\n",
       "      <th>gb_per_month_included</th>\n",
       "    </tr>\n",
       "  </thead>\n",
       "  <tbody>\n",
       "    <tr>\n",
       "      <th>0</th>\n",
       "      <td>50</td>\n",
       "      <td>15360</td>\n",
       "      <td>500</td>\n",
       "      <td>20.0</td>\n",
       "      <td>10.0</td>\n",
       "      <td>0.03</td>\n",
       "      <td>0.03</td>\n",
       "      <td>surf</td>\n",
       "      <td>15</td>\n",
       "    </tr>\n",
       "    <tr>\n",
       "      <th>1</th>\n",
       "      <td>1000</td>\n",
       "      <td>30720</td>\n",
       "      <td>3000</td>\n",
       "      <td>70.0</td>\n",
       "      <td>7.0</td>\n",
       "      <td>0.01</td>\n",
       "      <td>0.01</td>\n",
       "      <td>ultimate</td>\n",
       "      <td>30</td>\n",
       "    </tr>\n",
       "  </tbody>\n",
       "</table>\n",
       "</div>"
      ],
      "text/plain": [
       "   messages_included  mb_per_month_included  minutes_included  \\\n",
       "0                 50                  15360               500   \n",
       "1               1000                  30720              3000   \n",
       "\n",
       "   usd_monthly_pay  usd_per_gb  usd_per_message  usd_per_minute plan_name  \\\n",
       "0             20.0        10.0             0.03            0.03      surf   \n",
       "1             70.0         7.0             0.01            0.01  ultimate   \n",
       "\n",
       "   gb_per_month_included  \n",
       "0                     15  \n",
       "1                     30  "
      ]
     },
     "execution_count": 34,
     "metadata": {},
     "output_type": "execute_result"
    }
   ],
   "source": [
    "df_megaline_plans.head()"
   ]
  },
  {
   "cell_type": "code",
   "execution_count": 35,
   "metadata": {},
   "outputs": [],
   "source": [
    "\n",
    "def calculate_income(row):\n",
    "    total_paid_duration = row['total_paid_duration']\n",
    "    total_sms = row['total_sms']\n",
    "    total_gb_paid = row['total_gb_paid']\n",
    "    plan = df_megaline_plans[df_megaline_plans['plan_name'] == row['plan']].reset_index()    \n",
    "    income = 0\n",
    "    \n",
    "    #income dari paket\n",
    "    income = income + plan.loc[0, 'usd_monthly_pay']\n",
    "    \n",
    "    #income dari panggilan berlebih    \n",
    "    if total_paid_duration > plan.loc[0, 'minutes_included']:\n",
    "        income = income + (total_paid_duration - plan.loc[0, 'minutes_included']) * plan.loc[0, 'usd_per_minute']\n",
    "        \n",
    "    #income dari sms berlebih\n",
    "    if total_sms > plan.loc[0, 'messages_included']:\n",
    "        income = income + (total_sms - plan.loc[0, 'messages_included']) * plan.loc[0, 'usd_per_message']\n",
    "        \n",
    "    #income dari internet berlebih\n",
    "    if total_gb_paid > plan.loc[0, 'gb_per_month_included']:\n",
    "        income = income + (total_gb_paid - plan.loc[0, 'gb_per_month_included']) * plan.loc[0, 'usd_per_gb']\n",
    "        \n",
    "    return income\n",
    "    "
   ]
  },
  {
   "cell_type": "code",
   "execution_count": 36,
   "metadata": {
    "scrolled": true
   },
   "outputs": [
    {
     "data": {
      "text/html": [
       "<div>\n",
       "<style scoped>\n",
       "    .dataframe tbody tr th:only-of-type {\n",
       "        vertical-align: middle;\n",
       "    }\n",
       "\n",
       "    .dataframe tbody tr th {\n",
       "        vertical-align: top;\n",
       "    }\n",
       "\n",
       "    .dataframe thead th {\n",
       "        text-align: right;\n",
       "    }\n",
       "</style>\n",
       "<table border=\"1\" class=\"dataframe\">\n",
       "  <thead>\n",
       "    <tr style=\"text-align: right;\">\n",
       "      <th></th>\n",
       "      <th>user_id</th>\n",
       "      <th>month</th>\n",
       "      <th>total_calls</th>\n",
       "      <th>total_paid_duration</th>\n",
       "      <th>total_sms</th>\n",
       "      <th>mb_used</th>\n",
       "      <th>total_gb_paid</th>\n",
       "      <th>plan</th>\n",
       "      <th>income</th>\n",
       "    </tr>\n",
       "  </thead>\n",
       "  <tbody>\n",
       "    <tr>\n",
       "      <th>0</th>\n",
       "      <td>1000</td>\n",
       "      <td>12</td>\n",
       "      <td>16</td>\n",
       "      <td>124.0</td>\n",
       "      <td>11</td>\n",
       "      <td>1901.47</td>\n",
       "      <td>2.0</td>\n",
       "      <td>ultimate</td>\n",
       "      <td>70.00</td>\n",
       "    </tr>\n",
       "    <tr>\n",
       "      <th>1</th>\n",
       "      <td>1001</td>\n",
       "      <td>8</td>\n",
       "      <td>27</td>\n",
       "      <td>182.0</td>\n",
       "      <td>30</td>\n",
       "      <td>6919.15</td>\n",
       "      <td>7.0</td>\n",
       "      <td>surf</td>\n",
       "      <td>20.00</td>\n",
       "    </tr>\n",
       "    <tr>\n",
       "      <th>2</th>\n",
       "      <td>1001</td>\n",
       "      <td>9</td>\n",
       "      <td>49</td>\n",
       "      <td>315.0</td>\n",
       "      <td>44</td>\n",
       "      <td>13314.82</td>\n",
       "      <td>14.0</td>\n",
       "      <td>surf</td>\n",
       "      <td>20.00</td>\n",
       "    </tr>\n",
       "    <tr>\n",
       "      <th>3</th>\n",
       "      <td>1001</td>\n",
       "      <td>10</td>\n",
       "      <td>65</td>\n",
       "      <td>393.0</td>\n",
       "      <td>53</td>\n",
       "      <td>22330.49</td>\n",
       "      <td>22.0</td>\n",
       "      <td>surf</td>\n",
       "      <td>90.09</td>\n",
       "    </tr>\n",
       "    <tr>\n",
       "      <th>4</th>\n",
       "      <td>1001</td>\n",
       "      <td>11</td>\n",
       "      <td>64</td>\n",
       "      <td>426.0</td>\n",
       "      <td>36</td>\n",
       "      <td>18504.30</td>\n",
       "      <td>19.0</td>\n",
       "      <td>surf</td>\n",
       "      <td>60.00</td>\n",
       "    </tr>\n",
       "    <tr>\n",
       "      <th>5</th>\n",
       "      <td>1001</td>\n",
       "      <td>12</td>\n",
       "      <td>56</td>\n",
       "      <td>412.0</td>\n",
       "      <td>44</td>\n",
       "      <td>19369.18</td>\n",
       "      <td>19.0</td>\n",
       "      <td>surf</td>\n",
       "      <td>60.00</td>\n",
       "    </tr>\n",
       "    <tr>\n",
       "      <th>6</th>\n",
       "      <td>1002</td>\n",
       "      <td>10</td>\n",
       "      <td>11</td>\n",
       "      <td>59.0</td>\n",
       "      <td>15</td>\n",
       "      <td>6552.01</td>\n",
       "      <td>7.0</td>\n",
       "      <td>surf</td>\n",
       "      <td>20.00</td>\n",
       "    </tr>\n",
       "    <tr>\n",
       "      <th>7</th>\n",
       "      <td>1002</td>\n",
       "      <td>11</td>\n",
       "      <td>55</td>\n",
       "      <td>386.0</td>\n",
       "      <td>32</td>\n",
       "      <td>19345.08</td>\n",
       "      <td>19.0</td>\n",
       "      <td>surf</td>\n",
       "      <td>60.00</td>\n",
       "    </tr>\n",
       "    <tr>\n",
       "      <th>8</th>\n",
       "      <td>1002</td>\n",
       "      <td>12</td>\n",
       "      <td>47</td>\n",
       "      <td>384.0</td>\n",
       "      <td>41</td>\n",
       "      <td>14396.24</td>\n",
       "      <td>15.0</td>\n",
       "      <td>surf</td>\n",
       "      <td>20.00</td>\n",
       "    </tr>\n",
       "    <tr>\n",
       "      <th>9</th>\n",
       "      <td>1003</td>\n",
       "      <td>12</td>\n",
       "      <td>149</td>\n",
       "      <td>1104.0</td>\n",
       "      <td>50</td>\n",
       "      <td>27044.14</td>\n",
       "      <td>27.0</td>\n",
       "      <td>surf</td>\n",
       "      <td>158.12</td>\n",
       "    </tr>\n",
       "  </tbody>\n",
       "</table>\n",
       "</div>"
      ],
      "text/plain": [
       "   user_id  month  total_calls  total_paid_duration  total_sms   mb_used  \\\n",
       "0     1000     12           16                124.0         11   1901.47   \n",
       "1     1001      8           27                182.0         30   6919.15   \n",
       "2     1001      9           49                315.0         44  13314.82   \n",
       "3     1001     10           65                393.0         53  22330.49   \n",
       "4     1001     11           64                426.0         36  18504.30   \n",
       "5     1001     12           56                412.0         44  19369.18   \n",
       "6     1002     10           11                 59.0         15   6552.01   \n",
       "7     1002     11           55                386.0         32  19345.08   \n",
       "8     1002     12           47                384.0         41  14396.24   \n",
       "9     1003     12          149               1104.0         50  27044.14   \n",
       "\n",
       "   total_gb_paid      plan  income  \n",
       "0            2.0  ultimate   70.00  \n",
       "1            7.0      surf   20.00  \n",
       "2           14.0      surf   20.00  \n",
       "3           22.0      surf   90.09  \n",
       "4           19.0      surf   60.00  \n",
       "5           19.0      surf   60.00  \n",
       "6            7.0      surf   20.00  \n",
       "7           19.0      surf   60.00  \n",
       "8           15.0      surf   20.00  \n",
       "9           27.0      surf  158.12  "
      ]
     },
     "execution_count": 36,
     "metadata": {},
     "output_type": "execute_result"
    }
   ],
   "source": [
    "df_megaline_merge['income'] = df_megaline_merge.apply(calculate_income, axis=1)\n",
    "df_megaline_merge.head(10)"
   ]
  },
  {
   "cell_type": "markdown",
   "metadata": {},
   "source": [
    "## Mempelajari Perilaku Pengguna"
   ]
  },
  {
   "cell_type": "markdown",
   "metadata": {},
   "source": [
    "Pada tahap ini, kita perlu melihat perilaku dari setiap pengguna paket. Mulai dari panggilan, penggunaan SMS, dan penggunaan internet. Untuk mempermudah, kita bisa membuat grafik yang menunjukan informasi perilaku pengguna di setiap paket. "
   ]
  },
  {
   "cell_type": "markdown",
   "metadata": {},
   "source": [
    "### Panggilan"
   ]
  },
  {
   "cell_type": "code",
   "execution_count": 37,
   "metadata": {},
   "outputs": [
    {
     "data": {
      "text/plain": [
       "<Axes: xlabel='month'>"
      ]
     },
     "execution_count": 37,
     "metadata": {},
     "output_type": "execute_result"
    },
    {
     "data": {
      "image/png": "[encoded data removed]",
      "text/plain": [
       "<Figure size 1000x500 with 1 Axes>"
      ]
     },
     "metadata": {},
     "output_type": "display_data"
    }
   ],
   "source": [
    "df_megaline_merge.pivot_table(index=['month'], columns='plan', values='total_paid_duration', aggfunc='mean').plot(kind='bar', figsize=(10,5))\n"
   ]
  },
  {
   "cell_type": "code",
   "execution_count": 38,
   "metadata": {},
   "outputs": [
    {
     "data": {
      "text/plain": [
       "<Axes: ylabel='Frequency'>"
      ]
     },
     "execution_count": 38,
     "metadata": {},
     "output_type": "execute_result"
    },
    {
     "data": {
      "image/png": "[encoded data removed]",
      "text/plain": [
       "<Figure size 1000x500 with 1 Axes>"
      ]
     },
     "metadata": {},
     "output_type": "display_data"
    }
   ],
   "source": [
    "df_megaline_merge.pivot_table(index=['month'], columns='plan', values='total_paid_duration', aggfunc='sum').plot(kind='hist', figsize=(10,5), bins=[25000, 50000, 75000, 100000, 125000], alpha=0.5)\n"
   ]
  },
  {
   "cell_type": "markdown",
   "metadata": {},
   "source": [
    " "
   ]
  },
  {
   "cell_type": "code",
   "execution_count": 39,
   "metadata": {},
   "outputs": [
    {
     "data": {
      "text/html": [
       "<div>\n",
       "<style scoped>\n",
       "    .dataframe tbody tr th:only-of-type {\n",
       "        vertical-align: middle;\n",
       "    }\n",
       "\n",
       "    .dataframe tbody tr th {\n",
       "        vertical-align: top;\n",
       "    }\n",
       "\n",
       "    .dataframe thead tr th {\n",
       "        text-align: left;\n",
       "    }\n",
       "\n",
       "    .dataframe thead tr:last-of-type th {\n",
       "        text-align: right;\n",
       "    }\n",
       "</style>\n",
       "<table border=\"1\" class=\"dataframe\">\n",
       "  <thead>\n",
       "    <tr>\n",
       "      <th></th>\n",
       "      <th colspan=\"2\" halign=\"left\">mean</th>\n",
       "      <th colspan=\"2\" halign=\"left\">sum</th>\n",
       "      <th colspan=\"2\" halign=\"left\">var</th>\n",
       "    </tr>\n",
       "    <tr>\n",
       "      <th></th>\n",
       "      <th colspan=\"2\" halign=\"left\">total_paid_duration</th>\n",
       "      <th colspan=\"2\" halign=\"left\">total_paid_duration</th>\n",
       "      <th colspan=\"2\" halign=\"left\">total_paid_duration</th>\n",
       "    </tr>\n",
       "    <tr>\n",
       "      <th>plan</th>\n",
       "      <th>surf</th>\n",
       "      <th>ultimate</th>\n",
       "      <th>surf</th>\n",
       "      <th>ultimate</th>\n",
       "      <th>surf</th>\n",
       "      <th>ultimate</th>\n",
       "    </tr>\n",
       "    <tr>\n",
       "      <th>month</th>\n",
       "      <th></th>\n",
       "      <th></th>\n",
       "      <th></th>\n",
       "      <th></th>\n",
       "      <th></th>\n",
       "      <th></th>\n",
       "    </tr>\n",
       "  </thead>\n",
       "  <tbody>\n",
       "    <tr>\n",
       "      <th>1</th>\n",
       "      <td>292.000000</td>\n",
       "      <td>197.666667</td>\n",
       "      <td>292.0</td>\n",
       "      <td>593.0</td>\n",
       "      <td>NaN</td>\n",
       "      <td>24754.333333</td>\n",
       "    </tr>\n",
       "    <tr>\n",
       "      <th>2</th>\n",
       "      <td>331.200000</td>\n",
       "      <td>486.800000</td>\n",
       "      <td>1656.0</td>\n",
       "      <td>2434.0</td>\n",
       "      <td>101102.200000</td>\n",
       "      <td>65897.700000</td>\n",
       "    </tr>\n",
       "    <tr>\n",
       "      <th>3</th>\n",
       "      <td>344.937500</td>\n",
       "      <td>415.285714</td>\n",
       "      <td>5519.0</td>\n",
       "      <td>2907.0</td>\n",
       "      <td>43077.929167</td>\n",
       "      <td>61341.904762</td>\n",
       "    </tr>\n",
       "    <tr>\n",
       "      <th>4</th>\n",
       "      <td>366.228571</td>\n",
       "      <td>322.750000</td>\n",
       "      <td>12818.0</td>\n",
       "      <td>5164.0</td>\n",
       "      <td>62626.652101</td>\n",
       "      <td>40850.733333</td>\n",
       "    </tr>\n",
       "    <tr>\n",
       "      <th>5</th>\n",
       "      <td>443.981132</td>\n",
       "      <td>410.190476</td>\n",
       "      <td>23531.0</td>\n",
       "      <td>8614.0</td>\n",
       "      <td>62096.326560</td>\n",
       "      <td>54970.361905</td>\n",
       "    </tr>\n",
       "    <tr>\n",
       "      <th>6</th>\n",
       "      <td>425.514286</td>\n",
       "      <td>370.918919</td>\n",
       "      <td>29786.0</td>\n",
       "      <td>13724.0</td>\n",
       "      <td>48249.180952</td>\n",
       "      <td>39671.021021</td>\n",
       "    </tr>\n",
       "    <tr>\n",
       "      <th>7</th>\n",
       "      <td>452.101124</td>\n",
       "      <td>439.638298</td>\n",
       "      <td>40237.0</td>\n",
       "      <td>20663.0</td>\n",
       "      <td>64931.160112</td>\n",
       "      <td>80879.409806</td>\n",
       "    </tr>\n",
       "    <tr>\n",
       "      <th>8</th>\n",
       "      <td>427.873950</td>\n",
       "      <td>436.438596</td>\n",
       "      <td>50917.0</td>\n",
       "      <td>24877.0</td>\n",
       "      <td>53786.483977</td>\n",
       "      <td>59442.357769</td>\n",
       "    </tr>\n",
       "    <tr>\n",
       "      <th>9</th>\n",
       "      <td>426.020408</td>\n",
       "      <td>437.591549</td>\n",
       "      <td>62625.0</td>\n",
       "      <td>31069.0</td>\n",
       "      <td>46732.033827</td>\n",
       "      <td>63912.673642</td>\n",
       "    </tr>\n",
       "    <tr>\n",
       "      <th>10</th>\n",
       "      <td>442.348066</td>\n",
       "      <td>465.034091</td>\n",
       "      <td>80065.0</td>\n",
       "      <td>40923.0</td>\n",
       "      <td>51974.861510</td>\n",
       "      <td>57486.309169</td>\n",
       "    </tr>\n",
       "    <tr>\n",
       "      <th>11</th>\n",
       "      <td>443.954128</td>\n",
       "      <td>464.068627</td>\n",
       "      <td>96782.0</td>\n",
       "      <td>47335.0</td>\n",
       "      <td>49858.375766</td>\n",
       "      <td>65405.648709</td>\n",
       "    </tr>\n",
       "    <tr>\n",
       "      <th>12</th>\n",
       "      <td>495.069106</td>\n",
       "      <td>463.296000</td>\n",
       "      <td>121787.0</td>\n",
       "      <td>57912.0</td>\n",
       "      <td>62144.807450</td>\n",
       "      <td>66650.564903</td>\n",
       "    </tr>\n",
       "  </tbody>\n",
       "</table>\n",
       "</div>"
      ],
      "text/plain": [
       "                     mean                             sum           \\\n",
       "      total_paid_duration             total_paid_duration            \n",
       "plan                 surf    ultimate                surf ultimate   \n",
       "month                                                                \n",
       "1              292.000000  197.666667               292.0    593.0   \n",
       "2              331.200000  486.800000              1656.0   2434.0   \n",
       "3              344.937500  415.285714              5519.0   2907.0   \n",
       "4              366.228571  322.750000             12818.0   5164.0   \n",
       "5              443.981132  410.190476             23531.0   8614.0   \n",
       "6              425.514286  370.918919             29786.0  13724.0   \n",
       "7              452.101124  439.638298             40237.0  20663.0   \n",
       "8              427.873950  436.438596             50917.0  24877.0   \n",
       "9              426.020408  437.591549             62625.0  31069.0   \n",
       "10             442.348066  465.034091             80065.0  40923.0   \n",
       "11             443.954128  464.068627             96782.0  47335.0   \n",
       "12             495.069106  463.296000            121787.0  57912.0   \n",
       "\n",
       "                      var                \n",
       "      total_paid_duration                \n",
       "plan                 surf      ultimate  \n",
       "month                                    \n",
       "1                     NaN  24754.333333  \n",
       "2           101102.200000  65897.700000  \n",
       "3            43077.929167  61341.904762  \n",
       "4            62626.652101  40850.733333  \n",
       "5            62096.326560  54970.361905  \n",
       "6            48249.180952  39671.021021  \n",
       "7            64931.160112  80879.409806  \n",
       "8            53786.483977  59442.357769  \n",
       "9            46732.033827  63912.673642  \n",
       "10           51974.861510  57486.309169  \n",
       "11           49858.375766  65405.648709  \n",
       "12           62144.807450  66650.564903  "
      ]
     },
     "execution_count": 39,
     "metadata": {},
     "output_type": "execute_result"
    }
   ],
   "source": [
    "df_megaline_merge.pivot_table(index='month', columns=['plan'], values=['total_paid_duration'], aggfunc=['mean', 'sum', 'var'])"
   ]
  },
  {
   "cell_type": "code",
   "execution_count": 40,
   "metadata": {},
   "outputs": [
    {
     "data": {
      "text/plain": [
       "<Axes: title={'center': 'total_paid_duration'}, xlabel='[month, plan]'>"
      ]
     },
     "execution_count": 40,
     "metadata": {},
     "output_type": "execute_result"
    },
    {
     "data": {
      "image/png": "[encoded data removed]",
      "text/plain": [
       "<Figure size 2000x1000 with 1 Axes>"
      ]
     },
     "metadata": {},
     "output_type": "display_data"
    }
   ],
   "source": [
    "df_megaline_merge.boxplot(by=['month', 'plan'], column='total_paid_duration', figsize=(20,10))"
   ]
  },
  {
   "cell_type": "markdown",
   "metadata": {},
   "source": [
    "Perbedaan paling terlihat adalah pengguna paket surf melakukan panggilan telepon lebih banyak ketimbang pengguna yang memilih paket ultimate. Namun rata-ratanya tidak jauh berbeda. Dari sini bisa menjadi indikasi bahwa pengguna paket surf lebih banyak, dan bisa saja kita juga mendapatkan keuntungan lebih dari panggilan yang dilakukan oleh pengguna paket surf, karena ada potensi pengguna melebihi batas penggunaan bulanan, dan dikenakan biaya panggilan permenit."
   ]
  },
  {
   "cell_type": "markdown",
   "metadata": {},
   "source": [
    " "
   ]
  },
  {
   "cell_type": "markdown",
   "metadata": {},
   "source": [
    "### Pesan/SMS"
   ]
  },
  {
   "cell_type": "code",
   "execution_count": 41,
   "metadata": {
    "scrolled": true
   },
   "outputs": [
    {
     "data": {
      "text/plain": [
       "<Axes: xlabel='month'>"
      ]
     },
     "execution_count": 41,
     "metadata": {},
     "output_type": "execute_result"
    },
    {
     "data": {
      "image/png": "[encoded data removed]",
      "text/plain": [
       "<Figure size 1000x500 with 1 Axes>"
      ]
     },
     "metadata": {},
     "output_type": "display_data"
    }
   ],
   "source": [
    "df_megaline_merge.pivot_table(index='month', columns='plan', values='total_sms', aggfunc={'total_sms':'sum'}).plot(kind='bar', figsize=(10,5))"
   ]
  },
  {
   "cell_type": "code",
   "execution_count": 42,
   "metadata": {
    "scrolled": true
   },
   "outputs": [
    {
     "data": {
      "text/plain": [
       "<Axes: ylabel='Frequency'>"
      ]
     },
     "execution_count": 42,
     "metadata": {},
     "output_type": "execute_result"
    },
    {
     "data": {
      "image/png": "[encoded data removed]",
      "text/plain": [
       "<Figure size 1000x500 with 1 Axes>"
      ]
     },
     "metadata": {},
     "output_type": "display_data"
    }
   ],
   "source": [
    "df_megaline_merge.pivot_table(index='month', columns='plan', values='total_sms', aggfunc={'total_sms':'sum'}).plot(kind='hist', figsize=(10,5), alpha=0.5, bins=[2500, 5000, 7500, 10000, 12500])"
   ]
  },
  {
   "cell_type": "code",
   "execution_count": 43,
   "metadata": {
    "scrolled": true
   },
   "outputs": [
    {
     "data": {
      "text/html": [
       "<div>\n",
       "<style scoped>\n",
       "    .dataframe tbody tr th:only-of-type {\n",
       "        vertical-align: middle;\n",
       "    }\n",
       "\n",
       "    .dataframe tbody tr th {\n",
       "        vertical-align: top;\n",
       "    }\n",
       "\n",
       "    .dataframe thead tr th {\n",
       "        text-align: left;\n",
       "    }\n",
       "\n",
       "    .dataframe thead tr:last-of-type th {\n",
       "        text-align: right;\n",
       "    }\n",
       "</style>\n",
       "<table border=\"1\" class=\"dataframe\">\n",
       "  <thead>\n",
       "    <tr>\n",
       "      <th></th>\n",
       "      <th colspan=\"2\" halign=\"left\">mean</th>\n",
       "      <th colspan=\"2\" halign=\"left\">sum</th>\n",
       "      <th colspan=\"2\" halign=\"left\">var</th>\n",
       "    </tr>\n",
       "    <tr>\n",
       "      <th>plan</th>\n",
       "      <th>surf</th>\n",
       "      <th>ultimate</th>\n",
       "      <th>surf</th>\n",
       "      <th>ultimate</th>\n",
       "      <th>surf</th>\n",
       "      <th>ultimate</th>\n",
       "    </tr>\n",
       "    <tr>\n",
       "      <th>month</th>\n",
       "      <th></th>\n",
       "      <th></th>\n",
       "      <th></th>\n",
       "      <th></th>\n",
       "      <th></th>\n",
       "      <th></th>\n",
       "    </tr>\n",
       "  </thead>\n",
       "  <tbody>\n",
       "    <tr>\n",
       "      <th>1</th>\n",
       "      <td>21.000000</td>\n",
       "      <td>20.666667</td>\n",
       "      <td>21</td>\n",
       "      <td>62</td>\n",
       "      <td>NaN</td>\n",
       "      <td>310.333333</td>\n",
       "    </tr>\n",
       "    <tr>\n",
       "      <th>2</th>\n",
       "      <td>21.600000</td>\n",
       "      <td>27.800000</td>\n",
       "      <td>108</td>\n",
       "      <td>139</td>\n",
       "      <td>512.800000</td>\n",
       "      <td>529.700000</td>\n",
       "    </tr>\n",
       "    <tr>\n",
       "      <th>3</th>\n",
       "      <td>21.937500</td>\n",
       "      <td>34.714286</td>\n",
       "      <td>351</td>\n",
       "      <td>243</td>\n",
       "      <td>352.062500</td>\n",
       "      <td>613.904762</td>\n",
       "    </tr>\n",
       "    <tr>\n",
       "      <th>4</th>\n",
       "      <td>24.685714</td>\n",
       "      <td>28.937500</td>\n",
       "      <td>864</td>\n",
       "      <td>463</td>\n",
       "      <td>539.751261</td>\n",
       "      <td>512.862500</td>\n",
       "    </tr>\n",
       "    <tr>\n",
       "      <th>5</th>\n",
       "      <td>33.547170</td>\n",
       "      <td>44.333333</td>\n",
       "      <td>1778</td>\n",
       "      <td>931</td>\n",
       "      <td>888.675617</td>\n",
       "      <td>1246.933333</td>\n",
       "    </tr>\n",
       "    <tr>\n",
       "      <th>6</th>\n",
       "      <td>32.742857</td>\n",
       "      <td>37.135135</td>\n",
       "      <td>2292</td>\n",
       "      <td>1374</td>\n",
       "      <td>818.077847</td>\n",
       "      <td>801.731231</td>\n",
       "    </tr>\n",
       "    <tr>\n",
       "      <th>7</th>\n",
       "      <td>34.786517</td>\n",
       "      <td>41.212766</td>\n",
       "      <td>3096</td>\n",
       "      <td>1937</td>\n",
       "      <td>786.397089</td>\n",
       "      <td>858.084181</td>\n",
       "    </tr>\n",
       "    <tr>\n",
       "      <th>8</th>\n",
       "      <td>37.302521</td>\n",
       "      <td>47.929825</td>\n",
       "      <td>4439</td>\n",
       "      <td>2732</td>\n",
       "      <td>951.128044</td>\n",
       "      <td>1034.387845</td>\n",
       "    </tr>\n",
       "    <tr>\n",
       "      <th>9</th>\n",
       "      <td>38.585034</td>\n",
       "      <td>45.901408</td>\n",
       "      <td>5672</td>\n",
       "      <td>3259</td>\n",
       "      <td>897.463610</td>\n",
       "      <td>903.375855</td>\n",
       "    </tr>\n",
       "    <tr>\n",
       "      <th>10</th>\n",
       "      <td>41.475138</td>\n",
       "      <td>47.488636</td>\n",
       "      <td>7507</td>\n",
       "      <td>4179</td>\n",
       "      <td>1199.439656</td>\n",
       "      <td>1088.160789</td>\n",
       "    </tr>\n",
       "    <tr>\n",
       "      <th>11</th>\n",
       "      <td>40.087156</td>\n",
       "      <td>47.656863</td>\n",
       "      <td>8739</td>\n",
       "      <td>4861</td>\n",
       "      <td>951.858728</td>\n",
       "      <td>1100.782081</td>\n",
       "    </tr>\n",
       "    <tr>\n",
       "      <th>12</th>\n",
       "      <td>47.686992</td>\n",
       "      <td>53.744000</td>\n",
       "      <td>11731</td>\n",
       "      <td>6718</td>\n",
       "      <td>1339.971014</td>\n",
       "      <td>1380.175871</td>\n",
       "    </tr>\n",
       "  </tbody>\n",
       "</table>\n",
       "</div>"
      ],
      "text/plain": [
       "            mean               sum                   var             \n",
       "plan        surf   ultimate   surf ultimate         surf     ultimate\n",
       "month                                                                \n",
       "1      21.000000  20.666667     21       62          NaN   310.333333\n",
       "2      21.600000  27.800000    108      139   512.800000   529.700000\n",
       "3      21.937500  34.714286    351      243   352.062500   613.904762\n",
       "4      24.685714  28.937500    864      463   539.751261   512.862500\n",
       "5      33.547170  44.333333   1778      931   888.675617  1246.933333\n",
       "6      32.742857  37.135135   2292     1374   818.077847   801.731231\n",
       "7      34.786517  41.212766   3096     1937   786.397089   858.084181\n",
       "8      37.302521  47.929825   4439     2732   951.128044  1034.387845\n",
       "9      38.585034  45.901408   5672     3259   897.463610   903.375855\n",
       "10     41.475138  47.488636   7507     4179  1199.439656  1088.160789\n",
       "11     40.087156  47.656863   8739     4861   951.858728  1100.782081\n",
       "12     47.686992  53.744000  11731     6718  1339.971014  1380.175871"
      ]
     },
     "execution_count": 43,
     "metadata": {},
     "output_type": "execute_result"
    }
   ],
   "source": [
    "df_megaline_merge.pivot_table(index='month', columns='plan', values='total_sms', aggfunc=['mean', 'sum', 'var'])"
   ]
  },
  {
   "cell_type": "code",
   "execution_count": 44,
   "metadata": {
    "scrolled": true
   },
   "outputs": [
    {
     "data": {
      "text/plain": [
       "<Axes: title={'center': 'total_sms'}, xlabel='[month, plan]'>"
      ]
     },
     "execution_count": 44,
     "metadata": {},
     "output_type": "execute_result"
    },
    {
     "data": {
      "image/png": "[encoded data removed]",
      "text/plain": [
       "<Figure size 2000x1000 with 1 Axes>"
      ]
     },
     "metadata": {},
     "output_type": "display_data"
    }
   ],
   "source": [
    "df_megaline_merge.boxplot(by=['month', 'plan'], column='total_sms', figsize=(20,10))"
   ]
  },
  {
   "cell_type": "markdown",
   "metadata": {},
   "source": [
    "Sama seperti pada panggilan, disini kita juga melihat total penggunaan SMS dari pelanggan paket surf lebih banyak dibanding pelanggan dengan paket ultimate. Untuk memastikan apakah kita mendapatkan keuntungan lebih dari ini, perlu dilakukan analisa pada data pendapatan yang kita peroleh dari setiap pengguna. Sebelum itu, kita perlu mengecek terlebih dahulu perilaku penggunaan internet dari pelanggan."
   ]
  },
  {
   "cell_type": "markdown",
   "metadata": {},
   "source": [
    " "
   ]
  },
  {
   "cell_type": "markdown",
   "metadata": {},
   "source": [
    "### Internet"
   ]
  },
  {
   "cell_type": "code",
   "execution_count": 45,
   "metadata": {
    "scrolled": true
   },
   "outputs": [
    {
     "data": {
      "text/plain": [
       "<Axes: xlabel='month'>"
      ]
     },
     "execution_count": 45,
     "metadata": {},
     "output_type": "execute_result"
    },
    {
     "data": {
      "image/png": "[encoded data removed]",
      "text/plain": [
       "<Figure size 1000x500 with 1 Axes>"
      ]
     },
     "metadata": {},
     "output_type": "display_data"
    }
   ],
   "source": [
    "df_megaline_merge.pivot_table(index='month', columns='plan', values='total_gb_paid', aggfunc={'total_gb_paid':'mean'}).plot(kind='bar', figsize=(10,5))"
   ]
  },
  {
   "cell_type": "code",
   "execution_count": 46,
   "metadata": {
    "scrolled": true
   },
   "outputs": [
    {
     "data": {
      "text/plain": [
       "<Axes: xlabel='month'>"
      ]
     },
     "execution_count": 46,
     "metadata": {},
     "output_type": "execute_result"
    },
    {
     "data": {
      "image/png": "[encoded data removed]",
      "text/plain": [
       "<Figure size 1000x500 with 1 Axes>"
      ]
     },
     "metadata": {},
     "output_type": "display_data"
    }
   ],
   "source": [
    "df_megaline_merge.pivot_table(index='month', columns='plan', values='total_gb_paid', aggfunc={'total_gb_paid':'sum'}).plot(kind='bar', figsize=(10,5))"
   ]
  },
  {
   "cell_type": "code",
   "execution_count": 47,
   "metadata": {},
   "outputs": [
    {
     "data": {
      "text/plain": [
       "<Axes: ylabel='Frequency'>"
      ]
     },
     "execution_count": 47,
     "metadata": {},
     "output_type": "execute_result"
    },
    {
     "data": {
      "image/png": "[encoded data removed]",
      "text/plain": [
       "<Figure size 1000x500 with 1 Axes>"
      ]
     },
     "metadata": {},
     "output_type": "display_data"
    }
   ],
   "source": [
    "df_megaline_merge.pivot_table(index='month', columns='plan', values='total_gb_paid', aggfunc={'total_gb_paid':'sum'}).plot(kind='hist', figsize=(10,5), alpha=0.5)"
   ]
  },
  {
   "cell_type": "code",
   "execution_count": 48,
   "metadata": {
    "scrolled": true
   },
   "outputs": [
    {
     "data": {
      "text/html": [
       "<div>\n",
       "<style scoped>\n",
       "    .dataframe tbody tr th:only-of-type {\n",
       "        vertical-align: middle;\n",
       "    }\n",
       "\n",
       "    .dataframe tbody tr th {\n",
       "        vertical-align: top;\n",
       "    }\n",
       "\n",
       "    .dataframe thead tr th {\n",
       "        text-align: left;\n",
       "    }\n",
       "\n",
       "    .dataframe thead tr:last-of-type th {\n",
       "        text-align: right;\n",
       "    }\n",
       "</style>\n",
       "<table border=\"1\" class=\"dataframe\">\n",
       "  <thead>\n",
       "    <tr>\n",
       "      <th></th>\n",
       "      <th colspan=\"2\" halign=\"left\">mean</th>\n",
       "      <th colspan=\"2\" halign=\"left\">sum</th>\n",
       "      <th colspan=\"2\" halign=\"left\">var</th>\n",
       "    </tr>\n",
       "    <tr>\n",
       "      <th>plan</th>\n",
       "      <th>surf</th>\n",
       "      <th>ultimate</th>\n",
       "      <th>surf</th>\n",
       "      <th>ultimate</th>\n",
       "      <th>surf</th>\n",
       "      <th>ultimate</th>\n",
       "    </tr>\n",
       "    <tr>\n",
       "      <th>month</th>\n",
       "      <th></th>\n",
       "      <th></th>\n",
       "      <th></th>\n",
       "      <th></th>\n",
       "      <th></th>\n",
       "      <th></th>\n",
       "    </tr>\n",
       "  </thead>\n",
       "  <tbody>\n",
       "    <tr>\n",
       "      <th>1</th>\n",
       "      <td>8.000000</td>\n",
       "      <td>7.333333</td>\n",
       "      <td>8.0</td>\n",
       "      <td>22.0</td>\n",
       "      <td>NaN</td>\n",
       "      <td>22.333333</td>\n",
       "    </tr>\n",
       "    <tr>\n",
       "      <th>2</th>\n",
       "      <td>9.400000</td>\n",
       "      <td>17.400000</td>\n",
       "      <td>47.0</td>\n",
       "      <td>87.0</td>\n",
       "      <td>32.300000</td>\n",
       "      <td>48.800000</td>\n",
       "    </tr>\n",
       "    <tr>\n",
       "      <th>3</th>\n",
       "      <td>12.625000</td>\n",
       "      <td>23.857143</td>\n",
       "      <td>202.0</td>\n",
       "      <td>167.0</td>\n",
       "      <td>51.983333</td>\n",
       "      <td>104.142857</td>\n",
       "    </tr>\n",
       "    <tr>\n",
       "      <th>4</th>\n",
       "      <td>12.085714</td>\n",
       "      <td>14.500000</td>\n",
       "      <td>423.0</td>\n",
       "      <td>232.0</td>\n",
       "      <td>56.845378</td>\n",
       "      <td>86.266667</td>\n",
       "    </tr>\n",
       "    <tr>\n",
       "      <th>5</th>\n",
       "      <td>15.056604</td>\n",
       "      <td>17.238095</td>\n",
       "      <td>798.0</td>\n",
       "      <td>362.0</td>\n",
       "      <td>55.285196</td>\n",
       "      <td>55.990476</td>\n",
       "    </tr>\n",
       "    <tr>\n",
       "      <th>6</th>\n",
       "      <td>15.771429</td>\n",
       "      <td>15.513514</td>\n",
       "      <td>1104.0</td>\n",
       "      <td>574.0</td>\n",
       "      <td>52.236853</td>\n",
       "      <td>71.590090</td>\n",
       "    </tr>\n",
       "    <tr>\n",
       "      <th>7</th>\n",
       "      <td>16.808989</td>\n",
       "      <td>16.638298</td>\n",
       "      <td>1496.0</td>\n",
       "      <td>782.0</td>\n",
       "      <td>63.406282</td>\n",
       "      <td>67.061980</td>\n",
       "    </tr>\n",
       "    <tr>\n",
       "      <th>8</th>\n",
       "      <td>17.252101</td>\n",
       "      <td>18.000000</td>\n",
       "      <td>2053.0</td>\n",
       "      <td>1026.0</td>\n",
       "      <td>62.529127</td>\n",
       "      <td>54.035714</td>\n",
       "    </tr>\n",
       "    <tr>\n",
       "      <th>9</th>\n",
       "      <td>16.612245</td>\n",
       "      <td>16.464789</td>\n",
       "      <td>2442.0</td>\n",
       "      <td>1169.0</td>\n",
       "      <td>46.088342</td>\n",
       "      <td>40.766600</td>\n",
       "    </tr>\n",
       "    <tr>\n",
       "      <th>10</th>\n",
       "      <td>17.524862</td>\n",
       "      <td>17.636364</td>\n",
       "      <td>3172.0</td>\n",
       "      <td>1552.0</td>\n",
       "      <td>56.528545</td>\n",
       "      <td>52.785789</td>\n",
       "    </tr>\n",
       "    <tr>\n",
       "      <th>11</th>\n",
       "      <td>16.389908</td>\n",
       "      <td>17.401961</td>\n",
       "      <td>3573.0</td>\n",
       "      <td>1775.0</td>\n",
       "      <td>49.953262</td>\n",
       "      <td>54.005145</td>\n",
       "    </tr>\n",
       "    <tr>\n",
       "      <th>12</th>\n",
       "      <td>18.089431</td>\n",
       "      <td>18.352000</td>\n",
       "      <td>4450.0</td>\n",
       "      <td>2294.0</td>\n",
       "      <td>61.159316</td>\n",
       "      <td>52.520258</td>\n",
       "    </tr>\n",
       "  </tbody>\n",
       "</table>\n",
       "</div>"
      ],
      "text/plain": [
       "            mean                sum                 var            \n",
       "plan        surf   ultimate    surf ultimate       surf    ultimate\n",
       "month                                                              \n",
       "1       8.000000   7.333333     8.0     22.0        NaN   22.333333\n",
       "2       9.400000  17.400000    47.0     87.0  32.300000   48.800000\n",
       "3      12.625000  23.857143   202.0    167.0  51.983333  104.142857\n",
       "4      12.085714  14.500000   423.0    232.0  56.845378   86.266667\n",
       "5      15.056604  17.238095   798.0    362.0  55.285196   55.990476\n",
       "6      15.771429  15.513514  1104.0    574.0  52.236853   71.590090\n",
       "7      16.808989  16.638298  1496.0    782.0  63.406282   67.061980\n",
       "8      17.252101  18.000000  2053.0   1026.0  62.529127   54.035714\n",
       "9      16.612245  16.464789  2442.0   1169.0  46.088342   40.766600\n",
       "10     17.524862  17.636364  3172.0   1552.0  56.528545   52.785789\n",
       "11     16.389908  17.401961  3573.0   1775.0  49.953262   54.005145\n",
       "12     18.089431  18.352000  4450.0   2294.0  61.159316   52.520258"
      ]
     },
     "execution_count": 48,
     "metadata": {},
     "output_type": "execute_result"
    }
   ],
   "source": [
    "df_megaline_merge.pivot_table(index='month', columns='plan', values='total_gb_paid', aggfunc=['mean', 'sum', 'var'])"
   ]
  },
  {
   "cell_type": "code",
   "execution_count": 49,
   "metadata": {
    "scrolled": true
   },
   "outputs": [
    {
     "data": {
      "text/plain": [
       "<Axes: title={'center': 'total_gb_paid'}, xlabel='[month, plan]'>"
      ]
     },
     "execution_count": 49,
     "metadata": {},
     "output_type": "execute_result"
    },
    {
     "data": {
      "image/png": "[encoded data removed]",
      "text/plain": [
       "<Figure size 2000x1000 with 1 Axes>"
      ]
     },
     "metadata": {},
     "output_type": "display_data"
    }
   ],
   "source": [
    "df_megaline_merge.boxplot(by=['month', 'plan'], column='total_gb_paid', figsize=(20,10))"
   ]
  },
  {
   "cell_type": "markdown",
   "metadata": {},
   "source": [
    "Dari hasil analisa penggunaan internet, perilaku pengguna paket surf dan paket ultimate terlihat berbeda. Pengguna paket surf memiliki peluang untuk lebih konsumtif dengan menggunakan paket melebihi batas kuota yang disediakan, sedangkan pengguna paket ultimate cenderung lebih mengontrol penggunaan paket mereka. Hal ini dapat dilihat dari outlier pada boxplot. Pada bulan ke 8 dan 12, pengguna paket surf menggunakan paket hingga mencapai 70GB, sementara mereka hanya diberikan kuota 15GB. Bila kita hitung penggunaan 45GB dengan biaya <span>&#36;</span>10 per GB, kita sudah mendapatkan <span>&#36;</span>450 dari 1 pelanggan saja."
   ]
  },
  {
   "cell_type": "markdown",
   "metadata": {},
   "source": [
    " "
   ]
  },
  {
   "cell_type": "markdown",
   "metadata": {},
   "source": [
    "## Pendapatan"
   ]
  },
  {
   "cell_type": "markdown",
   "metadata": {},
   "source": [
    "Setelah melihat perilaku pengguna, kita perlu memastikan apakah kita mendapatkan keuntungan dari pengguna paket surf. "
   ]
  },
  {
   "cell_type": "code",
   "execution_count": 50,
   "metadata": {
    "scrolled": true
   },
   "outputs": [
    {
     "data": {
      "text/plain": [
       "<Axes: xlabel='month'>"
      ]
     },
     "execution_count": 50,
     "metadata": {},
     "output_type": "execute_result"
    },
    {
     "data": {
      "image/png": "[encoded data removed]",
      "text/plain": [
       "<Figure size 1000x500 with 1 Axes>"
      ]
     },
     "metadata": {},
     "output_type": "display_data"
    }
   ],
   "source": [
    "df_megaline_merge.pivot_table(index='month', columns='plan', values='income', aggfunc={'income':'mean'}).plot(kind='bar', figsize=(10,5))"
   ]
  },
  {
   "cell_type": "code",
   "execution_count": 51,
   "metadata": {
    "scrolled": true
   },
   "outputs": [
    {
     "data": {
      "text/plain": [
       "<Axes: xlabel='month'>"
      ]
     },
     "execution_count": 51,
     "metadata": {},
     "output_type": "execute_result"
    },
    {
     "data": {
      "image/png": "[encoded data removed]",
      "text/plain": [
       "<Figure size 1000x500 with 1 Axes>"
      ]
     },
     "metadata": {},
     "output_type": "display_data"
    }
   ],
   "source": [
    "df_megaline_merge.pivot_table(index='month', columns='plan', values='income', aggfunc={'income':'sum'}).plot(kind='bar', figsize=(10,5))"
   ]
  },
  {
   "cell_type": "code",
   "execution_count": 52,
   "metadata": {
    "scrolled": true
   },
   "outputs": [
    {
     "data": {
      "text/plain": [
       "<Axes: xlabel='month'>"
      ]
     },
     "execution_count": 52,
     "metadata": {},
     "output_type": "execute_result"
    },
    {
     "data": {
      "image/png": "[encoded data removed]",
      "text/plain": [
       "<Figure size 1000x500 with 1 Axes>"
      ]
     },
     "metadata": {},
     "output_type": "display_data"
    }
   ],
   "source": [
    "df_megaline_merge_city = df_megaline_merge.merge(df_megaline_users[['user_id', 'is_ny_nj']], on='user_id')\n",
    "df_megaline_merge_city.pivot_table(index='month', columns='is_ny_nj', values='income', aggfunc={'income':'mean'}).plot(kind='bar', figsize=(10,5))"
   ]
  },
  {
   "cell_type": "code",
   "execution_count": 53,
   "metadata": {
    "scrolled": true
   },
   "outputs": [
    {
     "data": {
      "text/plain": [
       "<Axes: xlabel='month'>"
      ]
     },
     "execution_count": 53,
     "metadata": {},
     "output_type": "execute_result"
    },
    {
     "data": {
      "image/png": "[encoded data removed]",
      "text/plain": [
       "<Figure size 1000x500 with 1 Axes>"
      ]
     },
     "metadata": {},
     "output_type": "display_data"
    }
   ],
   "source": [
    "df_megaline_merge_city = df_megaline_merge.merge(df_megaline_users[['user_id', 'is_ny_nj']], on='user_id')\n",
    "df_megaline_merge_city.pivot_table(index='month', columns='is_ny_nj', values='income', aggfunc={'income':'sum'}).plot(kind='bar', figsize=(10,5))"
   ]
  },
  {
   "cell_type": "code",
   "execution_count": 54,
   "metadata": {},
   "outputs": [],
   "source": [
    "#df_megaline_merge.pivot_table(index='month', columns='plan', values='income', aggfunc={'income':'sum'}).plot(kind='bar', figsize=(10,5))"
   ]
  },
  {
   "cell_type": "code",
   "execution_count": 55,
   "metadata": {
    "scrolled": true
   },
   "outputs": [
    {
     "data": {
      "text/plain": [
       "<Axes: ylabel='Frequency'>"
      ]
     },
     "execution_count": 55,
     "metadata": {},
     "output_type": "execute_result"
    },
    {
     "data": {
      "image/png": "[encoded data removed]",
      "text/plain": [
       "<Figure size 1000x500 with 1 Axes>"
      ]
     },
     "metadata": {},
     "output_type": "display_data"
    }
   ],
   "source": [
    "df_megaline_merge.pivot_table(index='month', columns='plan', values='income', aggfunc={'income':'sum'}).plot(kind='hist', figsize=(10,5), alpha=0.5)"
   ]
  },
  {
   "cell_type": "markdown",
   "metadata": {},
   "source": [
    "[Rumuskan kesimpulan tentang bagaimana perbedaan pendapatan yang dihasilkan setiap paket.]"
   ]
  },
  {
   "cell_type": "code",
   "execution_count": 56,
   "metadata": {
    "scrolled": true
   },
   "outputs": [
    {
     "data": {
      "text/html": [
       "<div>\n",
       "<style scoped>\n",
       "    .dataframe tbody tr th:only-of-type {\n",
       "        vertical-align: middle;\n",
       "    }\n",
       "\n",
       "    .dataframe tbody tr th {\n",
       "        vertical-align: top;\n",
       "    }\n",
       "\n",
       "    .dataframe thead tr th {\n",
       "        text-align: left;\n",
       "    }\n",
       "\n",
       "    .dataframe thead tr:last-of-type th {\n",
       "        text-align: right;\n",
       "    }\n",
       "</style>\n",
       "<table border=\"1\" class=\"dataframe\">\n",
       "  <thead>\n",
       "    <tr>\n",
       "      <th></th>\n",
       "      <th colspan=\"2\" halign=\"left\">mean</th>\n",
       "      <th colspan=\"2\" halign=\"left\">sum</th>\n",
       "      <th colspan=\"2\" halign=\"left\">var</th>\n",
       "    </tr>\n",
       "    <tr>\n",
       "      <th>plan</th>\n",
       "      <th>surf</th>\n",
       "      <th>ultimate</th>\n",
       "      <th>surf</th>\n",
       "      <th>ultimate</th>\n",
       "      <th>surf</th>\n",
       "      <th>ultimate</th>\n",
       "    </tr>\n",
       "    <tr>\n",
       "      <th>month</th>\n",
       "      <th></th>\n",
       "      <th></th>\n",
       "      <th></th>\n",
       "      <th></th>\n",
       "      <th></th>\n",
       "      <th></th>\n",
       "    </tr>\n",
       "  </thead>\n",
       "  <tbody>\n",
       "    <tr>\n",
       "      <th>1</th>\n",
       "      <td>20.000000</td>\n",
       "      <td>70.000000</td>\n",
       "      <td>20.00</td>\n",
       "      <td>210.0</td>\n",
       "      <td>NaN</td>\n",
       "      <td>0.000000</td>\n",
       "    </tr>\n",
       "    <tr>\n",
       "      <th>2</th>\n",
       "      <td>23.914000</td>\n",
       "      <td>70.000000</td>\n",
       "      <td>119.57</td>\n",
       "      <td>350.0</td>\n",
       "      <td>28.746980</td>\n",
       "      <td>0.000000</td>\n",
       "    </tr>\n",
       "    <tr>\n",
       "      <th>3</th>\n",
       "      <td>38.540625</td>\n",
       "      <td>78.000000</td>\n",
       "      <td>616.65</td>\n",
       "      <td>546.0</td>\n",
       "      <td>549.488006</td>\n",
       "      <td>235.666667</td>\n",
       "    </tr>\n",
       "    <tr>\n",
       "      <th>4</th>\n",
       "      <td>40.591429</td>\n",
       "      <td>73.062500</td>\n",
       "      <td>1420.70</td>\n",
       "      <td>1169.0</td>\n",
       "      <td>1250.948289</td>\n",
       "      <td>150.062500</td>\n",
       "    </tr>\n",
       "    <tr>\n",
       "      <th>5</th>\n",
       "      <td>50.857170</td>\n",
       "      <td>71.000000</td>\n",
       "      <td>2695.43</td>\n",
       "      <td>1491.0</td>\n",
       "      <td>2308.394898</td>\n",
       "      <td>21.000000</td>\n",
       "    </tr>\n",
       "    <tr>\n",
       "      <th>6</th>\n",
       "      <td>52.081000</td>\n",
       "      <td>72.081081</td>\n",
       "      <td>3645.67</td>\n",
       "      <td>2667.0</td>\n",
       "      <td>2425.189308</td>\n",
       "      <td>94.909910</td>\n",
       "    </tr>\n",
       "    <tr>\n",
       "      <th>7</th>\n",
       "      <td>61.806404</td>\n",
       "      <td>72.382979</td>\n",
       "      <td>5500.77</td>\n",
       "      <td>3402.0</td>\n",
       "      <td>3267.670721</td>\n",
       "      <td>130.545791</td>\n",
       "    </tr>\n",
       "    <tr>\n",
       "      <th>8</th>\n",
       "      <td>64.383109</td>\n",
       "      <td>72.456140</td>\n",
       "      <td>7661.59</td>\n",
       "      <td>4130.0</td>\n",
       "      <td>3335.250428</td>\n",
       "      <td>126.859649</td>\n",
       "    </tr>\n",
       "    <tr>\n",
       "      <th>9</th>\n",
       "      <td>57.196871</td>\n",
       "      <td>71.380282</td>\n",
       "      <td>8407.94</td>\n",
       "      <td>5068.0</td>\n",
       "      <td>2031.352659</td>\n",
       "      <td>52.667606</td>\n",
       "    </tr>\n",
       "    <tr>\n",
       "      <th>10</th>\n",
       "      <td>65.368343</td>\n",
       "      <td>72.147727</td>\n",
       "      <td>11831.67</td>\n",
       "      <td>6349.0</td>\n",
       "      <td>3055.703326</td>\n",
       "      <td>178.380225</td>\n",
       "    </tr>\n",
       "    <tr>\n",
       "      <th>11</th>\n",
       "      <td>57.116606</td>\n",
       "      <td>72.127451</td>\n",
       "      <td>12451.42</td>\n",
       "      <td>7357.0</td>\n",
       "      <td>2206.434557</td>\n",
       "      <td>117.201417</td>\n",
       "    </tr>\n",
       "    <tr>\n",
       "      <th>12</th>\n",
       "      <td>68.777561</td>\n",
       "      <td>72.744000</td>\n",
       "      <td>16919.28</td>\n",
       "      <td>9093.0</td>\n",
       "      <td>3979.221484</td>\n",
       "      <td>147.708129</td>\n",
       "    </tr>\n",
       "  </tbody>\n",
       "</table>\n",
       "</div>"
      ],
      "text/plain": [
       "            mean                  sum                   var            \n",
       "plan        surf   ultimate      surf ultimate         surf    ultimate\n",
       "month                                                                  \n",
       "1      20.000000  70.000000     20.00    210.0          NaN    0.000000\n",
       "2      23.914000  70.000000    119.57    350.0    28.746980    0.000000\n",
       "3      38.540625  78.000000    616.65    546.0   549.488006  235.666667\n",
       "4      40.591429  73.062500   1420.70   1169.0  1250.948289  150.062500\n",
       "5      50.857170  71.000000   2695.43   1491.0  2308.394898   21.000000\n",
       "6      52.081000  72.081081   3645.67   2667.0  2425.189308   94.909910\n",
       "7      61.806404  72.382979   5500.77   3402.0  3267.670721  130.545791\n",
       "8      64.383109  72.456140   7661.59   4130.0  3335.250428  126.859649\n",
       "9      57.196871  71.380282   8407.94   5068.0  2031.352659   52.667606\n",
       "10     65.368343  72.147727  11831.67   6349.0  3055.703326  178.380225\n",
       "11     57.116606  72.127451  12451.42   7357.0  2206.434557  117.201417\n",
       "12     68.777561  72.744000  16919.28   9093.0  3979.221484  147.708129"
      ]
     },
     "execution_count": 56,
     "metadata": {},
     "output_type": "execute_result"
    }
   ],
   "source": [
    "df_megaline_merge.pivot_table(index=['month'], columns='plan', values='income', aggfunc=['mean', 'sum', 'var'])"
   ]
  },
  {
   "cell_type": "code",
   "execution_count": 57,
   "metadata": {
    "scrolled": true
   },
   "outputs": [
    {
     "data": {
      "text/plain": [
       "<Axes: title={'center': 'income'}, xlabel='[month, plan]'>"
      ]
     },
     "execution_count": 57,
     "metadata": {},
     "output_type": "execute_result"
    },
    {
     "data": {
      "image/png": "[encoded data removed]",
      "text/plain": [
       "<Figure size 2000x1000 with 1 Axes>"
      ]
     },
     "metadata": {},
     "output_type": "display_data"
    }
   ],
   "source": [
    "df_megaline_merge.boxplot(by=['month', 'plan'], column='income', figsize=(20,10))"
   ]
  },
  {
   "cell_type": "markdown",
   "metadata": {},
   "source": [
    "Dari grafik diatas, rata-rata pendapatan yang kita dapat dari pengguna paket surf ataupun ultimate memang tidak terlalu berbeda jauh. Tetapi bila kita fokus pada total yang kita peroleh, maka kita memperoleh lebih banyak pendapatan dari pengguna paket surf. Sama seperti internet, dimana outlier tertinggi oleh pengguna paket surf terjadi pada bulan 8 dan 12. Meskipun menguntungkan di kita, namun untuk memenuhi customer satisfaction, kita juga perlu menginformasikan ke manajemen, mengapa pengguna paket surf cenderung lebih menggunakan paket melebihi batas kuota. "
   ]
  },
  {
   "cell_type": "markdown",
   "metadata": {},
   "source": [
    "## Menguji Hipotesis Statistik"
   ]
  },
  {
   "cell_type": "markdown",
   "metadata": {},
   "source": [
    "Proses terakhir adalah menguji hipotesis. Pertama, kita perlu menguji apakah hipotesis 0 yaitu pendapatan rata-rata dari pengguna paket prabayar ultimate dan surf berbeda. Disini, kita akan menghitung hipotesis persamaan rata-rata 2 populasi. Populasi disini yaitu pengguna paket ultimate dan surf."
   ]
  },
  {
   "cell_type": "markdown",
   "metadata": {},
   "source": [
    " "
   ]
  },
  {
   "cell_type": "code",
   "execution_count": 58,
   "metadata": {},
   "outputs": [
    {
     "name": "stdout",
     "output_type": "stream",
     "text": [
      "Rata-rata pendapatan dari pengguna paket prabayar Ultimate dan Surf berbeda\n"
     ]
    }
   ],
   "source": [
    "# Uji hipotesisnya\n",
    "alpha = 0.05\n",
    "\n",
    "df_megaline_merge_surf = df_megaline_merge.query('plan == \"surf\"')\n",
    "df_megaline_merge_ultimate = df_megaline_merge.query('plan == \"ultimate\"')\n",
    "\n",
    "result_1 = st.ttest_ind(df_megaline_merge_surf['income'], df_megaline_merge_ultimate['income'], equal_var=False)\n",
    "\n",
    "if (1 - result_1.pvalue) < alpha:\n",
    "    print('Rata-rata pendapatan dari pengguna paket prabayar Ultimate dan Surf sama.')\n",
    "else:\n",
    "    print('Rata-rata pendapatan dari pengguna paket prabayar Ultimate dan Surf berbeda')"
   ]
  },
  {
   "cell_type": "markdown",
   "metadata": {},
   "source": [
    "Setelah menguji hipotesis pertama, kita uji hipotesis 0 yang kedua, yaitu rata-rata pendapatan dari pengguna di wilayah NY-NJ berbeda dengan pengguna dari wilayan lain. "
   ]
  },
  {
   "cell_type": "markdown",
   "metadata": {},
   "source": [
    " "
   ]
  },
  {
   "cell_type": "code",
   "execution_count": 59,
   "metadata": {},
   "outputs": [
    {
     "name": "stdout",
     "output_type": "stream",
     "text": [
      "Rata-rata pendapatan dari pengguna di wilayah NY-NJ dan wilayah lain berbeda\n"
     ]
    }
   ],
   "source": [
    "# Uji hipotesisnya\n",
    "alpha = 0.05\n",
    "\n",
    "df_megaline_merge_ny_nj = df_megaline_merge_city.query('is_ny_nj == True')\n",
    "df_megaline_merge_not_ny_nj = df_megaline_merge_city.query('is_ny_nj == False')\n",
    "\n",
    "result_1 = st.ttest_ind(df_megaline_merge_ny_nj['income'], df_megaline_merge_not_ny_nj['income'], equal_var=False)\n",
    "\n",
    "if (1 - result_1.pvalue) < alpha:\n",
    "    print('Rata-rata pendapatan dari pengguna di wilayah NY-NJ dan wilayah lain sama.')\n",
    "else:\n",
    "    print('Rata-rata pendapatan dari pengguna di wilayah NY-NJ dan wilayah lain berbeda')"
   ]
  },
  {
   "cell_type": "markdown",
   "metadata": {},
   "source": [
    "## Kesimpulan Umum\n",
    "\n",
    "Dari penelitian ini, beberapa proses telah kita kerjakan. Mulai dari memahami data yang diberikan, melakukan perbaikan pada data dan menambahkan informasi agar data menjadi lebih mudah dianalisa. Secara singkat, terdapat 3 hal yang lebih banyak kita analisa yaitu data panggilan, data pesan dan data internet. Seperti berapa sering pengguna paket Surf dan Ultimate dalam melakukan panggilan, pengiriman pesan atau penggunaan internet. Untuk mengetahui secara cepat pendapatan dari masing-masing paket, kita telah melakukan perhitungan sesuai dengan aturan yang sudah diberikan. Yaitu adanya biaya tambahan bila pemakaian melebihi batas kuota pemakaian.\n",
    "\n",
    "Setelah semua data telah selesai diolah, kita melakukan proses pengujian hipotesis, mulai dari memahami perilaku pengguna masing-masing paket dalam memakai panggilan, SMS dan internet. Kita juga melihat perilaku pengguna dari wilayah berbeda, dan jumlah pendapatan bulanan dari masing-masing paket. Dari hasil ini, dapat kita lihat bahwa umumnya pengguna paket Surf lebih banyak ketimbang pengguna paket Ultimate. Dan pengguna paket Surf juga cenderung memiliki lebih banyak pemakaian ketimbang paket Surf. Hal ini menyebabkan pengguna harus membayar paket lebih mahal karena kuota pada paket surf tidak terlalu banyak. Terutama pada bulan 8 dan 12, dimana terdapat pengguna yang melebihi batas kuota sangat banyak. \n",
    "\n",
    "Bila dilihat rata-rata pendapatan dari pengguna paket Ultimate jauh lebih tinggi dari pada pengguna paket Surf pada bulan 1-6. Tetapi perilaku ini mulai berbeda dengan rata-rata tidak jauh berbeda mulai bulan 7-12 antara 2 pengguna paket Surf dan Ultimate. Selain itu, rata-rata pendapatan dari pengguna yang berasal dari NY-NJ dengan wilayah lainnya hanya terdapat perbedaan signifikan pada bulan 1-3, sedangkan mulai tidak jauh berbeda pada bulan 4-12. Dari hasil uji hipotesis dengan jenis hipotesis rata-rata dari 2 populasi juga menunjukan terdapat perbedaan rata-rata pendapatan pengguna paket SUrf dan Ultimate dan juga dari kota NY-NJ dengan wilayah lainnya. Sementara dari total pendapatan, kita memperoleh lebih banyak pendapatan dari pengguna paket Surf karena pemakaian mereka yang berlebih."
   ]
  },
  {
   "cell_type": "markdown",
   "metadata": {},
   "source": [
    " "
   ]
  }
 ],
 "metadata": {
  "ExecuteTimeLog": [
   {
    "duration": 828,
    "start_time": "2021-11-16T09:21:11.304Z"
   },
   {
    "duration": 893,
    "start_time": "2021-11-16T09:21:17.728Z"
   },
   {
    "duration": 1150,
    "start_time": "2021-11-16T09:21:29.568Z"
   },
   {
    "duration": 3,
    "start_time": "2021-11-16T09:24:14.495Z"
   },
   {
    "duration": 120,
    "start_time": "2021-11-16T09:24:46.630Z"
   },
   {
    "duration": 3,
    "start_time": "2021-11-16T09:28:27.882Z"
   },
   {
    "duration": 4,
    "start_time": "2021-11-16T09:29:54.281Z"
   },
   {
    "duration": 3,
    "start_time": "2021-11-16T09:30:45.936Z"
   },
   {
    "duration": 4,
    "start_time": "2021-11-16T09:31:06.300Z"
   },
   {
    "duration": 113,
    "start_time": "2021-11-16T09:31:37.208Z"
   },
   {
    "duration": 143,
    "start_time": "2021-11-16T09:31:48.656Z"
   },
   {
    "duration": 98,
    "start_time": "2021-11-16T09:31:55.678Z"
   },
   {
    "duration": 3,
    "start_time": "2021-11-16T09:32:08.535Z"
   },
   {
    "duration": 111,
    "start_time": "2021-11-16T09:32:10.120Z"
   },
   {
    "duration": 3,
    "start_time": "2021-11-16T09:32:15.732Z"
   },
   {
    "duration": 4,
    "start_time": "2021-11-16T09:32:29.423Z"
   },
   {
    "duration": 3,
    "start_time": "2021-11-16T10:03:03.074Z"
   },
   {
    "duration": 3,
    "start_time": "2021-11-16T10:10:01.288Z"
   },
   {
    "duration": 3,
    "start_time": "2021-11-16T10:10:46.923Z"
   },
   {
    "duration": 121,
    "start_time": "2021-11-16T10:37:46.494Z"
   },
   {
    "duration": 125,
    "start_time": "2021-11-16T10:38:20.632Z"
   },
   {
    "duration": 112,
    "start_time": "2021-11-16T10:46:53.001Z"
   },
   {
    "duration": 110,
    "start_time": "2021-11-16T10:48:25.775Z"
   },
   {
    "duration": 3,
    "start_time": "2021-11-16T10:50:18.720Z"
   },
   {
    "duration": 4,
    "start_time": "2021-11-16T10:50:37.649Z"
   },
   {
    "duration": 2,
    "start_time": "2021-11-16T10:50:51.884Z"
   },
   {
    "duration": 3,
    "start_time": "2021-11-16T10:51:56.237Z"
   },
   {
    "duration": 101,
    "start_time": "2021-11-16T10:53:13.791Z"
   },
   {
    "duration": 3,
    "start_time": "2021-11-16T10:55:59.186Z"
   },
   {
    "duration": 3,
    "start_time": "2021-11-16T10:56:10.751Z"
   },
   {
    "duration": 3,
    "start_time": "2021-11-16T10:56:49.038Z"
   },
   {
    "duration": 3,
    "start_time": "2021-11-16T10:56:49.174Z"
   },
   {
    "duration": 4,
    "start_time": "2021-11-16T10:56:49.414Z"
   },
   {
    "duration": 3,
    "start_time": "2021-11-16T10:56:49.680Z"
   },
   {
    "duration": 3,
    "start_time": "2021-11-16T10:56:50.370Z"
   },
   {
    "duration": 114,
    "start_time": "2021-11-16T10:59:34.518Z"
   },
   {
    "duration": 3,
    "start_time": "2021-11-16T11:01:41.201Z"
   },
   {
    "duration": 116,
    "start_time": "2021-11-16T11:01:48.754Z"
   },
   {
    "duration": 3,
    "start_time": "2021-11-16T11:02:16.685Z"
   },
   {
    "duration": 3,
    "start_time": "2021-11-16T11:02:19.479Z"
   },
   {
    "duration": 3,
    "start_time": "2021-11-16T11:02:47.067Z"
   },
   {
    "duration": 3,
    "start_time": "2021-11-16T11:02:49.353Z"
   },
   {
    "duration": 3,
    "start_time": "2021-11-16T11:03:07.835Z"
   },
   {
    "duration": 3,
    "start_time": "2021-11-16T11:03:07.953Z"
   },
   {
    "duration": 112,
    "start_time": "2021-11-16T11:07:52.072Z"
   },
   {
    "duration": 187,
    "start_time": "2021-11-16T11:09:23.468Z"
   },
   {
    "duration": 4,
    "start_time": "2021-11-16T11:10:01.455Z"
   },
   {
    "duration": 3,
    "start_time": "2021-11-16T11:10:05.069Z"
   },
   {
    "duration": 4,
    "start_time": "2021-11-16T11:10:13.376Z"
   },
   {
    "duration": 3,
    "start_time": "2021-11-16T11:10:14.434Z"
   },
   {
    "duration": 3,
    "start_time": "2021-11-16T11:10:22.853Z"
   },
   {
    "duration": 4,
    "start_time": "2021-11-16T11:27:29.279Z"
   },
   {
    "duration": 4,
    "start_time": "2021-11-16T11:29:08.919Z"
   },
   {
    "duration": 118,
    "start_time": "2021-11-16T11:29:46.703Z"
   },
   {
    "duration": 437,
    "start_time": "2021-11-16T11:36:02.181Z"
   },
   {
    "duration": 157,
    "start_time": "2021-11-16T11:36:14.388Z"
   },
   {
    "duration": 207,
    "start_time": "2021-11-16T11:47:15.898Z"
   },
   {
    "duration": 3,
    "start_time": "2021-11-16T11:53:52.092Z"
   },
   {
    "duration": 3,
    "start_time": "2021-11-16T11:53:52.236Z"
   },
   {
    "duration": 3,
    "start_time": "2021-11-16T11:59:12.005Z"
   },
   {
    "duration": 112,
    "start_time": "2021-11-16T12:00:33.446Z"
   },
   {
    "duration": 3,
    "start_time": "2021-11-16T12:02:14.453Z"
   },
   {
    "duration": 3,
    "start_time": "2021-11-16T12:02:39.512Z"
   },
   {
    "duration": 106,
    "start_time": "2021-11-16T12:03:03.460Z"
   },
   {
    "duration": 3,
    "start_time": "2021-11-17T20:37:21.139Z"
   },
   {
    "duration": 3,
    "start_time": "2021-11-17T20:37:22.229Z"
   },
   {
    "duration": 3,
    "start_time": "2021-11-17T20:38:38.806Z"
   },
   {
    "duration": 3,
    "start_time": "2021-11-17T20:38:41.958Z"
   },
   {
    "duration": 3,
    "start_time": "2021-11-17T20:43:46.551Z"
   },
   {
    "duration": 4,
    "start_time": "2021-11-17T20:58:21.835Z"
   },
   {
    "duration": 3,
    "start_time": "2021-11-17T20:59:21.872Z"
   },
   {
    "duration": 4,
    "start_time": "2021-11-17T20:59:45.352Z"
   },
   {
    "duration": 4,
    "start_time": "2021-11-17T20:59:49.646Z"
   },
   {
    "duration": 159,
    "start_time": "2021-11-17T21:02:26.949Z"
   },
   {
    "duration": 3,
    "start_time": "2021-11-17T21:03:53.461Z"
   },
   {
    "duration": 3,
    "start_time": "2021-11-17T21:03:53.694Z"
   },
   {
    "duration": 3,
    "start_time": "2021-11-17T21:05:28.145Z"
   },
   {
    "duration": 116,
    "start_time": "2021-11-17T21:05:57.787Z"
   },
   {
    "duration": 3,
    "start_time": "2021-11-17T21:06:37.993Z"
   },
   {
    "duration": 3,
    "start_time": "2021-11-17T21:06:38.261Z"
   },
   {
    "duration": 3,
    "start_time": "2021-11-17T21:11:54.358Z"
   },
   {
    "duration": 3,
    "start_time": "2021-11-17T21:12:43.846Z"
   },
   {
    "duration": 4,
    "start_time": "2021-11-17T21:13:08.773Z"
   },
   {
    "duration": 3,
    "start_time": "2021-11-17T21:14:44.441Z"
   },
   {
    "duration": 3,
    "start_time": "2021-11-17T21:15:42.059Z"
   },
   {
    "duration": 4,
    "start_time": "2021-11-17T21:15:51.995Z"
   },
   {
    "duration": 3,
    "start_time": "2021-11-17T21:15:53.923Z"
   },
   {
    "duration": 3,
    "start_time": "2021-11-17T21:15:55.282Z"
   },
   {
    "duration": 3,
    "start_time": "2021-11-17T21:16:28.492Z"
   },
   {
    "duration": 3,
    "start_time": "2021-11-17T21:16:32.603Z"
   },
   {
    "duration": 3,
    "start_time": "2021-11-17T21:17:06.941Z"
   },
   {
    "duration": 98,
    "start_time": "2021-11-17T21:18:05.733Z"
   },
   {
    "duration": 4,
    "start_time": "2021-11-17T21:21:35.255Z"
   },
   {
    "duration": 3,
    "start_time": "2021-11-17T21:21:37.804Z"
   },
   {
    "duration": 4,
    "start_time": "2021-11-17T21:23:06.071Z"
   },
   {
    "duration": 3,
    "start_time": "2021-11-17T21:23:24.799Z"
   },
   {
    "duration": 3,
    "start_time": "2021-11-17T21:23:32.591Z"
   },
   {
    "duration": 98,
    "start_time": "2021-11-17T21:28:31.559Z"
   },
   {
    "duration": 3,
    "start_time": "2021-11-17T21:28:45.448Z"
   },
   {
    "duration": 3,
    "start_time": "2021-11-17T21:29:17.303Z"
   },
   {
    "duration": 3,
    "start_time": "2021-11-17T21:29:29.617Z"
   },
   {
    "duration": 3,
    "start_time": "2021-11-17T21:29:32.681Z"
   },
   {
    "duration": 3,
    "start_time": "2021-11-17T21:36:11.474Z"
   },
   {
    "duration": 3,
    "start_time": "2021-11-17T21:36:14.791Z"
   },
   {
    "duration": 3,
    "start_time": "2021-11-17T21:36:53.943Z"
   },
   {
    "duration": 3,
    "start_time": "2021-11-17T21:36:56.165Z"
   },
   {
    "duration": 4,
    "start_time": "2021-11-17T21:37:16.590Z"
   },
   {
    "duration": 3,
    "start_time": "2021-11-17T21:37:22.702Z"
   },
   {
    "duration": 4,
    "start_time": "2021-11-17T21:38:03.479Z"
   },
   {
    "duration": 3,
    "start_time": "2021-11-17T21:38:08.601Z"
   },
   {
    "duration": 3,
    "start_time": "2021-11-17T21:38:12.928Z"
   },
   {
    "duration": 3,
    "start_time": "2021-11-17T21:38:48.896Z"
   },
   {
    "duration": 2,
    "start_time": "2021-11-17T21:38:49.171Z"
   },
   {
    "duration": 4,
    "start_time": "2021-11-17T21:39:57.889Z"
   },
   {
    "duration": 3,
    "start_time": "2021-11-17T21:39:58.057Z"
   },
   {
    "duration": 3,
    "start_time": "2021-11-17T21:41:20.108Z"
   },
   {
    "duration": 3,
    "start_time": "2021-11-17T21:41:20.629Z"
   },
   {
    "duration": 3,
    "start_time": "2021-11-17T21:42:49.136Z"
   },
   {
    "duration": 3,
    "start_time": "2021-11-17T21:43:15.137Z"
   },
   {
    "duration": 4,
    "start_time": "2021-11-17T21:43:16.766Z"
   },
   {
    "duration": 4,
    "start_time": "2021-11-17T21:43:31.711Z"
   },
   {
    "duration": 3,
    "start_time": "2021-11-17T21:43:36.312Z"
   },
   {
    "duration": 4,
    "start_time": "2021-11-17T21:45:08.825Z"
   },
   {
    "duration": 4,
    "start_time": "2021-11-17T21:45:10.119Z"
   },
   {
    "duration": 4,
    "start_time": "2021-11-17T21:45:13.748Z"
   },
   {
    "duration": 3,
    "start_time": "2021-11-17T21:45:22.219Z"
   },
   {
    "duration": 3,
    "start_time": "2021-11-17T21:45:33.412Z"
   },
   {
    "duration": 2,
    "start_time": "2021-11-17T21:46:01.885Z"
   },
   {
    "duration": 3,
    "start_time": "2021-11-17T21:46:03.628Z"
   },
   {
    "duration": 107,
    "start_time": "2021-11-17T21:47:32.512Z"
   },
   {
    "duration": 103,
    "start_time": "2021-11-17T21:50:36.243Z"
   },
   {
    "duration": 3,
    "start_time": "2021-11-18T06:28:31.440Z"
   },
   {
    "duration": 3,
    "start_time": "2021-11-18T06:29:00.168Z"
   },
   {
    "duration": 3,
    "start_time": "2021-11-18T06:31:27.008Z"
   },
   {
    "duration": 2,
    "start_time": "2021-11-18T06:35:34.288Z"
   },
   {
    "duration": 2,
    "start_time": "2021-11-18T06:38:04.527Z"
   }
  ],
  "kernelspec": {
   "display_name": "Python 3 (ipykernel)",
   "language": "python",
   "name": "python3"
  },
  "language_info": {
   "codemirror_mode": {
    "name": "ipython",
    "version": 3
   },
   "file_extension": ".py",
   "mimetype": "text/x-python",
   "name": "python",
   "nbconvert_exporter": "python",
   "pygments_lexer": "ipython3",
   "version": "3.11.5"
  },
  "toc": {
   "base_numbering": 1,
   "nav_menu": {},
   "number_sections": true,
   "sideBar": true,
   "skip_h1_title": false,
   "title_cell": "Table of Contents",
   "title_sidebar": "Contents",
   "toc_cell": false,
   "toc_position": {},
   "toc_section_display": true,
   "toc_window_display": true
  }
 },
 "nbformat": 4,
 "nbformat_minor": 2
}
