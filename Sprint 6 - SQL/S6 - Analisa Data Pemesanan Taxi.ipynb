{
 "cells": [
  {
   "cell_type": "markdown",
   "metadata": {},
   "source": [
    "<h1>Table of Contents<span class=\"tocSkip\"></span></h1>\n",
    "<div class=\"toc\"><ul class=\"toc-item\"><li><span><a href=\"#Introduction\" data-toc-modified-id=\"Introduction-1\"><span class=\"toc-item-num\">1&nbsp;&nbsp;</span>Introduction</a></span></li><li><span><a href=\"#Pra-Pemrosesan-Data\" data-toc-modified-id=\"Pra-Pemrosesan-Data-2\"><span class=\"toc-item-num\">2&nbsp;&nbsp;</span>Pra-Pemrosesan Data</a></span></li><li><span><a href=\"#Analisa-Data\" data-toc-modified-id=\"Analisa-Data-3\"><span class=\"toc-item-num\">3&nbsp;&nbsp;</span>Analisa Data</a></span></li><li><span><a href=\"#Menguji-Hipotesis\" data-toc-modified-id=\"Menguji-Hipotesis-4\"><span class=\"toc-item-num\">4&nbsp;&nbsp;</span>Menguji Hipotesis</a></span></li><li><span><a href=\"#Kesimpulan\" data-toc-modified-id=\"Kesimpulan-5\"><span class=\"toc-item-num\">5&nbsp;&nbsp;</span>Kesimpulan</a></span></li></ul></div>"
   ]
  },
  {
   "cell_type": "markdown",
   "metadata": {},
   "source": [
    "## Introduction "
   ]
  },
  {
   "cell_type": "markdown",
   "metadata": {},
   "source": [
    "Kita mendapatkan 3 data, yaitu data perusahan taksi, lokasi perjalanan terakhir dan informasi perjalanan dari kota Loop ke Bandara Internasional O'Hare. Dari data ini, kita diminta untuk mengidentifikasi dan menganalisa informasi apa yang bisa kita dapatkan dari data tersebut. \n",
    "\n",
    "Untuk bisa mendapatkan informasi yang relevan, pertama-tama kita perlu mengecek terlebih dahulu data yang kita terima tidak ada masalah dari tipe data ataupun duplikasi data. Proses ini disebut pra-pemrosesan data. Setelah data yang kita miliki sudah tidak ada masalah, langkah berikutnya adalah melakukan analisa data dan mencari informasi apa yang bisa kita simpulkan. Proses kedua ini disebut analisa data."
   ]
  },
  {
   "cell_type": "markdown",
   "metadata": {},
   "source": [
    "## Pra-Pemrosesan Data "
   ]
  },
  {
   "cell_type": "markdown",
   "metadata": {},
   "source": [
    "Pada bagian ini, kita akan melakukan pemeriksaan pada data yang kita miliki. Pertama-tama, kita perlu melakukan import semua library yang mungkin saja dibutuhkan, membaca semua data yang kita miliki ke variable, dan memahami informasi apa saja yang ada pada data tersebut."
   ]
  },
  {
   "cell_type": "code",
   "execution_count": 1,
   "metadata": {},
   "outputs": [],
   "source": [
    "import pandas as pd\n",
    "import numpy as np\n",
    "import matplotlib.pyplot as plt \n",
    "import seaborn as sns\n",
    "from scipy import stats as st"
   ]
  },
  {
   "cell_type": "code",
   "execution_count": 2,
   "metadata": {},
   "outputs": [],
   "source": [
    "df_company = pd.read_csv('datasets/project_sql_result_01.csv')\n",
    "df_dropoff = pd.read_csv('datasets/project_sql_result_04.csv')"
   ]
  },
  {
   "cell_type": "code",
   "execution_count": 3,
   "metadata": {},
   "outputs": [
    {
     "name": "stdout",
     "output_type": "stream",
     "text": [
      "<class 'pandas.core.frame.DataFrame'>\n",
      "RangeIndex: 64 entries, 0 to 63\n",
      "Data columns (total 2 columns):\n",
      " #   Column        Non-Null Count  Dtype \n",
      "---  ------        --------------  ----- \n",
      " 0   company_name  64 non-null     object\n",
      " 1   trips_amount  64 non-null     int64 \n",
      "dtypes: int64(1), object(1)\n",
      "memory usage: 1.1+ KB\n"
     ]
    }
   ],
   "source": [
    "df_company.info()"
   ]
  },
  {
   "cell_type": "code",
   "execution_count": 4,
   "metadata": {},
   "outputs": [
    {
     "name": "stdout",
     "output_type": "stream",
     "text": [
      "<class 'pandas.core.frame.DataFrame'>\n",
      "RangeIndex: 94 entries, 0 to 93\n",
      "Data columns (total 2 columns):\n",
      " #   Column                 Non-Null Count  Dtype  \n",
      "---  ------                 --------------  -----  \n",
      " 0   dropoff_location_name  94 non-null     object \n",
      " 1   average_trips          94 non-null     float64\n",
      "dtypes: float64(1), object(1)\n",
      "memory usage: 1.6+ KB\n"
     ]
    }
   ],
   "source": [
    "df_dropoff.info()"
   ]
  },
  {
   "cell_type": "code",
   "execution_count": 5,
   "metadata": {},
   "outputs": [
    {
     "data": {
      "text/html": [
       "<div>\n",
       "<style scoped>\n",
       "    .dataframe tbody tr th:only-of-type {\n",
       "        vertical-align: middle;\n",
       "    }\n",
       "\n",
       "    .dataframe tbody tr th {\n",
       "        vertical-align: top;\n",
       "    }\n",
       "\n",
       "    .dataframe thead th {\n",
       "        text-align: right;\n",
       "    }\n",
       "</style>\n",
       "<table border=\"1\" class=\"dataframe\">\n",
       "  <thead>\n",
       "    <tr style=\"text-align: right;\">\n",
       "      <th></th>\n",
       "      <th>company_name</th>\n",
       "      <th>trips_amount</th>\n",
       "    </tr>\n",
       "  </thead>\n",
       "  <tbody>\n",
       "    <tr>\n",
       "      <th>16</th>\n",
       "      <td>Blue Diamond</td>\n",
       "      <td>2070</td>\n",
       "    </tr>\n",
       "    <tr>\n",
       "      <th>26</th>\n",
       "      <td>Gold Coast Taxi</td>\n",
       "      <td>428</td>\n",
       "    </tr>\n",
       "    <tr>\n",
       "      <th>60</th>\n",
       "      <td>2733 - 74600 Benny Jona</td>\n",
       "      <td>7</td>\n",
       "    </tr>\n",
       "    <tr>\n",
       "      <th>45</th>\n",
       "      <td>3011 - 66308 JBL Cab Inc.</td>\n",
       "      <td>25</td>\n",
       "    </tr>\n",
       "    <tr>\n",
       "      <th>31</th>\n",
       "      <td>American United Taxi Affiliation</td>\n",
       "      <td>210</td>\n",
       "    </tr>\n",
       "    <tr>\n",
       "      <th>30</th>\n",
       "      <td>Setare Inc</td>\n",
       "      <td>230</td>\n",
       "    </tr>\n",
       "    <tr>\n",
       "      <th>52</th>\n",
       "      <td>3721 - Santamaria Express, Alvaro Santamaria</td>\n",
       "      <td>14</td>\n",
       "    </tr>\n",
       "    <tr>\n",
       "      <th>57</th>\n",
       "      <td>Metro Group</td>\n",
       "      <td>11</td>\n",
       "    </tr>\n",
       "    <tr>\n",
       "      <th>22</th>\n",
       "      <td>Chicago Independents</td>\n",
       "      <td>1296</td>\n",
       "    </tr>\n",
       "    <tr>\n",
       "      <th>17</th>\n",
       "      <td>Chicago Medallion Management</td>\n",
       "      <td>1955</td>\n",
       "    </tr>\n",
       "    <tr>\n",
       "      <th>21</th>\n",
       "      <td>American United</td>\n",
       "      <td>1404</td>\n",
       "    </tr>\n",
       "    <tr>\n",
       "      <th>12</th>\n",
       "      <td>Dispatch Taxi Affiliation</td>\n",
       "      <td>3355</td>\n",
       "    </tr>\n",
       "    <tr>\n",
       "      <th>43</th>\n",
       "      <td>2809 - 95474 C &amp; D Cab Co Inc.</td>\n",
       "      <td>29</td>\n",
       "    </tr>\n",
       "    <tr>\n",
       "      <th>46</th>\n",
       "      <td>3620 - 52292 David K. Cab Corp.</td>\n",
       "      <td>21</td>\n",
       "    </tr>\n",
       "    <tr>\n",
       "      <th>29</th>\n",
       "      <td>303 Taxi</td>\n",
       "      <td>250</td>\n",
       "    </tr>\n",
       "    <tr>\n",
       "      <th>25</th>\n",
       "      <td>Top Cab Affiliation</td>\n",
       "      <td>978</td>\n",
       "    </tr>\n",
       "    <tr>\n",
       "      <th>7</th>\n",
       "      <td>Sun Taxi</td>\n",
       "      <td>7701</td>\n",
       "    </tr>\n",
       "    <tr>\n",
       "      <th>5</th>\n",
       "      <td>Chicago Carriage Cab Corp</td>\n",
       "      <td>9181</td>\n",
       "    </tr>\n",
       "    <tr>\n",
       "      <th>35</th>\n",
       "      <td>6742 - 83735 Tasha ride inc</td>\n",
       "      <td>39</td>\n",
       "    </tr>\n",
       "    <tr>\n",
       "      <th>2</th>\n",
       "      <td>Medallion Leasin</td>\n",
       "      <td>10367</td>\n",
       "    </tr>\n",
       "  </tbody>\n",
       "</table>\n",
       "</div>"
      ],
      "text/plain": [
       "                                    company_name  trips_amount\n",
       "16                                  Blue Diamond          2070\n",
       "26                               Gold Coast Taxi           428\n",
       "60                       2733 - 74600 Benny Jona             7\n",
       "45                     3011 - 66308 JBL Cab Inc.            25\n",
       "31              American United Taxi Affiliation           210\n",
       "30                                    Setare Inc           230\n",
       "52  3721 - Santamaria Express, Alvaro Santamaria            14\n",
       "57                                   Metro Group            11\n",
       "22                          Chicago Independents          1296\n",
       "17                  Chicago Medallion Management          1955\n",
       "21                               American United          1404\n",
       "12                     Dispatch Taxi Affiliation          3355\n",
       "43                2809 - 95474 C & D Cab Co Inc.            29\n",
       "46               3620 - 52292 David K. Cab Corp.            21\n",
       "29                                      303 Taxi           250\n",
       "25                           Top Cab Affiliation           978\n",
       "7                                       Sun Taxi          7701\n",
       "5                      Chicago Carriage Cab Corp          9181\n",
       "35                   6742 - 83735 Tasha ride inc            39\n",
       "2                               Medallion Leasin         10367"
      ]
     },
     "execution_count": 5,
     "metadata": {},
     "output_type": "execute_result"
    }
   ],
   "source": [
    "df_company.sample(20)"
   ]
  },
  {
   "cell_type": "code",
   "execution_count": 6,
   "metadata": {},
   "outputs": [
    {
     "data": {
      "text/html": [
       "<div>\n",
       "<style scoped>\n",
       "    .dataframe tbody tr th:only-of-type {\n",
       "        vertical-align: middle;\n",
       "    }\n",
       "\n",
       "    .dataframe tbody tr th {\n",
       "        vertical-align: top;\n",
       "    }\n",
       "\n",
       "    .dataframe thead th {\n",
       "        text-align: right;\n",
       "    }\n",
       "</style>\n",
       "<table border=\"1\" class=\"dataframe\">\n",
       "  <thead>\n",
       "    <tr style=\"text-align: right;\">\n",
       "      <th></th>\n",
       "      <th>dropoff_location_name</th>\n",
       "      <th>average_trips</th>\n",
       "    </tr>\n",
       "  </thead>\n",
       "  <tbody>\n",
       "    <tr>\n",
       "      <th>40</th>\n",
       "      <td>Bucktown</td>\n",
       "      <td>74.300000</td>\n",
       "    </tr>\n",
       "    <tr>\n",
       "      <th>82</th>\n",
       "      <td>South Deering</td>\n",
       "      <td>7.500000</td>\n",
       "    </tr>\n",
       "    <tr>\n",
       "      <th>17</th>\n",
       "      <td>Edgewater</td>\n",
       "      <td>583.300000</td>\n",
       "    </tr>\n",
       "    <tr>\n",
       "      <th>31</th>\n",
       "      <td>Lower West Side</td>\n",
       "      <td>143.300000</td>\n",
       "    </tr>\n",
       "    <tr>\n",
       "      <th>53</th>\n",
       "      <td>Jackson Park</td>\n",
       "      <td>33.103448</td>\n",
       "    </tr>\n",
       "    <tr>\n",
       "      <th>10</th>\n",
       "      <td>Lincoln Park</td>\n",
       "      <td>1246.533333</td>\n",
       "    </tr>\n",
       "    <tr>\n",
       "      <th>26</th>\n",
       "      <td>Hyde Park</td>\n",
       "      <td>255.133333</td>\n",
       "    </tr>\n",
       "    <tr>\n",
       "      <th>68</th>\n",
       "      <td>Clearing</td>\n",
       "      <td>14.500000</td>\n",
       "    </tr>\n",
       "    <tr>\n",
       "      <th>29</th>\n",
       "      <td>Albany Park</td>\n",
       "      <td>180.900000</td>\n",
       "    </tr>\n",
       "    <tr>\n",
       "      <th>48</th>\n",
       "      <td>Austin</td>\n",
       "      <td>44.433333</td>\n",
       "    </tr>\n",
       "    <tr>\n",
       "      <th>38</th>\n",
       "      <td>Armour Square</td>\n",
       "      <td>77.033333</td>\n",
       "    </tr>\n",
       "    <tr>\n",
       "      <th>61</th>\n",
       "      <td>Grand Crossing</td>\n",
       "      <td>22.600000</td>\n",
       "    </tr>\n",
       "    <tr>\n",
       "      <th>86</th>\n",
       "      <td>West Elsdon</td>\n",
       "      <td>5.666667</td>\n",
       "    </tr>\n",
       "    <tr>\n",
       "      <th>76</th>\n",
       "      <td>Washington Heights</td>\n",
       "      <td>9.133333</td>\n",
       "    </tr>\n",
       "    <tr>\n",
       "      <th>36</th>\n",
       "      <td>Kenwood</td>\n",
       "      <td>89.366667</td>\n",
       "    </tr>\n",
       "    <tr>\n",
       "      <th>47</th>\n",
       "      <td>Grand Boulevard</td>\n",
       "      <td>51.600000</td>\n",
       "    </tr>\n",
       "    <tr>\n",
       "      <th>0</th>\n",
       "      <td>Loop</td>\n",
       "      <td>10727.466667</td>\n",
       "    </tr>\n",
       "    <tr>\n",
       "      <th>44</th>\n",
       "      <td>Belmont Cragin</td>\n",
       "      <td>59.033333</td>\n",
       "    </tr>\n",
       "    <tr>\n",
       "      <th>13</th>\n",
       "      <td>Uptown</td>\n",
       "      <td>849.666667</td>\n",
       "    </tr>\n",
       "    <tr>\n",
       "      <th>55</th>\n",
       "      <td>Dunning</td>\n",
       "      <td>30.166667</td>\n",
       "    </tr>\n",
       "  </tbody>\n",
       "</table>\n",
       "</div>"
      ],
      "text/plain": [
       "   dropoff_location_name  average_trips\n",
       "40              Bucktown      74.300000\n",
       "82         South Deering       7.500000\n",
       "17             Edgewater     583.300000\n",
       "31       Lower West Side     143.300000\n",
       "53          Jackson Park      33.103448\n",
       "10          Lincoln Park    1246.533333\n",
       "26             Hyde Park     255.133333\n",
       "68              Clearing      14.500000\n",
       "29           Albany Park     180.900000\n",
       "48                Austin      44.433333\n",
       "38         Armour Square      77.033333\n",
       "61        Grand Crossing      22.600000\n",
       "86           West Elsdon       5.666667\n",
       "76    Washington Heights       9.133333\n",
       "36               Kenwood      89.366667\n",
       "47       Grand Boulevard      51.600000\n",
       "0                   Loop   10727.466667\n",
       "44        Belmont Cragin      59.033333\n",
       "13                Uptown     849.666667\n",
       "55               Dunning      30.166667"
      ]
     },
     "execution_count": 6,
     "metadata": {},
     "output_type": "execute_result"
    }
   ],
   "source": [
    "df_dropoff.sample(20)"
   ]
  },
  {
   "cell_type": "markdown",
   "metadata": {},
   "source": [
    "Kita telah mendapatkan beberapa informasi singkat namun juga penting dari proses diatas. \n",
    "- Pertama, data yang kita miliki tidak terlalu banyak. \n",
    "- Kedua, tidak ada data dengan nilai yang hilang. \n",
    "- Ketiga, bila diperhatikan, tidak terdapat masalah pada tipe data yang diterapkan dengan data yang disimpan. \n",
    "- Keempat, dari penamaan kolom juga tidak ada masalah karena sudah menggunakan format lower camel case.\n",
    "\n",
    "Namun, kita masih perlu memastikan apakah terdapat duplikasi data pada data yang kita terima."
   ]
  },
  {
   "cell_type": "code",
   "execution_count": 7,
   "metadata": {},
   "outputs": [
    {
     "data": {
      "text/plain": [
       "0"
      ]
     },
     "execution_count": 7,
     "metadata": {},
     "output_type": "execute_result"
    }
   ],
   "source": [
    "df_company.duplicated().sum()\n",
    "df_dropoff.duplicated().sum()"
   ]
  },
  {
   "cell_type": "markdown",
   "metadata": {},
   "source": [
    "Dari hasil pengecekan, tidak ada data duplikat. Artinya, proses pertama sudah selesai, dan kita bisa melakukan proses berikutnya yaitu analisa data."
   ]
  },
  {
   "cell_type": "markdown",
   "metadata": {},
   "source": [
    "## Analisa Data "
   ]
  },
  {
   "cell_type": "markdown",
   "metadata": {},
   "source": [
    "Pertama, kita diminta untuk melakukan pengecekan 10 wilayah teratas yang sering dijadikan sebagai titik pengantaran. Kita akan mengurutkan  data yang perisi nama wilayah tempat perjalanan terakhir dari terbesar ke terkecil, dan mengambil 10 data pertamanya. Setelah itu, perlu ada sebuah graph untuk mempermudah visualisasi kita."
   ]
  },
  {
   "cell_type": "code",
   "execution_count": 8,
   "metadata": {},
   "outputs": [
    {
     "data": {
      "text/html": [
       "<div>\n",
       "<style scoped>\n",
       "    .dataframe tbody tr th:only-of-type {\n",
       "        vertical-align: middle;\n",
       "    }\n",
       "\n",
       "    .dataframe tbody tr th {\n",
       "        vertical-align: top;\n",
       "    }\n",
       "\n",
       "    .dataframe thead th {\n",
       "        text-align: right;\n",
       "    }\n",
       "</style>\n",
       "<table border=\"1\" class=\"dataframe\">\n",
       "  <thead>\n",
       "    <tr style=\"text-align: right;\">\n",
       "      <th></th>\n",
       "      <th>dropoff_location_name</th>\n",
       "      <th>average_trips</th>\n",
       "    </tr>\n",
       "  </thead>\n",
       "  <tbody>\n",
       "    <tr>\n",
       "      <th>50</th>\n",
       "      <td>Loop</td>\n",
       "      <td>10727.466667</td>\n",
       "    </tr>\n",
       "    <tr>\n",
       "      <th>68</th>\n",
       "      <td>River North</td>\n",
       "      <td>9523.666667</td>\n",
       "    </tr>\n",
       "    <tr>\n",
       "      <th>78</th>\n",
       "      <td>Streeterville</td>\n",
       "      <td>6664.666667</td>\n",
       "    </tr>\n",
       "    <tr>\n",
       "      <th>87</th>\n",
       "      <td>West Loop</td>\n",
       "      <td>5163.666667</td>\n",
       "    </tr>\n",
       "    <tr>\n",
       "      <th>63</th>\n",
       "      <td>O'Hare</td>\n",
       "      <td>2546.900000</td>\n",
       "    </tr>\n",
       "    <tr>\n",
       "      <th>44</th>\n",
       "      <td>Lake View</td>\n",
       "      <td>2420.966667</td>\n",
       "    </tr>\n",
       "    <tr>\n",
       "      <th>35</th>\n",
       "      <td>Grant Park</td>\n",
       "      <td>2068.533333</td>\n",
       "    </tr>\n",
       "    <tr>\n",
       "      <th>56</th>\n",
       "      <td>Museum Campus</td>\n",
       "      <td>1510.000000</td>\n",
       "    </tr>\n",
       "    <tr>\n",
       "      <th>32</th>\n",
       "      <td>Gold Coast</td>\n",
       "      <td>1364.233333</td>\n",
       "    </tr>\n",
       "    <tr>\n",
       "      <th>74</th>\n",
       "      <td>Sheffield &amp; DePaul</td>\n",
       "      <td>1259.766667</td>\n",
       "    </tr>\n",
       "  </tbody>\n",
       "</table>\n",
       "</div>"
      ],
      "text/plain": [
       "   dropoff_location_name  average_trips\n",
       "50                  Loop   10727.466667\n",
       "68           River North    9523.666667\n",
       "78         Streeterville    6664.666667\n",
       "87             West Loop    5163.666667\n",
       "63                O'Hare    2546.900000\n",
       "44             Lake View    2420.966667\n",
       "35            Grant Park    2068.533333\n",
       "56         Museum Campus    1510.000000\n",
       "32            Gold Coast    1364.233333\n",
       "74    Sheffield & DePaul    1259.766667"
      ]
     },
     "execution_count": 8,
     "metadata": {},
     "output_type": "execute_result"
    }
   ],
   "source": [
    "df_top_dropoff = df_dropoff.groupby('dropoff_location_name', as_index=False).agg({'average_trips': 'sum'}).sort_values(by='average_trips', ascending=False)\n",
    "df_top_dropoff.head(10)"
   ]
  },
  {
   "cell_type": "code",
   "execution_count": 9,
   "metadata": {},
   "outputs": [
    {
     "data": {
      "text/plain": [
       "<Axes: xlabel='dropoff_location_name'>"
      ]
     },
     "execution_count": 9,
     "metadata": {},
     "output_type": "execute_result"
    },
    {
     "data": {
      "image/png": "[encoded data removed]",
      "text/plain": [
       "<Figure size 640x480 with 1 Axes>"
      ]
     },
     "metadata": {},
     "output_type": "display_data"
    }
   ],
   "source": [
    "df_top_dropoff.head(10).plot(kind='bar', x='dropoff_location_name')"
   ]
  },
  {
   "cell_type": "markdown",
   "metadata": {},
   "source": [
    "Kota Loop, River North, dan Streeterville menjadi kota destinasi terbanyak sebagai titik pengantaran secara berurut. Sedangkan kota sisanya berjarak setengah dari jumlah total destinasi ke kota Loop. Artinya, kota Loop menjadi kota yang paling populer di bulan November 2017. Berikutnya, kita akan menganalisa informasi mengenai perusahaan taksi."
   ]
  },
  {
   "cell_type": "code",
   "execution_count": 10,
   "metadata": {},
   "outputs": [
    {
     "data": {
      "text/html": [
       "<div>\n",
       "<style scoped>\n",
       "    .dataframe tbody tr th:only-of-type {\n",
       "        vertical-align: middle;\n",
       "    }\n",
       "\n",
       "    .dataframe tbody tr th {\n",
       "        vertical-align: top;\n",
       "    }\n",
       "\n",
       "    .dataframe thead th {\n",
       "        text-align: right;\n",
       "    }\n",
       "</style>\n",
       "<table border=\"1\" class=\"dataframe\">\n",
       "  <thead>\n",
       "    <tr style=\"text-align: right;\">\n",
       "      <th></th>\n",
       "      <th>company_name</th>\n",
       "      <th>trips_amount</th>\n",
       "    </tr>\n",
       "  </thead>\n",
       "  <tbody>\n",
       "    <tr>\n",
       "      <th>45</th>\n",
       "      <td>Flash Cab</td>\n",
       "      <td>19558</td>\n",
       "    </tr>\n",
       "    <tr>\n",
       "      <th>61</th>\n",
       "      <td>Taxi Affiliation Services</td>\n",
       "      <td>11422</td>\n",
       "    </tr>\n",
       "    <tr>\n",
       "      <th>50</th>\n",
       "      <td>Medallion Leasin</td>\n",
       "      <td>10367</td>\n",
       "    </tr>\n",
       "    <tr>\n",
       "      <th>63</th>\n",
       "      <td>Yellow Cab</td>\n",
       "      <td>9888</td>\n",
       "    </tr>\n",
       "    <tr>\n",
       "      <th>60</th>\n",
       "      <td>Taxi Affiliation Service Yellow</td>\n",
       "      <td>9299</td>\n",
       "    </tr>\n",
       "    <tr>\n",
       "      <th>36</th>\n",
       "      <td>Chicago Carriage Cab Corp</td>\n",
       "      <td>9181</td>\n",
       "    </tr>\n",
       "    <tr>\n",
       "      <th>43</th>\n",
       "      <td>City Service</td>\n",
       "      <td>8448</td>\n",
       "    </tr>\n",
       "    <tr>\n",
       "      <th>59</th>\n",
       "      <td>Sun Taxi</td>\n",
       "      <td>7701</td>\n",
       "    </tr>\n",
       "    <tr>\n",
       "      <th>58</th>\n",
       "      <td>Star North Management LLC</td>\n",
       "      <td>7455</td>\n",
       "    </tr>\n",
       "    <tr>\n",
       "      <th>33</th>\n",
       "      <td>Blue Ribbon Taxi Association Inc.</td>\n",
       "      <td>5953</td>\n",
       "    </tr>\n",
       "  </tbody>\n",
       "</table>\n",
       "</div>"
      ],
      "text/plain": [
       "                         company_name  trips_amount\n",
       "45                          Flash Cab         19558\n",
       "61          Taxi Affiliation Services         11422\n",
       "50                   Medallion Leasin         10367\n",
       "63                         Yellow Cab          9888\n",
       "60    Taxi Affiliation Service Yellow          9299\n",
       "36          Chicago Carriage Cab Corp          9181\n",
       "43                       City Service          8448\n",
       "59                           Sun Taxi          7701\n",
       "58          Star North Management LLC          7455\n",
       "33  Blue Ribbon Taxi Association Inc.          5953"
      ]
     },
     "execution_count": 10,
     "metadata": {},
     "output_type": "execute_result"
    }
   ],
   "source": [
    "df_company_grouped = df_company.groupby('company_name', as_index=False).agg({'trips_amount': 'sum'}).sort_values(by='trips_amount', ascending=False)\n",
    "df_company_grouped.head(10)"
   ]
  },
  {
   "cell_type": "code",
   "execution_count": 11,
   "metadata": {},
   "outputs": [
    {
     "data": {
      "text/plain": [
       "<Axes: xlabel='company_name'>"
      ]
     },
     "execution_count": 11,
     "metadata": {},
     "output_type": "execute_result"
    },
    {
     "data": {
      "image/png": "[encoded data removed]",
      "text/plain": [
       "<Figure size 640x480 with 1 Axes>"
      ]
     },
     "metadata": {},
     "output_type": "display_data"
    }
   ],
   "source": [
    "df_company_grouped.head(10).plot(kind='bar', x='company_name')"
   ]
  },
  {
   "cell_type": "markdown",
   "metadata": {},
   "source": [
    "Flash Cab menjadi perusahaan taksi dengan jumlah perjalanan terbanyak pada tanggal 15-16 November 2017 dengan total hampir mencapai 20000 perjalanan."
   ]
  },
  {
   "cell_type": "markdown",
   "metadata": {},
   "source": [
    "## Menguji Hipotesis "
   ]
  },
  {
   "cell_type": "markdown",
   "metadata": {},
   "source": [
    "Pada tahap ini, kita mendapatkan hipotesis 0 yaitu \"Durasi rata-rata perjalanan dari Loop ke Bandara Internasional O'Hare berubah saat hujan di hari Sabtu\". Di lain hal, kita juga mendapatkan data baru yang berisi tanggal, informasi cuaca, dan durasi perjalanan dari Loop ke Bandara Internasional O'Hare. \n",
    "\n",
    "Kita perlu memastikan data yang kita terima ini dapat diproses sebelum melakukan pengujian hipotesis. Cara yang dilakukan sama dengan sebelumnya, yaitu memastikan tidak ada nilai yang hilang, data duplikat, dan kesalahan pada tipe data."
   ]
  },
  {
   "cell_type": "code",
   "execution_count": 12,
   "metadata": {},
   "outputs": [],
   "source": [
    "df_loop_to_airport = pd.read_csv('datasets/project_sql_result_07.csv')"
   ]
  },
  {
   "cell_type": "code",
   "execution_count": 13,
   "metadata": {},
   "outputs": [
    {
     "name": "stdout",
     "output_type": "stream",
     "text": [
      "<class 'pandas.core.frame.DataFrame'>\n",
      "RangeIndex: 1068 entries, 0 to 1067\n",
      "Data columns (total 3 columns):\n",
      " #   Column              Non-Null Count  Dtype  \n",
      "---  ------              --------------  -----  \n",
      " 0   start_ts            1068 non-null   object \n",
      " 1   weather_conditions  1068 non-null   object \n",
      " 2   duration_seconds    1068 non-null   float64\n",
      "dtypes: float64(1), object(2)\n",
      "memory usage: 25.2+ KB\n"
     ]
    }
   ],
   "source": [
    "df_loop_to_airport.info()"
   ]
  },
  {
   "cell_type": "code",
   "execution_count": 14,
   "metadata": {},
   "outputs": [
    {
     "data": {
      "text/html": [
       "<div>\n",
       "<style scoped>\n",
       "    .dataframe tbody tr th:only-of-type {\n",
       "        vertical-align: middle;\n",
       "    }\n",
       "\n",
       "    .dataframe tbody tr th {\n",
       "        vertical-align: top;\n",
       "    }\n",
       "\n",
       "    .dataframe thead th {\n",
       "        text-align: right;\n",
       "    }\n",
       "</style>\n",
       "<table border=\"1\" class=\"dataframe\">\n",
       "  <thead>\n",
       "    <tr style=\"text-align: right;\">\n",
       "      <th></th>\n",
       "      <th>start_ts</th>\n",
       "      <th>weather_conditions</th>\n",
       "      <th>duration_seconds</th>\n",
       "    </tr>\n",
       "  </thead>\n",
       "  <tbody>\n",
       "    <tr>\n",
       "      <th>7</th>\n",
       "      <td>2017-11-18 11:00:00</td>\n",
       "      <td>Good</td>\n",
       "      <td>2280.0</td>\n",
       "    </tr>\n",
       "    <tr>\n",
       "      <th>565</th>\n",
       "      <td>2017-11-04 04:00:00</td>\n",
       "      <td>Good</td>\n",
       "      <td>1440.0</td>\n",
       "    </tr>\n",
       "    <tr>\n",
       "      <th>718</th>\n",
       "      <td>2017-11-04 20:00:00</td>\n",
       "      <td>Good</td>\n",
       "      <td>2220.0</td>\n",
       "    </tr>\n",
       "    <tr>\n",
       "      <th>124</th>\n",
       "      <td>2017-11-11 10:00:00</td>\n",
       "      <td>Good</td>\n",
       "      <td>1380.0</td>\n",
       "    </tr>\n",
       "    <tr>\n",
       "      <th>576</th>\n",
       "      <td>2017-11-04 18:00:00</td>\n",
       "      <td>Bad</td>\n",
       "      <td>2280.0</td>\n",
       "    </tr>\n",
       "    <tr>\n",
       "      <th>588</th>\n",
       "      <td>2017-11-04 18:00:00</td>\n",
       "      <td>Bad</td>\n",
       "      <td>2580.0</td>\n",
       "    </tr>\n",
       "    <tr>\n",
       "      <th>340</th>\n",
       "      <td>2017-11-18 08:00:00</td>\n",
       "      <td>Bad</td>\n",
       "      <td>1440.0</td>\n",
       "    </tr>\n",
       "    <tr>\n",
       "      <th>294</th>\n",
       "      <td>2017-11-11 08:00:00</td>\n",
       "      <td>Good</td>\n",
       "      <td>1404.0</td>\n",
       "    </tr>\n",
       "    <tr>\n",
       "      <th>467</th>\n",
       "      <td>2017-11-25 07:00:00</td>\n",
       "      <td>Good</td>\n",
       "      <td>1409.0</td>\n",
       "    </tr>\n",
       "    <tr>\n",
       "      <th>1067</th>\n",
       "      <td>2017-11-04 16:00:00</td>\n",
       "      <td>Bad</td>\n",
       "      <td>2834.0</td>\n",
       "    </tr>\n",
       "    <tr>\n",
       "      <th>508</th>\n",
       "      <td>2017-11-11 16:00:00</td>\n",
       "      <td>Good</td>\n",
       "      <td>2560.0</td>\n",
       "    </tr>\n",
       "    <tr>\n",
       "      <th>545</th>\n",
       "      <td>2017-11-04 14:00:00</td>\n",
       "      <td>Good</td>\n",
       "      <td>3059.0</td>\n",
       "    </tr>\n",
       "    <tr>\n",
       "      <th>1035</th>\n",
       "      <td>2017-11-11 11:00:00</td>\n",
       "      <td>Good</td>\n",
       "      <td>1740.0</td>\n",
       "    </tr>\n",
       "    <tr>\n",
       "      <th>706</th>\n",
       "      <td>2017-11-04 12:00:00</td>\n",
       "      <td>Good</td>\n",
       "      <td>2880.0</td>\n",
       "    </tr>\n",
       "    <tr>\n",
       "      <th>753</th>\n",
       "      <td>2017-11-04 16:00:00</td>\n",
       "      <td>Bad</td>\n",
       "      <td>2820.0</td>\n",
       "    </tr>\n",
       "    <tr>\n",
       "      <th>17</th>\n",
       "      <td>2017-11-25 10:00:00</td>\n",
       "      <td>Good</td>\n",
       "      <td>1502.0</td>\n",
       "    </tr>\n",
       "    <tr>\n",
       "      <th>775</th>\n",
       "      <td>2017-11-18 07:00:00</td>\n",
       "      <td>Bad</td>\n",
       "      <td>1454.0</td>\n",
       "    </tr>\n",
       "    <tr>\n",
       "      <th>442</th>\n",
       "      <td>2017-11-11 08:00:00</td>\n",
       "      <td>Good</td>\n",
       "      <td>1205.0</td>\n",
       "    </tr>\n",
       "    <tr>\n",
       "      <th>139</th>\n",
       "      <td>2017-11-25 13:00:00</td>\n",
       "      <td>Good</td>\n",
       "      <td>1560.0</td>\n",
       "    </tr>\n",
       "    <tr>\n",
       "      <th>1037</th>\n",
       "      <td>2017-11-11 09:00:00</td>\n",
       "      <td>Good</td>\n",
       "      <td>1280.0</td>\n",
       "    </tr>\n",
       "  </tbody>\n",
       "</table>\n",
       "</div>"
      ],
      "text/plain": [
       "                 start_ts weather_conditions  duration_seconds\n",
       "7     2017-11-18 11:00:00               Good            2280.0\n",
       "565   2017-11-04 04:00:00               Good            1440.0\n",
       "718   2017-11-04 20:00:00               Good            2220.0\n",
       "124   2017-11-11 10:00:00               Good            1380.0\n",
       "576   2017-11-04 18:00:00                Bad            2280.0\n",
       "588   2017-11-04 18:00:00                Bad            2580.0\n",
       "340   2017-11-18 08:00:00                Bad            1440.0\n",
       "294   2017-11-11 08:00:00               Good            1404.0\n",
       "467   2017-11-25 07:00:00               Good            1409.0\n",
       "1067  2017-11-04 16:00:00                Bad            2834.0\n",
       "508   2017-11-11 16:00:00               Good            2560.0\n",
       "545   2017-11-04 14:00:00               Good            3059.0\n",
       "1035  2017-11-11 11:00:00               Good            1740.0\n",
       "706   2017-11-04 12:00:00               Good            2880.0\n",
       "753   2017-11-04 16:00:00                Bad            2820.0\n",
       "17    2017-11-25 10:00:00               Good            1502.0\n",
       "775   2017-11-18 07:00:00                Bad            1454.0\n",
       "442   2017-11-11 08:00:00               Good            1205.0\n",
       "139   2017-11-25 13:00:00               Good            1560.0\n",
       "1037  2017-11-11 09:00:00               Good            1280.0"
      ]
     },
     "execution_count": 14,
     "metadata": {},
     "output_type": "execute_result"
    }
   ],
   "source": [
    "df_loop_to_airport.sample(20)"
   ]
  },
  {
   "cell_type": "code",
   "execution_count": 15,
   "metadata": {},
   "outputs": [
    {
     "data": {
      "text/plain": [
       "array(['Good', 'Bad'], dtype=object)"
      ]
     },
     "execution_count": 15,
     "metadata": {},
     "output_type": "execute_result"
    }
   ],
   "source": [
    "df_loop_to_airport['start_ts'] = pd.to_datetime(df_loop_to_airport['start_ts'], format='%Y-%m-%d %H:%M:%S')\n",
    "df_loop_to_airport['weekday'] = df_loop_to_airport['start_ts'].dt.weekday\n",
    "df_loop_to_airport[df_loop_to_airport['weekday'] != 5]\n",
    "df_loop_to_airport['weather_conditions'].unique()"
   ]
  },
  {
   "cell_type": "markdown",
   "metadata": {},
   "source": [
    "Pada proses diatas, kita memastikan agar tipe data pada kolom \"start_ts\" adalah datetime, sehingga kita bisa menambahkan 1 kolom baru bernama \"weekday\" untuk bisa melakukan filter data dengan tanggal dan di hari Sabtu. Ternyata, setelah dicek, data yang kita miliki semua adalah data dengan tanggal dan hari Sabtu. Berikutnya, kita perlu mengeluarkan semua outlier dari data kita. "
   ]
  },
  {
   "cell_type": "code",
   "execution_count": 16,
   "metadata": {},
   "outputs": [],
   "source": [
    "def upper_lower_whisker(series):\n",
    "    Q1  = series.quantile(0.25)\n",
    "    Q3  = series.quantile(0.75)\n",
    "    IQR = Q3 - Q1\n",
    "    lower_whisker = Q1 - (1.5 * IQR)\n",
    "    upper_whisker = Q3 + (1.5 * IQR)\n",
    "    return lower_whisker, upper_whisker"
   ]
  },
  {
   "cell_type": "code",
   "execution_count": 17,
   "metadata": {},
   "outputs": [],
   "source": [
    "def outlier_cleansing(dataframe, column):\n",
    "\n",
    "    lower, upper = upper_lower_whisker(dataframe[column])\n",
    "    print(f'lower values : {lower}')\n",
    "    print(f'upper values : {upper}')\n",
    "\n",
    "    plt.title('Before cleaning outlier!')\n",
    "    sns.boxplot(data=dataframe, x=column)\n",
    "    plt.show()\n",
    "\n",
    "    dataframe = dataframe[(dataframe[column] > lower) & (dataframe[column] < upper)]\n",
    "\n",
    "    lower_check, upper_check = upper_lower_whisker(dataframe[column])\n",
    "    print(f'lower_check values : {lower_check}')\n",
    "    print(f'upper_check values : {upper_check}')\n",
    "\n",
    "    plt.title('After cleaning outlier!')\n",
    "    sns.boxplot(data=dataframe, x=column)\n",
    "    plt.show()\n",
    "\n",
    "    if lower == lower_check or upper == upper_check:\n",
    "        print(f'\\n====== [FINISHED] outlier in [{column}] column has been clear! ====== \\n')\n",
    "        return dataframe\n",
    "\n",
    "    else:\n",
    "        print(f'\\n------ [RE-START] cleaning outlier in {column} column ------ \\n')\n",
    "        dataframe = outlier_cleansing(dataframe, column)\n",
    "        return dataframe"
   ]
  },
  {
   "cell_type": "code",
   "execution_count": 18,
   "metadata": {},
   "outputs": [
    {
     "name": "stdout",
     "output_type": "stream",
     "text": [
      "lower values : -274.375\n",
      "upper values : 4292.625\n"
     ]
    },
    {
     "data": {
      "image/png": "[encoded data removed]",
      "text/plain": [
       "<Figure size 640x480 with 1 Axes>"
      ]
     },
     "metadata": {},
     "output_type": "display_data"
    },
    {
     "name": "stdout",
     "output_type": "stream",
     "text": [
      "lower_check values : -281.875\n",
      "upper_check values : 4297.125\n"
     ]
    },
    {
     "data": {
      "image/png": "[encoded data removed]",
      "text/plain": [
       "<Figure size 640x480 with 1 Axes>"
      ]
     },
     "metadata": {},
     "output_type": "display_data"
    },
    {
     "name": "stdout",
     "output_type": "stream",
     "text": [
      "\n",
      "------ [RE-START] cleaning outlier in duration_seconds column ------ \n",
      "\n",
      "lower values : -281.875\n",
      "upper values : 4297.125\n"
     ]
    },
    {
     "data": {
      "image/png": "[encoded data removed]",
      "text/plain": [
       "<Figure size 640x480 with 1 Axes>"
      ]
     },
     "metadata": {},
     "output_type": "display_data"
    },
    {
     "name": "stdout",
     "output_type": "stream",
     "text": [
      "lower_check values : -281.875\n",
      "upper_check values : 4297.125\n"
     ]
    },
    {
     "data": {
      "image/png": "[encoded data removed]",
      "text/plain": [
       "<Figure size 640x480 with 1 Axes>"
      ]
     },
     "metadata": {},
     "output_type": "display_data"
    },
    {
     "name": "stdout",
     "output_type": "stream",
     "text": [
      "\n",
      "====== [FINISHED] outlier in [duration_seconds] column has been clear! ====== \n",
      "\n"
     ]
    }
   ],
   "source": [
    "df_loop_to_airport = outlier_cleansing(dataframe=df_loop_to_airport, column='duration_seconds')"
   ]
  },
  {
   "cell_type": "code",
   "execution_count": 19,
   "metadata": {},
   "outputs": [
    {
     "data": {
      "text/plain": [
       "(-281.875, 4297.125)"
      ]
     },
     "execution_count": 19,
     "metadata": {},
     "output_type": "execute_result"
    }
   ],
   "source": [
    "upper_lower_whisker(df_loop_to_airport['duration_seconds'])"
   ]
  },
  {
   "cell_type": "markdown",
   "metadata": {},
   "source": [
    "Proses penanganan outlier diatas secara sederhana dilakukan secara berulang dengan membandingkan batas outlier pada 2 dataframe antara dataframe dengan outlier dan dataframe tanpa outlier. Apabila tidak ada perbedaan antara 2 dataframe tersebut, maka proses penanganan outlier telah selesai. Sebaliknya bila belum sama, maka proses akan diulang kembali hingga batas outlier membalikan nilai yang sama dari 2 dataframe. "
   ]
  },
  {
   "cell_type": "code",
   "execution_count": 20,
   "metadata": {},
   "outputs": [],
   "source": [
    "alpha=0.05\n",
    "df_loop_to_airport_bad = df_loop_to_airport[df_loop_to_airport['weather_conditions'] == 'Bad']['duration_seconds']\n",
    "df_loop_to_airport_good = df_loop_to_airport[df_loop_to_airport['weather_conditions'] == 'Good']['duration_seconds']"
   ]
  },
  {
   "cell_type": "code",
   "execution_count": 21,
   "metadata": {},
   "outputs": [],
   "source": [
    "levene_test = st.levene(df_loop_to_airport_bad, df_loop_to_airport_bad)\n",
    "equal_var = False\n",
    "\n",
    "if levene_test.pvalue > alpha:\n",
    "    equal_var = True\n",
    "    "
   ]
  },
  {
   "cell_type": "markdown",
   "metadata": {},
   "source": [
    "Langkah terakhir adalah menguji hipotesis. Sebelum kita melakukan uji hipotesis, kita perlu mengetahui equal_var yang akan digunakan dengan menggunakan metode levene test yang ada pada library scipy. Setelah kita dapatkan hasilnya, kita bisa meneruskan hasil equal_var ke metode pengujian hipotesis."
   ]
  },
  {
   "cell_type": "code",
   "execution_count": 22,
   "metadata": {},
   "outputs": [
    {
     "name": "stdout",
     "output_type": "stream",
     "text": [
      "Kita menerima hipotesis 0. Rata-rata durasi perjalanan dari Loop ke Bandara berbeda ketika hujan di hari Sabtu.\n"
     ]
    }
   ],
   "source": [
    "\n",
    "results = st.ttest_ind(df_loop_to_airport_bad, df_loop_to_airport_good, equal_var=equal_var)\n",
    "\n",
    "if results.pvalue < alpha:\n",
    "    print('Kita menerima hipotesis 0. Rata-rata durasi perjalanan dari Loop ke Bandara berbeda ketika hujan di hari Sabtu.')\n",
    "else:\n",
    "    print('Kita menolak hipotesis 0. Rata-rata durasi perjalanan dari Loop ke Bandara tidak jauh berbeda dan atau sama ketika hujan di hari Sabtu.')"
   ]
  },
  {
   "cell_type": "markdown",
   "metadata": {},
   "source": [
    "Pada pengujian hipotesis kali ini, probabilitas rata-rata durasi perjalanan dari Loop ke Bandara sama sangat kecil dengan nilai dibawah 1%. Sehingga dapat disimpulkan bahwa durasi rata-rata durasi perjalanan berbeda ketika hujan terjadi. "
   ]
  },
  {
   "cell_type": "markdown",
   "metadata": {},
   "source": [
    "## Kesimpulan "
   ]
  },
  {
   "cell_type": "markdown",
   "metadata": {},
   "source": [
    "Pada penelitian ini, tidak banyak masalah yang kita dapatkan pada fase pra-pemrosesan data. Karena data yang kita terima sudah dalam kondisi yang sangat baik untuk dianalisa. Dan dari hasil analisa yang dilakukan, kita mendapatkan informasi bahwa Flash Cab merupakan perusahaan taksi yang paling populer pada tanggal 15-16 November 2017. Dan kota Loop menjadi kota dengan rata-rata destinasi terbanyak di bulan November 2017. \n",
    "\n",
    "Hipotesis yang diberikan juga sesuai dengan hasil uji hipotesis yang dilakukan. Dari hasil pengujian, juga terbukti bahwa rata-rata durasi perjalanan dari Loop ke Bandara O'Hare pada hari sabtu berbeda ketika hujan, dengan durasi lebih lama. "
   ]
  }
 ],
 "metadata": {
  "kernelspec": {
   "display_name": "Python 3 (ipykernel)",
   "language": "python",
   "name": "python3"
  },
  "language_info": {
   "codemirror_mode": {
    "name": "ipython",
    "version": 3
   },
   "file_extension": ".py",
   "mimetype": "text/x-python",
   "name": "python",
   "nbconvert_exporter": "python",
   "pygments_lexer": "ipython3",
   "version": "3.11.5"
  },
  "toc": {
   "base_numbering": 1,
   "nav_menu": {},
   "number_sections": true,
   "sideBar": true,
   "skip_h1_title": true,
   "title_cell": "Table of Contents",
   "title_sidebar": "Contents",
   "toc_cell": false,
   "toc_position": {},
   "toc_section_display": true,
   "toc_window_display": false
  }
 },
 "nbformat": 4,
 "nbformat_minor": 2
}
